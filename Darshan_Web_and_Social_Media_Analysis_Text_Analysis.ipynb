{
 "cells": [
  {
   "cell_type": "markdown",
   "metadata": {
    "id": "SghXPGZTml3y"
   },
   "source": [
    "                                                        **START OF NOTEBOOK** "
   ]
  },
  {
   "cell_type": "markdown",
   "metadata": {
    "id": "j-x3bp6qm8jA"
   },
   "source": [
    "Goal of the Project : \n",
    "\n",
    "\n",
    "> Customer is a mobile manufacturer based in the US, which entered the market three years ago. As they are a new entrant in the sector, they want to understand their competitors and preferences of their users so that they can design their strategies accordingly. They want to tweak the marketing strategies to add more value to their brand, provide features to customers that add the most value, and close the demand-supply gap. Their objective is to increase the market share as well as the brand value.\n",
    "\n",
    "\n",
    "\n",
    "> We will be performing below activities :\n",
    "\n",
    "\n",
    "> 1. Reading the Data\n",
    "> 2. Exploratory Data Anlysis\n",
    "> 3. Text Analysis\n",
    "> 4. Review Text Classifier : Multinomial Naive Bayes\n",
    "\n",
    "\n",
    "\n",
    "\n",
    "\n",
    "\n",
    "\n"
   ]
  },
  {
   "cell_type": "code",
   "execution_count": null,
   "metadata": {
    "colab": {
     "base_uri": "https://localhost:8080/"
    },
    "id": "_ceSjpkEndWi",
    "outputId": "760696db-9922-43f7-882f-b4042541913f"
   },
   "outputs": [
    {
     "name": "stdout",
     "output_type": "stream",
     "text": [
      "Mounted at /content/drive\n"
     ]
    }
   ],
   "source": [
    "from google.colab import drive\n",
    "drive.mount('/content/drive')"
   ]
  },
  {
   "cell_type": "code",
   "execution_count": null,
   "metadata": {
    "id": "epGnRL7-ngmc"
   },
   "outputs": [],
   "source": [
    "import pandas as pd\n",
    "import numpy as np"
   ]
  },
  {
   "cell_type": "markdown",
   "metadata": {
    "id": "abKoveqU8O-D"
   },
   "source": [
    "### **The following data sets are available**"
   ]
  },
  {
   "cell_type": "markdown",
   "metadata": {
    "id": "YBAWPv3a8cSD"
   },
   "source": [
    "\n",
    "\n",
    "1.   meta data of type .json\n",
    "2.   phone data of type .csv\n",
    "\n",
    "\n",
    "\n"
   ]
  },
  {
   "cell_type": "markdown",
   "metadata": {
    "id": "I6FqovOf8olE"
   },
   "source": [
    "The meta data holds information from sellers point of view and the phone data holds user information. We begin by unzipping the meta data file and extracting its content to a list"
   ]
  },
  {
   "cell_type": "markdown",
   "metadata": {
    "id": "GlT8AFoN8G1h"
   },
   "source": [
    "# **Reading the Data**"
   ]
  },
  {
   "cell_type": "code",
   "execution_count": null,
   "metadata": {
    "id": "itoXZTqBniRG"
   },
   "outputs": [],
   "source": [
    "# Reading the meta data\n",
    "# importing libraries\n",
    "\n",
    "import gzip\n",
    "import shutil\n",
    "\n",
    "#Path to the meta data zip file. 'sentiment_analysis' is the folder name under 'My Drive'\n",
    "path1 = '/content/drive/MyDrive/Capstone_project/sentiment_analysis/meta_Cell_Phones_and_Accessories.json.gz'\n",
    "\n",
    "# Path to meta data .json file\n",
    "path2 = '/content/drive/MyDrive/Capstone_project/sentiment_analysis.json'\n",
    "\n",
    "# Unzipping the meta data file\n",
    "with gzip.open(path1, 'rb') as f_in:\n",
    "    with open(path2, 'wb') as f_out:\n",
    "        shutil.copyfileobj(f_in, f_out)"
   ]
  },
  {
   "cell_type": "code",
   "execution_count": null,
   "metadata": {
    "id": "UB2gc2OTo7Ht"
   },
   "outputs": [],
   "source": [
    "# Reading the unzipped meta data into a Python list. The result will be a list of dictionaries. \n",
    "import json\n",
    "\n",
    "# Empty list to store the dictonaries\n",
    "phonemetadata = []\n",
    "\n",
    "# Reading the dictionaries in the json file and appending it to the list phonemetadata[]\n",
    "with open(path2, 'r') as f:\n",
    "    for line in f:\n",
    "        phonemetadata.append(json.loads(line))"
   ]
  },
  {
   "cell_type": "code",
   "execution_count": null,
   "metadata": {
    "colab": {
     "base_uri": "https://localhost:8080/"
    },
    "id": "orDXMZ9ery7R",
    "outputId": "f053901d-3efa-40f6-8c45-c0a6b32d89dd"
   },
   "outputs": [
    {
     "data": {
      "text/plain": [
       "590071"
      ]
     },
     "execution_count": 5,
     "metadata": {},
     "output_type": "execute_result"
    }
   ],
   "source": [
    "# Getting the number of entries in the phonemetadata list\n",
    "len(phonemetadata)"
   ]
  },
  {
   "cell_type": "code",
   "execution_count": null,
   "metadata": {
    "id": "eITW-Jglr2bU"
   },
   "outputs": [],
   "source": [
    "#converting the list phonemetadata into a data frame\n",
    "df_meta=pd.DataFrame(phonemetadata)"
   ]
  },
  {
   "cell_type": "code",
   "execution_count": null,
   "metadata": {
    "colab": {
     "base_uri": "https://localhost:8080/"
    },
    "id": "RrwdDP39r6LU",
    "outputId": "3c762f0e-be11-4e2f-a41f-869c92103bd9"
   },
   "outputs": [
    {
     "name": "stderr",
     "output_type": "stream",
     "text": [
      "/usr/local/lib/python3.7/dist-packages/IPython/core/interactiveshell.py:2882: DtypeWarning: Columns (9) have mixed types.Specify dtype option on import or set low_memory=False.\n",
      "  exec(code_obj, self.user_global_ns, self.user_ns)\n"
     ]
    }
   ],
   "source": [
    "#Reading the .csv file of the phone data into a dataframe\n",
    "\n",
    "df_phonedata = pd.read_csv('/content/drive/MyDrive/Capstone_project/sentiment_analysis/Cell_Phones_and_Accessories_5.csv')"
   ]
  },
  {
   "cell_type": "code",
   "execution_count": null,
   "metadata": {
    "colab": {
     "base_uri": "https://localhost:8080/",
     "height": 337
    },
    "id": "f-JNoGUEr6ei",
    "outputId": "18689cff-2e04-41e0-a85a-5d60d6ee88a6"
   },
   "outputs": [
    {
     "data": {
      "text/html": [
       "\n",
       "  <div id=\"df-db037b28-e7d5-44d4-be52-529e0ce446ee\">\n",
       "    <div class=\"colab-df-container\">\n",
       "      <div>\n",
       "<style scoped>\n",
       "    .dataframe tbody tr th:only-of-type {\n",
       "        vertical-align: middle;\n",
       "    }\n",
       "\n",
       "    .dataframe tbody tr th {\n",
       "        vertical-align: top;\n",
       "    }\n",
       "\n",
       "    .dataframe thead th {\n",
       "        text-align: right;\n",
       "    }\n",
       "</style>\n",
       "<table border=\"1\" class=\"dataframe\">\n",
       "  <thead>\n",
       "    <tr style=\"text-align: right;\">\n",
       "      <th></th>\n",
       "      <th>overall</th>\n",
       "      <th>verified</th>\n",
       "      <th>reviewerID</th>\n",
       "      <th>asin</th>\n",
       "      <th>style</th>\n",
       "      <th>reviewerName</th>\n",
       "      <th>reviewText</th>\n",
       "      <th>summary</th>\n",
       "      <th>unixReviewTime</th>\n",
       "      <th>vote</th>\n",
       "      <th>image</th>\n",
       "      <th>review_sentiment</th>\n",
       "    </tr>\n",
       "  </thead>\n",
       "  <tbody>\n",
       "    <tr>\n",
       "      <th>0</th>\n",
       "      <td>5.0</td>\n",
       "      <td>True</td>\n",
       "      <td>A24E3SXTC62LJI</td>\n",
       "      <td>7508492919</td>\n",
       "      <td>{'Color:': ' Bling'}</td>\n",
       "      <td>Claudia Valdivia</td>\n",
       "      <td>Looks even better in person. Be careful to not...</td>\n",
       "      <td>Can't stop won't stop looking at it</td>\n",
       "      <td>1407110400</td>\n",
       "      <td>NaN</td>\n",
       "      <td>NaN</td>\n",
       "      <td>POSITIVE</td>\n",
       "    </tr>\n",
       "    <tr>\n",
       "      <th>1</th>\n",
       "      <td>5.0</td>\n",
       "      <td>True</td>\n",
       "      <td>A269FLZCB4GIPV</td>\n",
       "      <td>7508492919</td>\n",
       "      <td>NaN</td>\n",
       "      <td>sarah ponce</td>\n",
       "      <td>When you don't want to spend a whole lot of ca...</td>\n",
       "      <td>1</td>\n",
       "      <td>1392163200</td>\n",
       "      <td>NaN</td>\n",
       "      <td>NaN</td>\n",
       "      <td>POSITIVE</td>\n",
       "    </tr>\n",
       "    <tr>\n",
       "      <th>2</th>\n",
       "      <td>3.0</td>\n",
       "      <td>True</td>\n",
       "      <td>AB6CHQWHZW4TV</td>\n",
       "      <td>7508492919</td>\n",
       "      <td>NaN</td>\n",
       "      <td>Kai</td>\n",
       "      <td>so the case came on time, i love the design. I...</td>\n",
       "      <td>Its okay</td>\n",
       "      <td>1391817600</td>\n",
       "      <td>NaN</td>\n",
       "      <td>NaN</td>\n",
       "      <td>NEGATIVE</td>\n",
       "    </tr>\n",
       "    <tr>\n",
       "      <th>3</th>\n",
       "      <td>2.0</td>\n",
       "      <td>True</td>\n",
       "      <td>A1M117A53LEI8</td>\n",
       "      <td>7508492919</td>\n",
       "      <td>NaN</td>\n",
       "      <td>Sharon Williams</td>\n",
       "      <td>DON'T CARE FOR IT.  GAVE IT AS A GIFT AND THEY...</td>\n",
       "      <td>CASE</td>\n",
       "      <td>1391472000</td>\n",
       "      <td>NaN</td>\n",
       "      <td>NaN</td>\n",
       "      <td>POSITIVE</td>\n",
       "    </tr>\n",
       "    <tr>\n",
       "      <th>4</th>\n",
       "      <td>4.0</td>\n",
       "      <td>True</td>\n",
       "      <td>A272DUT8M88ZS8</td>\n",
       "      <td>7508492919</td>\n",
       "      <td>NaN</td>\n",
       "      <td>Bella Rodriguez</td>\n",
       "      <td>I liked it because it was cute, but the studs ...</td>\n",
       "      <td>Cute!</td>\n",
       "      <td>1391385600</td>\n",
       "      <td>NaN</td>\n",
       "      <td>NaN</td>\n",
       "      <td>POSITIVE</td>\n",
       "    </tr>\n",
       "  </tbody>\n",
       "</table>\n",
       "</div>\n",
       "      <button class=\"colab-df-convert\" onclick=\"convertToInteractive('df-db037b28-e7d5-44d4-be52-529e0ce446ee')\"\n",
       "              title=\"Convert this dataframe to an interactive table.\"\n",
       "              style=\"display:none;\">\n",
       "        \n",
       "  <svg xmlns=\"http://www.w3.org/2000/svg\" height=\"24px\"viewBox=\"0 0 24 24\"\n",
       "       width=\"24px\">\n",
       "    <path d=\"M0 0h24v24H0V0z\" fill=\"none\"/>\n",
       "    <path d=\"M18.56 5.44l.94 2.06.94-2.06 2.06-.94-2.06-.94-.94-2.06-.94 2.06-2.06.94zm-11 1L8.5 8.5l.94-2.06 2.06-.94-2.06-.94L8.5 2.5l-.94 2.06-2.06.94zm10 10l.94 2.06.94-2.06 2.06-.94-2.06-.94-.94-2.06-.94 2.06-2.06.94z\"/><path d=\"M17.41 7.96l-1.37-1.37c-.4-.4-.92-.59-1.43-.59-.52 0-1.04.2-1.43.59L10.3 9.45l-7.72 7.72c-.78.78-.78 2.05 0 2.83L4 21.41c.39.39.9.59 1.41.59.51 0 1.02-.2 1.41-.59l7.78-7.78 2.81-2.81c.8-.78.8-2.07 0-2.86zM5.41 20L4 18.59l7.72-7.72 1.47 1.35L5.41 20z\"/>\n",
       "  </svg>\n",
       "      </button>\n",
       "      \n",
       "  <style>\n",
       "    .colab-df-container {\n",
       "      display:flex;\n",
       "      flex-wrap:wrap;\n",
       "      gap: 12px;\n",
       "    }\n",
       "\n",
       "    .colab-df-convert {\n",
       "      background-color: #E8F0FE;\n",
       "      border: none;\n",
       "      border-radius: 50%;\n",
       "      cursor: pointer;\n",
       "      display: none;\n",
       "      fill: #1967D2;\n",
       "      height: 32px;\n",
       "      padding: 0 0 0 0;\n",
       "      width: 32px;\n",
       "    }\n",
       "\n",
       "    .colab-df-convert:hover {\n",
       "      background-color: #E2EBFA;\n",
       "      box-shadow: 0px 1px 2px rgba(60, 64, 67, 0.3), 0px 1px 3px 1px rgba(60, 64, 67, 0.15);\n",
       "      fill: #174EA6;\n",
       "    }\n",
       "\n",
       "    [theme=dark] .colab-df-convert {\n",
       "      background-color: #3B4455;\n",
       "      fill: #D2E3FC;\n",
       "    }\n",
       "\n",
       "    [theme=dark] .colab-df-convert:hover {\n",
       "      background-color: #434B5C;\n",
       "      box-shadow: 0px 1px 3px 1px rgba(0, 0, 0, 0.15);\n",
       "      filter: drop-shadow(0px 1px 2px rgba(0, 0, 0, 0.3));\n",
       "      fill: #FFFFFF;\n",
       "    }\n",
       "  </style>\n",
       "\n",
       "      <script>\n",
       "        const buttonEl =\n",
       "          document.querySelector('#df-db037b28-e7d5-44d4-be52-529e0ce446ee button.colab-df-convert');\n",
       "        buttonEl.style.display =\n",
       "          google.colab.kernel.accessAllowed ? 'block' : 'none';\n",
       "\n",
       "        async function convertToInteractive(key) {\n",
       "          const element = document.querySelector('#df-db037b28-e7d5-44d4-be52-529e0ce446ee');\n",
       "          const dataTable =\n",
       "            await google.colab.kernel.invokeFunction('convertToInteractive',\n",
       "                                                     [key], {});\n",
       "          if (!dataTable) return;\n",
       "\n",
       "          const docLinkHtml = 'Like what you see? Visit the ' +\n",
       "            '<a target=\"_blank\" href=https://colab.research.google.com/notebooks/data_table.ipynb>data table notebook</a>'\n",
       "            + ' to learn more about interactive tables.';\n",
       "          element.innerHTML = '';\n",
       "          dataTable['output_type'] = 'display_data';\n",
       "          await google.colab.output.renderOutput(dataTable, element);\n",
       "          const docLink = document.createElement('div');\n",
       "          docLink.innerHTML = docLinkHtml;\n",
       "          element.appendChild(docLink);\n",
       "        }\n",
       "      </script>\n",
       "    </div>\n",
       "  </div>\n",
       "  "
      ],
      "text/plain": [
       "   overall  verified      reviewerID  ... vote image review_sentiment\n",
       "0      5.0      True  A24E3SXTC62LJI  ...  NaN   NaN         POSITIVE\n",
       "1      5.0      True  A269FLZCB4GIPV  ...  NaN   NaN         POSITIVE\n",
       "2      3.0      True   AB6CHQWHZW4TV  ...  NaN   NaN         NEGATIVE\n",
       "3      2.0      True   A1M117A53LEI8  ...  NaN   NaN         POSITIVE\n",
       "4      4.0      True  A272DUT8M88ZS8  ...  NaN   NaN         POSITIVE\n",
       "\n",
       "[5 rows x 12 columns]"
      ]
     },
     "execution_count": 8,
     "metadata": {},
     "output_type": "execute_result"
    }
   ],
   "source": [
    "df_phonedata.head(5)"
   ]
  },
  {
   "cell_type": "code",
   "execution_count": null,
   "metadata": {
    "colab": {
     "base_uri": "https://localhost:8080/",
     "height": 704
    },
    "id": "38hU49jNsk6i",
    "outputId": "2d82af3d-700a-455b-a20d-c44cf53da113"
   },
   "outputs": [
    {
     "data": {
      "text/html": [
       "\n",
       "  <div id=\"df-19ca554e-2155-4bda-85b0-fa7fea433e10\">\n",
       "    <div class=\"colab-df-container\">\n",
       "      <div>\n",
       "<style scoped>\n",
       "    .dataframe tbody tr th:only-of-type {\n",
       "        vertical-align: middle;\n",
       "    }\n",
       "\n",
       "    .dataframe tbody tr th {\n",
       "        vertical-align: top;\n",
       "    }\n",
       "\n",
       "    .dataframe thead th {\n",
       "        text-align: right;\n",
       "    }\n",
       "</style>\n",
       "<table border=\"1\" class=\"dataframe\">\n",
       "  <thead>\n",
       "    <tr style=\"text-align: right;\">\n",
       "      <th></th>\n",
       "      <th>category</th>\n",
       "      <th>tech1</th>\n",
       "      <th>description</th>\n",
       "      <th>fit</th>\n",
       "      <th>title</th>\n",
       "      <th>also_buy</th>\n",
       "      <th>image</th>\n",
       "      <th>tech2</th>\n",
       "      <th>brand</th>\n",
       "      <th>feature</th>\n",
       "      <th>rank</th>\n",
       "      <th>also_view</th>\n",
       "      <th>details</th>\n",
       "      <th>main_cat</th>\n",
       "      <th>similar_item</th>\n",
       "      <th>date</th>\n",
       "      <th>price</th>\n",
       "      <th>asin</th>\n",
       "    </tr>\n",
       "  </thead>\n",
       "  <tbody>\n",
       "    <tr>\n",
       "      <th>0</th>\n",
       "      <td>[Cell Phones &amp; Accessories, Accessories, Scree...</td>\n",
       "      <td></td>\n",
       "      <td>[]</td>\n",
       "      <td></td>\n",
       "      <td>Trollies Sing a Long Party VHS</td>\n",
       "      <td>[]</td>\n",
       "      <td>[]</td>\n",
       "      <td></td>\n",
       "      <td></td>\n",
       "      <td>[]</td>\n",
       "      <td>557,379 in Movies &amp; TV (</td>\n",
       "      <td>[]</td>\n",
       "      <td>{'ASIN: ': '6303195164'}</td>\n",
       "      <td>Movies &amp; TV</td>\n",
       "      <td></td>\n",
       "      <td></td>\n",
       "      <td></td>\n",
       "      <td>6303195164</td>\n",
       "    </tr>\n",
       "    <tr>\n",
       "      <th>1</th>\n",
       "      <td>[Cell Phones &amp; Accessories, Accessories, Car A...</td>\n",
       "      <td></td>\n",
       "      <td>[]</td>\n",
       "      <td></td>\n",
       "      <td>La Pura VHS</td>\n",
       "      <td>[]</td>\n",
       "      <td>[]</td>\n",
       "      <td></td>\n",
       "      <td>Maribel Guardia</td>\n",
       "      <td>[]</td>\n",
       "      <td>1,024,449 in Movies &amp; TV (</td>\n",
       "      <td>[]</td>\n",
       "      <td>{'ASIN: ': '630524412X'}</td>\n",
       "      <td>Movies &amp; TV</td>\n",
       "      <td></td>\n",
       "      <td></td>\n",
       "      <td></td>\n",
       "      <td>630524412X</td>\n",
       "    </tr>\n",
       "    <tr>\n",
       "      <th>2</th>\n",
       "      <td>[Cell Phones &amp; Accessories, Cases, Holsters &amp; ...</td>\n",
       "      <td></td>\n",
       "      <td>[New items to give you a new good mood, welcom...</td>\n",
       "      <td></td>\n",
       "      <td>Leopard Thanksgiving Easter PC Black Case for ...</td>\n",
       "      <td>[]</td>\n",
       "      <td>[]</td>\n",
       "      <td></td>\n",
       "      <td></td>\n",
       "      <td>[]</td>\n",
       "      <td>5,315,017 in Books (</td>\n",
       "      <td>[]</td>\n",
       "      <td>{'Publisher:': 'juduiou', 'ASIN:': '6310200240...</td>\n",
       "      <td>Books</td>\n",
       "      <td></td>\n",
       "      <td></td>\n",
       "      <td></td>\n",
       "      <td>6310200240</td>\n",
       "    </tr>\n",
       "    <tr>\n",
       "      <th>3</th>\n",
       "      <td>[Cell Phones &amp; Accessories, Cases, Holsters &amp; ...</td>\n",
       "      <td></td>\n",
       "      <td>[A brand-new, unused, unopened, undamaged item...</td>\n",
       "      <td></td>\n",
       "      <td>Puppies Faceplate Hard Case Protector for Net1...</td>\n",
       "      <td>[]</td>\n",
       "      <td>[]</td>\n",
       "      <td></td>\n",
       "      <td>Live2Pedal</td>\n",
       "      <td>[Protect your phone with style through this At...</td>\n",
       "      <td>[&gt;#6,368,825 in Cell Phones &amp; Accessories (See...</td>\n",
       "      <td>[]</td>\n",
       "      <td>{}</td>\n",
       "      <td>Cell Phones &amp; Accessories</td>\n",
       "      <td></td>\n",
       "      <td></td>\n",
       "      <td></td>\n",
       "      <td>6786501710</td>\n",
       "    </tr>\n",
       "    <tr>\n",
       "      <th>4</th>\n",
       "      <td>[Cell Phones &amp; Accessories, Cases, Holsters &amp; ...</td>\n",
       "      <td></td>\n",
       "      <td>[A brand-new, unused, unopened, undamaged item...</td>\n",
       "      <td></td>\n",
       "      <td>White Wolf Faceplate Protector Hard Case for S...</td>\n",
       "      <td>[]</td>\n",
       "      <td>[]</td>\n",
       "      <td></td>\n",
       "      <td>wirelessoutletusa</td>\n",
       "      <td>[Protect your phone with style through this At...</td>\n",
       "      <td>[&gt;#2,672,454 in Cell Phones &amp; Accessories (See...</td>\n",
       "      <td>[]</td>\n",
       "      <td>{}</td>\n",
       "      <td>Cell Phones &amp; Accessories</td>\n",
       "      <td></td>\n",
       "      <td></td>\n",
       "      <td></td>\n",
       "      <td>6786501273</td>\n",
       "    </tr>\n",
       "  </tbody>\n",
       "</table>\n",
       "</div>\n",
       "      <button class=\"colab-df-convert\" onclick=\"convertToInteractive('df-19ca554e-2155-4bda-85b0-fa7fea433e10')\"\n",
       "              title=\"Convert this dataframe to an interactive table.\"\n",
       "              style=\"display:none;\">\n",
       "        \n",
       "  <svg xmlns=\"http://www.w3.org/2000/svg\" height=\"24px\"viewBox=\"0 0 24 24\"\n",
       "       width=\"24px\">\n",
       "    <path d=\"M0 0h24v24H0V0z\" fill=\"none\"/>\n",
       "    <path d=\"M18.56 5.44l.94 2.06.94-2.06 2.06-.94-2.06-.94-.94-2.06-.94 2.06-2.06.94zm-11 1L8.5 8.5l.94-2.06 2.06-.94-2.06-.94L8.5 2.5l-.94 2.06-2.06.94zm10 10l.94 2.06.94-2.06 2.06-.94-2.06-.94-.94-2.06-.94 2.06-2.06.94z\"/><path d=\"M17.41 7.96l-1.37-1.37c-.4-.4-.92-.59-1.43-.59-.52 0-1.04.2-1.43.59L10.3 9.45l-7.72 7.72c-.78.78-.78 2.05 0 2.83L4 21.41c.39.39.9.59 1.41.59.51 0 1.02-.2 1.41-.59l7.78-7.78 2.81-2.81c.8-.78.8-2.07 0-2.86zM5.41 20L4 18.59l7.72-7.72 1.47 1.35L5.41 20z\"/>\n",
       "  </svg>\n",
       "      </button>\n",
       "      \n",
       "  <style>\n",
       "    .colab-df-container {\n",
       "      display:flex;\n",
       "      flex-wrap:wrap;\n",
       "      gap: 12px;\n",
       "    }\n",
       "\n",
       "    .colab-df-convert {\n",
       "      background-color: #E8F0FE;\n",
       "      border: none;\n",
       "      border-radius: 50%;\n",
       "      cursor: pointer;\n",
       "      display: none;\n",
       "      fill: #1967D2;\n",
       "      height: 32px;\n",
       "      padding: 0 0 0 0;\n",
       "      width: 32px;\n",
       "    }\n",
       "\n",
       "    .colab-df-convert:hover {\n",
       "      background-color: #E2EBFA;\n",
       "      box-shadow: 0px 1px 2px rgba(60, 64, 67, 0.3), 0px 1px 3px 1px rgba(60, 64, 67, 0.15);\n",
       "      fill: #174EA6;\n",
       "    }\n",
       "\n",
       "    [theme=dark] .colab-df-convert {\n",
       "      background-color: #3B4455;\n",
       "      fill: #D2E3FC;\n",
       "    }\n",
       "\n",
       "    [theme=dark] .colab-df-convert:hover {\n",
       "      background-color: #434B5C;\n",
       "      box-shadow: 0px 1px 3px 1px rgba(0, 0, 0, 0.15);\n",
       "      filter: drop-shadow(0px 1px 2px rgba(0, 0, 0, 0.3));\n",
       "      fill: #FFFFFF;\n",
       "    }\n",
       "  </style>\n",
       "\n",
       "      <script>\n",
       "        const buttonEl =\n",
       "          document.querySelector('#df-19ca554e-2155-4bda-85b0-fa7fea433e10 button.colab-df-convert');\n",
       "        buttonEl.style.display =\n",
       "          google.colab.kernel.accessAllowed ? 'block' : 'none';\n",
       "\n",
       "        async function convertToInteractive(key) {\n",
       "          const element = document.querySelector('#df-19ca554e-2155-4bda-85b0-fa7fea433e10');\n",
       "          const dataTable =\n",
       "            await google.colab.kernel.invokeFunction('convertToInteractive',\n",
       "                                                     [key], {});\n",
       "          if (!dataTable) return;\n",
       "\n",
       "          const docLinkHtml = 'Like what you see? Visit the ' +\n",
       "            '<a target=\"_blank\" href=https://colab.research.google.com/notebooks/data_table.ipynb>data table notebook</a>'\n",
       "            + ' to learn more about interactive tables.';\n",
       "          element.innerHTML = '';\n",
       "          dataTable['output_type'] = 'display_data';\n",
       "          await google.colab.output.renderOutput(dataTable, element);\n",
       "          const docLink = document.createElement('div');\n",
       "          docLink.innerHTML = docLinkHtml;\n",
       "          element.appendChild(docLink);\n",
       "        }\n",
       "      </script>\n",
       "    </div>\n",
       "  </div>\n",
       "  "
      ],
      "text/plain": [
       "                                            category tech1  ... price        asin\n",
       "0  [Cell Phones & Accessories, Accessories, Scree...        ...        6303195164\n",
       "1  [Cell Phones & Accessories, Accessories, Car A...        ...        630524412X\n",
       "2  [Cell Phones & Accessories, Cases, Holsters & ...        ...        6310200240\n",
       "3  [Cell Phones & Accessories, Cases, Holsters & ...        ...        6786501710\n",
       "4  [Cell Phones & Accessories, Cases, Holsters & ...        ...        6786501273\n",
       "\n",
       "[5 rows x 18 columns]"
      ]
     },
     "execution_count": 9,
     "metadata": {},
     "output_type": "execute_result"
    }
   ],
   "source": [
    "df_meta.head(5)"
   ]
  },
  {
   "cell_type": "markdown",
   "metadata": {
    "id": "xxYJ3y-hiCay"
   },
   "source": [
    "Filter the category with values of Cell Phones **only**\n"
   ]
  },
  {
   "cell_type": "code",
   "execution_count": null,
   "metadata": {
    "colab": {
     "base_uri": "https://localhost:8080/",
     "height": 1000
    },
    "id": "Ci7_Y7AWvUgv",
    "outputId": "b42d9fe2-834e-4c4e-a437-31a34ac39fd8"
   },
   "outputs": [
    {
     "data": {
      "text/html": [
       "\n",
       "  <div id=\"df-70fe18bb-9c25-419a-bf82-7739e0ded2c3\">\n",
       "    <div class=\"colab-df-container\">\n",
       "      <div>\n",
       "<style scoped>\n",
       "    .dataframe tbody tr th:only-of-type {\n",
       "        vertical-align: middle;\n",
       "    }\n",
       "\n",
       "    .dataframe tbody tr th {\n",
       "        vertical-align: top;\n",
       "    }\n",
       "\n",
       "    .dataframe thead th {\n",
       "        text-align: right;\n",
       "    }\n",
       "</style>\n",
       "<table border=\"1\" class=\"dataframe\">\n",
       "  <thead>\n",
       "    <tr style=\"text-align: right;\">\n",
       "      <th></th>\n",
       "      <th>category</th>\n",
       "      <th>tech1</th>\n",
       "      <th>description</th>\n",
       "      <th>fit</th>\n",
       "      <th>title</th>\n",
       "      <th>also_buy</th>\n",
       "      <th>image</th>\n",
       "      <th>tech2</th>\n",
       "      <th>brand</th>\n",
       "      <th>feature</th>\n",
       "      <th>rank</th>\n",
       "      <th>also_view</th>\n",
       "      <th>details</th>\n",
       "      <th>main_cat</th>\n",
       "      <th>similar_item</th>\n",
       "      <th>date</th>\n",
       "      <th>price</th>\n",
       "      <th>asin</th>\n",
       "      <th>catfilter</th>\n",
       "    </tr>\n",
       "  </thead>\n",
       "  <tbody>\n",
       "    <tr>\n",
       "      <th>36</th>\n",
       "      <td>[Cell Phones &amp; Accessories, Cell Phones, Unloc...</td>\n",
       "      <td></td>\n",
       "      <td>[ICE CENIOR *SENIOR PHONE*, QUAD BAND Super bi...</td>\n",
       "      <td></td>\n",
       "      <td>UNLOCKED DUAL SIM SLOT *CENIOR PHONE* QUAD BAN...</td>\n",
       "      <td>[]</td>\n",
       "      <td>[https://images-na.ssl-images-amazon.com/image...</td>\n",
       "      <td></td>\n",
       "      <td>Ice</td>\n",
       "      <td>[2G NETWORK, Quad Band: GSM 850/900/1800/1900 ...</td>\n",
       "      <td>[&gt;#6,356,920 in Cell Phones &amp; Accessories (See...</td>\n",
       "      <td>[]</td>\n",
       "      <td>{}</td>\n",
       "      <td>Cell Phones &amp; Accessories</td>\n",
       "      <td></td>\n",
       "      <td></td>\n",
       "      <td></td>\n",
       "      <td>8050110508</td>\n",
       "      <td>Cell Phones</td>\n",
       "    </tr>\n",
       "    <tr>\n",
       "      <th>1274</th>\n",
       "      <td>[Cell Phones &amp; Accessories, Cell Phones, Unloc...</td>\n",
       "      <td></td>\n",
       "      <td>[Standard package: 1 x original phone 1 x Qual...</td>\n",
       "      <td></td>\n",
       "      <td>Nokia 3310 Blue Nokia</td>\n",
       "      <td>[B075FL4H89, B00R25GJJW]</td>\n",
       "      <td>[https://images-na.ssl-images-amazon.com/image...</td>\n",
       "      <td></td>\n",
       "      <td>Nokia</td>\n",
       "      <td>[GSM 900/1800, Simple and elegant, Classic mod...</td>\n",
       "      <td>[&gt;#32,759 in Electronics (See Top 100 in Elect...</td>\n",
       "      <td>[B075FL4H89, B075FKZMR2, B00TLWTJLO, B0757B64H...</td>\n",
       "      <td>{}</td>\n",
       "      <td>All Electronics</td>\n",
       "      <td>class=\"a-bordered a-horizontal-stripes  a-spa...</td>\n",
       "      <td>October 19, 2014</td>\n",
       "      <td></td>\n",
       "      <td>B00005KBGR</td>\n",
       "      <td>Cell Phones</td>\n",
       "    </tr>\n",
       "    <tr>\n",
       "      <th>1354</th>\n",
       "      <td>[Cell Phones &amp; Accessories, Cell Phones, Carri...</td>\n",
       "      <td></td>\n",
       "      <td>[Based on Motorola&amp;#x92;s i90c phone, the i95c...</td>\n",
       "      <td></td>\n",
       "      <td>Motorola i95cl Phone (Nextel)</td>\n",
       "      <td>[]</td>\n",
       "      <td>[https://images-na.ssl-images-amazon.com/image...</td>\n",
       "      <td></td>\n",
       "      <td></td>\n",
       "      <td>[]</td>\n",
       "      <td>[&gt;#3,798,962 in Cell Phones &amp; Accessories (See...</td>\n",
       "      <td>[]</td>\n",
       "      <td>{}</td>\n",
       "      <td>Cell Phones &amp; Accessories</td>\n",
       "      <td></td>\n",
       "      <td></td>\n",
       "      <td></td>\n",
       "      <td>B00006J9HH</td>\n",
       "      <td>Cell Phones</td>\n",
       "    </tr>\n",
       "    <tr>\n",
       "      <th>1361</th>\n",
       "      <td>[Cell Phones &amp; Accessories, Cell Phones, Carri...</td>\n",
       "      <td></td>\n",
       "      <td>[This is a GSM Samsung R225 cellular phone tha...</td>\n",
       "      <td></td>\n",
       "      <td>T-Mobile Dual-Band Wireless Phone</td>\n",
       "      <td>[]</td>\n",
       "      <td>[https://images-na.ssl-images-amazon.com/image...</td>\n",
       "      <td></td>\n",
       "      <td>Samsung</td>\n",
       "      <td>[]</td>\n",
       "      <td>[&gt;#5,552,033 in Cell Phones &amp; Accessories (See...</td>\n",
       "      <td>[]</td>\n",
       "      <td>{}</td>\n",
       "      <td>Cell Phones &amp; Accessories</td>\n",
       "      <td></td>\n",
       "      <td></td>\n",
       "      <td></td>\n",
       "      <td>B00006LIQB</td>\n",
       "      <td>Cell Phones</td>\n",
       "    </tr>\n",
       "    <tr>\n",
       "      <th>1395</th>\n",
       "      <td>[Cell Phones &amp; Accessories, Cell Phones, Unloc...</td>\n",
       "      <td></td>\n",
       "      <td>[Dark Blue OEM faceplate, Wall charger and bat...</td>\n",
       "      <td></td>\n",
       "      <td>Unlocked Nokia 8290</td>\n",
       "      <td>[]</td>\n",
       "      <td>[https://images-na.ssl-images-amazon.com/image...</td>\n",
       "      <td></td>\n",
       "      <td>Nokia</td>\n",
       "      <td>[Modes GSM 1900, 2-way Text Messaging, MMS: No...</td>\n",
       "      <td>[&gt;#6,167,064 in Cell Phones &amp; Accessories (See...</td>\n",
       "      <td>[]</td>\n",
       "      <td>{}</td>\n",
       "      <td>Cell Phones &amp; Accessories</td>\n",
       "      <td></td>\n",
       "      <td></td>\n",
       "      <td></td>\n",
       "      <td>B00008KGAG</td>\n",
       "      <td>Cell Phones</td>\n",
       "    </tr>\n",
       "    <tr>\n",
       "      <th>...</th>\n",
       "      <td>...</td>\n",
       "      <td>...</td>\n",
       "      <td>...</td>\n",
       "      <td>...</td>\n",
       "      <td>...</td>\n",
       "      <td>...</td>\n",
       "      <td>...</td>\n",
       "      <td>...</td>\n",
       "      <td>...</td>\n",
       "      <td>...</td>\n",
       "      <td>...</td>\n",
       "      <td>...</td>\n",
       "      <td>...</td>\n",
       "      <td>...</td>\n",
       "      <td>...</td>\n",
       "      <td>...</td>\n",
       "      <td>...</td>\n",
       "      <td>...</td>\n",
       "      <td>...</td>\n",
       "    </tr>\n",
       "    <tr>\n",
       "      <th>589898</th>\n",
       "      <td>[Cell Phones &amp; Accessories, Cell Phones, Unloc...</td>\n",
       "      <td></td>\n",
       "      <td>[This is a New (Other) item with REAL PHOTOS o...</td>\n",
       "      <td></td>\n",
       "      <td>Samsung Galaxy Note 5 G920a 32GB Unlocked GSM ...</td>\n",
       "      <td>[]</td>\n",
       "      <td>[https://images-na.ssl-images-amazon.com/image...</td>\n",
       "      <td></td>\n",
       "      <td>Samsung</td>\n",
       "      <td>[This Certified Refurbished product is factory...</td>\n",
       "      <td>[&gt;#1,391,884 in Cell Phones &amp; Accessories (See...</td>\n",
       "      <td>[]</td>\n",
       "      <td>{}</td>\n",
       "      <td>Cell Phones &amp; Accessories</td>\n",
       "      <td></td>\n",
       "      <td></td>\n",
       "      <td></td>\n",
       "      <td>B01HIMOY5O</td>\n",
       "      <td>Cell Phones</td>\n",
       "    </tr>\n",
       "    <tr>\n",
       "      <th>589906</th>\n",
       "      <td>[Cell Phones &amp; Accessories, Cell Phones, Unloc...</td>\n",
       "      <td></td>\n",
       "      <td>[The new Xperia Z3 has the highest waterproof ...</td>\n",
       "      <td></td>\n",
       "      <td>Sony Xperia Z C6616 Unlocked GSM 4G LTE WaterP...</td>\n",
       "      <td>[]</td>\n",
       "      <td>[https://images-na.ssl-images-amazon.com/image...</td>\n",
       "      <td></td>\n",
       "      <td>Sony</td>\n",
       "      <td>[2G: 850 / 900 / 1800 / 1900, 3G: HSDPA 850 / ...</td>\n",
       "      <td>[&gt;#1,300,328 in Cell Phones &amp; Accessories (See...</td>\n",
       "      <td>[]</td>\n",
       "      <td>{}</td>\n",
       "      <td>Cell Phones &amp; Accessories</td>\n",
       "      <td></td>\n",
       "      <td></td>\n",
       "      <td></td>\n",
       "      <td>B01HIQ9DMY</td>\n",
       "      <td>Cell Phones</td>\n",
       "    </tr>\n",
       "    <tr>\n",
       "      <th>589908</th>\n",
       "      <td>[Cell Phones &amp; Accessories, Cell Phones, Unloc...</td>\n",
       "      <td></td>\n",
       "      <td>[Sim card: Dual SIM dual standby &lt;br&gt; Frequenc...</td>\n",
       "      <td></td>\n",
       "      <td>Futuretech&amp;reg; V9+ Dustproof Shakeproof smart...</td>\n",
       "      <td>[]</td>\n",
       "      <td>[https://images-na.ssl-images-amazon.com/image...</td>\n",
       "      <td></td>\n",
       "      <td>Future Tech</td>\n",
       "      <td>[MTK6580 1.3 Ghz, Quad Core, RAM 512MB + ROM 8...</td>\n",
       "      <td>[&gt;#1,797,901 in Cell Phones &amp; Accessories (See...</td>\n",
       "      <td>[]</td>\n",
       "      <td>{}</td>\n",
       "      <td>Cell Phones &amp; Accessories</td>\n",
       "      <td></td>\n",
       "      <td></td>\n",
       "      <td></td>\n",
       "      <td>B01HIQK3MI</td>\n",
       "      <td>Cell Phones</td>\n",
       "    </tr>\n",
       "    <tr>\n",
       "      <th>590015</th>\n",
       "      <td>[Cell Phones &amp; Accessories, Cell Phones, Unloc...</td>\n",
       "      <td></td>\n",
       "      <td>[&lt;b&gt;NOTE: US customized 4G version Doogee Vale...</td>\n",
       "      <td></td>\n",
       "      <td>Doogee Valencia 2 Y100 Pro - Unlocked Cellphon...</td>\n",
       "      <td>[]</td>\n",
       "      <td>[https://images-na.ssl-images-amazon.com/image...</td>\n",
       "      <td></td>\n",
       "      <td>DOOGEE</td>\n",
       "      <td>[US CUSTEMIZED VERSION GSM 850/900/1800/1900MH...</td>\n",
       "      <td>[&gt;#641,944 in Cell Phones &amp; Accessories (See T...</td>\n",
       "      <td>[]</td>\n",
       "      <td>{}</td>\n",
       "      <td>Cell Phones &amp; Accessories</td>\n",
       "      <td></td>\n",
       "      <td></td>\n",
       "      <td></td>\n",
       "      <td>B01HJ9X65A</td>\n",
       "      <td>Cell Phones</td>\n",
       "    </tr>\n",
       "    <tr>\n",
       "      <th>590019</th>\n",
       "      <td>[Cell Phones &amp; Accessories, Cell Phones, Unloc...</td>\n",
       "      <td></td>\n",
       "      <td>[&lt;b&gt;NOTE: US customized 4G version Doogee Vale...</td>\n",
       "      <td></td>\n",
       "      <td>Doogee Valencia 2 Y100 Pro - Unlocked Cellphon...</td>\n",
       "      <td>[]</td>\n",
       "      <td>[https://images-na.ssl-images-amazon.com/image...</td>\n",
       "      <td></td>\n",
       "      <td>DOOGEE</td>\n",
       "      <td>[US CUSTEMIZED VERSION GSM 850/900/1800/1900MH...</td>\n",
       "      <td>[&gt;#880,601 in Cell Phones &amp; Accessories (See T...</td>\n",
       "      <td>[]</td>\n",
       "      <td>{}</td>\n",
       "      <td>Cell Phones &amp; Accessories</td>\n",
       "      <td></td>\n",
       "      <td></td>\n",
       "      <td></td>\n",
       "      <td>B01HJ9X650</td>\n",
       "      <td>Cell Phones</td>\n",
       "    </tr>\n",
       "  </tbody>\n",
       "</table>\n",
       "<p>9685 rows × 19 columns</p>\n",
       "</div>\n",
       "      <button class=\"colab-df-convert\" onclick=\"convertToInteractive('df-70fe18bb-9c25-419a-bf82-7739e0ded2c3')\"\n",
       "              title=\"Convert this dataframe to an interactive table.\"\n",
       "              style=\"display:none;\">\n",
       "        \n",
       "  <svg xmlns=\"http://www.w3.org/2000/svg\" height=\"24px\"viewBox=\"0 0 24 24\"\n",
       "       width=\"24px\">\n",
       "    <path d=\"M0 0h24v24H0V0z\" fill=\"none\"/>\n",
       "    <path d=\"M18.56 5.44l.94 2.06.94-2.06 2.06-.94-2.06-.94-.94-2.06-.94 2.06-2.06.94zm-11 1L8.5 8.5l.94-2.06 2.06-.94-2.06-.94L8.5 2.5l-.94 2.06-2.06.94zm10 10l.94 2.06.94-2.06 2.06-.94-2.06-.94-.94-2.06-.94 2.06-2.06.94z\"/><path d=\"M17.41 7.96l-1.37-1.37c-.4-.4-.92-.59-1.43-.59-.52 0-1.04.2-1.43.59L10.3 9.45l-7.72 7.72c-.78.78-.78 2.05 0 2.83L4 21.41c.39.39.9.59 1.41.59.51 0 1.02-.2 1.41-.59l7.78-7.78 2.81-2.81c.8-.78.8-2.07 0-2.86zM5.41 20L4 18.59l7.72-7.72 1.47 1.35L5.41 20z\"/>\n",
       "  </svg>\n",
       "      </button>\n",
       "      \n",
       "  <style>\n",
       "    .colab-df-container {\n",
       "      display:flex;\n",
       "      flex-wrap:wrap;\n",
       "      gap: 12px;\n",
       "    }\n",
       "\n",
       "    .colab-df-convert {\n",
       "      background-color: #E8F0FE;\n",
       "      border: none;\n",
       "      border-radius: 50%;\n",
       "      cursor: pointer;\n",
       "      display: none;\n",
       "      fill: #1967D2;\n",
       "      height: 32px;\n",
       "      padding: 0 0 0 0;\n",
       "      width: 32px;\n",
       "    }\n",
       "\n",
       "    .colab-df-convert:hover {\n",
       "      background-color: #E2EBFA;\n",
       "      box-shadow: 0px 1px 2px rgba(60, 64, 67, 0.3), 0px 1px 3px 1px rgba(60, 64, 67, 0.15);\n",
       "      fill: #174EA6;\n",
       "    }\n",
       "\n",
       "    [theme=dark] .colab-df-convert {\n",
       "      background-color: #3B4455;\n",
       "      fill: #D2E3FC;\n",
       "    }\n",
       "\n",
       "    [theme=dark] .colab-df-convert:hover {\n",
       "      background-color: #434B5C;\n",
       "      box-shadow: 0px 1px 3px 1px rgba(0, 0, 0, 0.15);\n",
       "      filter: drop-shadow(0px 1px 2px rgba(0, 0, 0, 0.3));\n",
       "      fill: #FFFFFF;\n",
       "    }\n",
       "  </style>\n",
       "\n",
       "      <script>\n",
       "        const buttonEl =\n",
       "          document.querySelector('#df-70fe18bb-9c25-419a-bf82-7739e0ded2c3 button.colab-df-convert');\n",
       "        buttonEl.style.display =\n",
       "          google.colab.kernel.accessAllowed ? 'block' : 'none';\n",
       "\n",
       "        async function convertToInteractive(key) {\n",
       "          const element = document.querySelector('#df-70fe18bb-9c25-419a-bf82-7739e0ded2c3');\n",
       "          const dataTable =\n",
       "            await google.colab.kernel.invokeFunction('convertToInteractive',\n",
       "                                                     [key], {});\n",
       "          if (!dataTable) return;\n",
       "\n",
       "          const docLinkHtml = 'Like what you see? Visit the ' +\n",
       "            '<a target=\"_blank\" href=https://colab.research.google.com/notebooks/data_table.ipynb>data table notebook</a>'\n",
       "            + ' to learn more about interactive tables.';\n",
       "          element.innerHTML = '';\n",
       "          dataTable['output_type'] = 'display_data';\n",
       "          await google.colab.output.renderOutput(dataTable, element);\n",
       "          const docLink = document.createElement('div');\n",
       "          docLink.innerHTML = docLinkHtml;\n",
       "          element.appendChild(docLink);\n",
       "        }\n",
       "      </script>\n",
       "    </div>\n",
       "  </div>\n",
       "  "
      ],
      "text/plain": [
       "                                                 category  ...    catfilter\n",
       "36      [Cell Phones & Accessories, Cell Phones, Unloc...  ...  Cell Phones\n",
       "1274    [Cell Phones & Accessories, Cell Phones, Unloc...  ...  Cell Phones\n",
       "1354    [Cell Phones & Accessories, Cell Phones, Carri...  ...  Cell Phones\n",
       "1361    [Cell Phones & Accessories, Cell Phones, Carri...  ...  Cell Phones\n",
       "1395    [Cell Phones & Accessories, Cell Phones, Unloc...  ...  Cell Phones\n",
       "...                                                   ...  ...          ...\n",
       "589898  [Cell Phones & Accessories, Cell Phones, Unloc...  ...  Cell Phones\n",
       "589906  [Cell Phones & Accessories, Cell Phones, Unloc...  ...  Cell Phones\n",
       "589908  [Cell Phones & Accessories, Cell Phones, Unloc...  ...  Cell Phones\n",
       "590015  [Cell Phones & Accessories, Cell Phones, Unloc...  ...  Cell Phones\n",
       "590019  [Cell Phones & Accessories, Cell Phones, Unloc...  ...  Cell Phones\n",
       "\n",
       "[9685 rows x 19 columns]"
      ]
     },
     "execution_count": 10,
     "metadata": {},
     "output_type": "execute_result"
    }
   ],
   "source": [
    "df_meta['catfilter'] =  [each[1] if len(each)>2 else \"\" for each in df_meta['category']]\n",
    "df_meta = df_meta[df_meta['catfilter'] == \"Cell Phones\"]\n",
    "df_meta"
   ]
  },
  {
   "cell_type": "markdown",
   "metadata": {
    "id": "s3DAl_2_73he"
   },
   "source": [
    "# **Data Pre Processing**\n"
   ]
  },
  {
   "cell_type": "code",
   "execution_count": null,
   "metadata": {
    "id": "8jHXp1OyI9wq"
   },
   "outputs": [],
   "source": [
    "# Converting unix review time to date-time format\n",
    "\n",
    "#Transforming unixReview time to date time format\n",
    "from datetime import datetime, timedelta\n",
    "df_phonedata['Date&Time'] = df_phonedata['unixReviewTime'].apply(lambda d: (datetime.fromtimestamp(d)-timedelta(hours=2)).strftime('%Y-%m-%d'))\n"
   ]
  },
  {
   "cell_type": "markdown",
   "metadata": {
    "id": "Ag8Tzdki7qs_"
   },
   "source": [
    "# **Exploratory Data Analysis**"
   ]
  },
  {
   "cell_type": "code",
   "execution_count": null,
   "metadata": {
    "colab": {
     "base_uri": "https://localhost:8080/",
     "height": 337
    },
    "id": "fuq_CUMPlNdO",
    "outputId": "32ad6307-1bb6-4a05-b62a-ca8625bc55b2"
   },
   "outputs": [
    {
     "data": {
      "text/html": [
       "\n",
       "  <div id=\"df-b7ea012f-382e-4feb-a514-2fd558f2a5fc\">\n",
       "    <div class=\"colab-df-container\">\n",
       "      <div>\n",
       "<style scoped>\n",
       "    .dataframe tbody tr th:only-of-type {\n",
       "        vertical-align: middle;\n",
       "    }\n",
       "\n",
       "    .dataframe tbody tr th {\n",
       "        vertical-align: top;\n",
       "    }\n",
       "\n",
       "    .dataframe thead th {\n",
       "        text-align: right;\n",
       "    }\n",
       "</style>\n",
       "<table border=\"1\" class=\"dataframe\">\n",
       "  <thead>\n",
       "    <tr style=\"text-align: right;\">\n",
       "      <th></th>\n",
       "      <th>overall</th>\n",
       "      <th>verified</th>\n",
       "      <th>reviewerID</th>\n",
       "      <th>asin</th>\n",
       "      <th>style</th>\n",
       "      <th>reviewerName</th>\n",
       "      <th>reviewText</th>\n",
       "      <th>summary</th>\n",
       "      <th>unixReviewTime</th>\n",
       "      <th>vote</th>\n",
       "      <th>image</th>\n",
       "      <th>review_sentiment</th>\n",
       "      <th>Date&amp;Time</th>\n",
       "    </tr>\n",
       "  </thead>\n",
       "  <tbody>\n",
       "    <tr>\n",
       "      <th>0</th>\n",
       "      <td>5.0</td>\n",
       "      <td>True</td>\n",
       "      <td>A24E3SXTC62LJI</td>\n",
       "      <td>7508492919</td>\n",
       "      <td>{'Color:': ' Bling'}</td>\n",
       "      <td>Claudia Valdivia</td>\n",
       "      <td>Looks even better in person. Be careful to not...</td>\n",
       "      <td>Can't stop won't stop looking at it</td>\n",
       "      <td>1407110400</td>\n",
       "      <td>NaN</td>\n",
       "      <td>NaN</td>\n",
       "      <td>POSITIVE</td>\n",
       "      <td>2014-08-03</td>\n",
       "    </tr>\n",
       "    <tr>\n",
       "      <th>1</th>\n",
       "      <td>5.0</td>\n",
       "      <td>True</td>\n",
       "      <td>A269FLZCB4GIPV</td>\n",
       "      <td>7508492919</td>\n",
       "      <td>NaN</td>\n",
       "      <td>sarah ponce</td>\n",
       "      <td>When you don't want to spend a whole lot of ca...</td>\n",
       "      <td>1</td>\n",
       "      <td>1392163200</td>\n",
       "      <td>NaN</td>\n",
       "      <td>NaN</td>\n",
       "      <td>POSITIVE</td>\n",
       "      <td>2014-02-11</td>\n",
       "    </tr>\n",
       "    <tr>\n",
       "      <th>2</th>\n",
       "      <td>3.0</td>\n",
       "      <td>True</td>\n",
       "      <td>AB6CHQWHZW4TV</td>\n",
       "      <td>7508492919</td>\n",
       "      <td>NaN</td>\n",
       "      <td>Kai</td>\n",
       "      <td>so the case came on time, i love the design. I...</td>\n",
       "      <td>Its okay</td>\n",
       "      <td>1391817600</td>\n",
       "      <td>NaN</td>\n",
       "      <td>NaN</td>\n",
       "      <td>NEGATIVE</td>\n",
       "      <td>2014-02-07</td>\n",
       "    </tr>\n",
       "    <tr>\n",
       "      <th>3</th>\n",
       "      <td>2.0</td>\n",
       "      <td>True</td>\n",
       "      <td>A1M117A53LEI8</td>\n",
       "      <td>7508492919</td>\n",
       "      <td>NaN</td>\n",
       "      <td>Sharon Williams</td>\n",
       "      <td>DON'T CARE FOR IT.  GAVE IT AS A GIFT AND THEY...</td>\n",
       "      <td>CASE</td>\n",
       "      <td>1391472000</td>\n",
       "      <td>NaN</td>\n",
       "      <td>NaN</td>\n",
       "      <td>POSITIVE</td>\n",
       "      <td>2014-02-03</td>\n",
       "    </tr>\n",
       "    <tr>\n",
       "      <th>4</th>\n",
       "      <td>4.0</td>\n",
       "      <td>True</td>\n",
       "      <td>A272DUT8M88ZS8</td>\n",
       "      <td>7508492919</td>\n",
       "      <td>NaN</td>\n",
       "      <td>Bella Rodriguez</td>\n",
       "      <td>I liked it because it was cute, but the studs ...</td>\n",
       "      <td>Cute!</td>\n",
       "      <td>1391385600</td>\n",
       "      <td>NaN</td>\n",
       "      <td>NaN</td>\n",
       "      <td>POSITIVE</td>\n",
       "      <td>2014-02-02</td>\n",
       "    </tr>\n",
       "  </tbody>\n",
       "</table>\n",
       "</div>\n",
       "      <button class=\"colab-df-convert\" onclick=\"convertToInteractive('df-b7ea012f-382e-4feb-a514-2fd558f2a5fc')\"\n",
       "              title=\"Convert this dataframe to an interactive table.\"\n",
       "              style=\"display:none;\">\n",
       "        \n",
       "  <svg xmlns=\"http://www.w3.org/2000/svg\" height=\"24px\"viewBox=\"0 0 24 24\"\n",
       "       width=\"24px\">\n",
       "    <path d=\"M0 0h24v24H0V0z\" fill=\"none\"/>\n",
       "    <path d=\"M18.56 5.44l.94 2.06.94-2.06 2.06-.94-2.06-.94-.94-2.06-.94 2.06-2.06.94zm-11 1L8.5 8.5l.94-2.06 2.06-.94-2.06-.94L8.5 2.5l-.94 2.06-2.06.94zm10 10l.94 2.06.94-2.06 2.06-.94-2.06-.94-.94-2.06-.94 2.06-2.06.94z\"/><path d=\"M17.41 7.96l-1.37-1.37c-.4-.4-.92-.59-1.43-.59-.52 0-1.04.2-1.43.59L10.3 9.45l-7.72 7.72c-.78.78-.78 2.05 0 2.83L4 21.41c.39.39.9.59 1.41.59.51 0 1.02-.2 1.41-.59l7.78-7.78 2.81-2.81c.8-.78.8-2.07 0-2.86zM5.41 20L4 18.59l7.72-7.72 1.47 1.35L5.41 20z\"/>\n",
       "  </svg>\n",
       "      </button>\n",
       "      \n",
       "  <style>\n",
       "    .colab-df-container {\n",
       "      display:flex;\n",
       "      flex-wrap:wrap;\n",
       "      gap: 12px;\n",
       "    }\n",
       "\n",
       "    .colab-df-convert {\n",
       "      background-color: #E8F0FE;\n",
       "      border: none;\n",
       "      border-radius: 50%;\n",
       "      cursor: pointer;\n",
       "      display: none;\n",
       "      fill: #1967D2;\n",
       "      height: 32px;\n",
       "      padding: 0 0 0 0;\n",
       "      width: 32px;\n",
       "    }\n",
       "\n",
       "    .colab-df-convert:hover {\n",
       "      background-color: #E2EBFA;\n",
       "      box-shadow: 0px 1px 2px rgba(60, 64, 67, 0.3), 0px 1px 3px 1px rgba(60, 64, 67, 0.15);\n",
       "      fill: #174EA6;\n",
       "    }\n",
       "\n",
       "    [theme=dark] .colab-df-convert {\n",
       "      background-color: #3B4455;\n",
       "      fill: #D2E3FC;\n",
       "    }\n",
       "\n",
       "    [theme=dark] .colab-df-convert:hover {\n",
       "      background-color: #434B5C;\n",
       "      box-shadow: 0px 1px 3px 1px rgba(0, 0, 0, 0.15);\n",
       "      filter: drop-shadow(0px 1px 2px rgba(0, 0, 0, 0.3));\n",
       "      fill: #FFFFFF;\n",
       "    }\n",
       "  </style>\n",
       "\n",
       "      <script>\n",
       "        const buttonEl =\n",
       "          document.querySelector('#df-b7ea012f-382e-4feb-a514-2fd558f2a5fc button.colab-df-convert');\n",
       "        buttonEl.style.display =\n",
       "          google.colab.kernel.accessAllowed ? 'block' : 'none';\n",
       "\n",
       "        async function convertToInteractive(key) {\n",
       "          const element = document.querySelector('#df-b7ea012f-382e-4feb-a514-2fd558f2a5fc');\n",
       "          const dataTable =\n",
       "            await google.colab.kernel.invokeFunction('convertToInteractive',\n",
       "                                                     [key], {});\n",
       "          if (!dataTable) return;\n",
       "\n",
       "          const docLinkHtml = 'Like what you see? Visit the ' +\n",
       "            '<a target=\"_blank\" href=https://colab.research.google.com/notebooks/data_table.ipynb>data table notebook</a>'\n",
       "            + ' to learn more about interactive tables.';\n",
       "          element.innerHTML = '';\n",
       "          dataTable['output_type'] = 'display_data';\n",
       "          await google.colab.output.renderOutput(dataTable, element);\n",
       "          const docLink = document.createElement('div');\n",
       "          docLink.innerHTML = docLinkHtml;\n",
       "          element.appendChild(docLink);\n",
       "        }\n",
       "      </script>\n",
       "    </div>\n",
       "  </div>\n",
       "  "
      ],
      "text/plain": [
       "   overall  verified      reviewerID  ... image review_sentiment   Date&Time\n",
       "0      5.0      True  A24E3SXTC62LJI  ...   NaN         POSITIVE  2014-08-03\n",
       "1      5.0      True  A269FLZCB4GIPV  ...   NaN         POSITIVE  2014-02-11\n",
       "2      3.0      True   AB6CHQWHZW4TV  ...   NaN         NEGATIVE  2014-02-07\n",
       "3      2.0      True   A1M117A53LEI8  ...   NaN         POSITIVE  2014-02-03\n",
       "4      4.0      True  A272DUT8M88ZS8  ...   NaN         POSITIVE  2014-02-02\n",
       "\n",
       "[5 rows x 13 columns]"
      ]
     },
     "execution_count": 12,
     "metadata": {},
     "output_type": "execute_result"
    }
   ],
   "source": [
    "df_phonedata.head(5)"
   ]
  },
  {
   "cell_type": "code",
   "execution_count": null,
   "metadata": {
    "colab": {
     "base_uri": "https://localhost:8080/"
    },
    "id": "fU_F_3RigfPL",
    "outputId": "2ca28e87-8bf0-4f04-861f-a53e4caa2645"
   },
   "outputs": [
    {
     "name": "stdout",
     "output_type": "stream",
     "text": [
      "<class 'pandas.core.frame.DataFrame'>\n",
      "Int64Index: 9685 entries, 36 to 590019\n",
      "Data columns (total 19 columns):\n",
      " #   Column        Non-Null Count  Dtype \n",
      "---  ------        --------------  ----- \n",
      " 0   category      9685 non-null   object\n",
      " 1   tech1         9685 non-null   object\n",
      " 2   description   9685 non-null   object\n",
      " 3   fit           9685 non-null   object\n",
      " 4   title         9685 non-null   object\n",
      " 5   also_buy      9685 non-null   object\n",
      " 6   image         9685 non-null   object\n",
      " 7   tech2         9685 non-null   object\n",
      " 8   brand         9685 non-null   object\n",
      " 9   feature       9685 non-null   object\n",
      " 10  rank          9685 non-null   object\n",
      " 11  also_view     9685 non-null   object\n",
      " 12  details       9685 non-null   object\n",
      " 13  main_cat      9685 non-null   object\n",
      " 14  similar_item  9685 non-null   object\n",
      " 15  date          9685 non-null   object\n",
      " 16  price         9685 non-null   object\n",
      " 17  asin          9685 non-null   object\n",
      " 18  catfilter     9685 non-null   object\n",
      "dtypes: object(19)\n",
      "memory usage: 1.5+ MB\n"
     ]
    }
   ],
   "source": [
    "df_meta.info()"
   ]
  },
  {
   "cell_type": "code",
   "execution_count": null,
   "metadata": {
    "colab": {
     "base_uri": "https://localhost:8080/"
    },
    "id": "DVHVU6BifQee",
    "outputId": "0273281c-ca25-4dd3-fb9c-f4f08b8870a6"
   },
   "outputs": [
    {
     "data": {
      "text/plain": [
       "category        0\n",
       "tech1           0\n",
       "description     0\n",
       "fit             0\n",
       "title           0\n",
       "also_buy        0\n",
       "image           0\n",
       "tech2           0\n",
       "brand           0\n",
       "feature         0\n",
       "rank            0\n",
       "also_view       0\n",
       "details         0\n",
       "main_cat        0\n",
       "similar_item    0\n",
       "date            0\n",
       "price           0\n",
       "asin            0\n",
       "catfilter       0\n",
       "dtype: int64"
      ]
     },
     "execution_count": 14,
     "metadata": {},
     "output_type": "execute_result"
    }
   ],
   "source": [
    "df_meta.isnull().sum()"
   ]
  },
  {
   "cell_type": "code",
   "execution_count": null,
   "metadata": {
    "colab": {
     "base_uri": "https://localhost:8080/"
    },
    "id": "5L9ONoipe01D",
    "outputId": "9583931a-ce33-4d83-e006-6d2b763a2143"
   },
   "outputs": [
    {
     "name": "stdout",
     "output_type": "stream",
     "text": [
      "<class 'pandas.core.frame.DataFrame'>\n",
      "RangeIndex: 1128437 entries, 0 to 1128436\n",
      "Data columns (total 13 columns):\n",
      " #   Column            Non-Null Count    Dtype  \n",
      "---  ------            --------------    -----  \n",
      " 0   overall           1128437 non-null  float64\n",
      " 1   verified          1128437 non-null  bool   \n",
      " 2   reviewerID        1128437 non-null  object \n",
      " 3   asin              1128437 non-null  object \n",
      " 4   style             605241 non-null   object \n",
      " 5   reviewerName      1128281 non-null  object \n",
      " 6   reviewText        1127669 non-null  object \n",
      " 7   summary           1127912 non-null  object \n",
      " 8   unixReviewTime    1128437 non-null  int64  \n",
      " 9   vote              92034 non-null    object \n",
      " 10  image             27107 non-null    object \n",
      " 11  review_sentiment  1128437 non-null  object \n",
      " 12  Date&Time         1128437 non-null  object \n",
      "dtypes: bool(1), float64(1), int64(1), object(10)\n",
      "memory usage: 104.4+ MB\n"
     ]
    }
   ],
   "source": [
    "df_phonedata.info()"
   ]
  },
  {
   "cell_type": "code",
   "execution_count": null,
   "metadata": {
    "colab": {
     "base_uri": "https://localhost:8080/"
    },
    "id": "L3x2GXCQuze4",
    "outputId": "b16c1a7c-8f5b-49e3-e438-76697b639d6c"
   },
   "outputs": [
    {
     "data": {
      "text/plain": [
       "overall                   0\n",
       "verified                  0\n",
       "reviewerID                0\n",
       "asin                      0\n",
       "style                523196\n",
       "reviewerName            156\n",
       "reviewText              768\n",
       "summary                 525\n",
       "unixReviewTime            0\n",
       "vote                1036403\n",
       "image               1101330\n",
       "review_sentiment          0\n",
       "Date&Time                 0\n",
       "dtype: int64"
      ]
     },
     "execution_count": 16,
     "metadata": {},
     "output_type": "execute_result"
    }
   ],
   "source": [
    "df_phonedata.isnull().sum()"
   ]
  },
  {
   "cell_type": "markdown",
   "metadata": {
    "id": "WlKUpsyjpBzQ"
   },
   "source": [
    "Style , vote and image columns can be dropped as due to huge null values. "
   ]
  },
  {
   "cell_type": "code",
   "execution_count": null,
   "metadata": {
    "id": "TPYSHMJDewVR"
   },
   "outputs": [],
   "source": [
    "df_phonedata.drop(['style','vote','image'], axis = 1, inplace = True)"
   ]
  },
  {
   "cell_type": "code",
   "execution_count": null,
   "metadata": {
    "colab": {
     "base_uri": "https://localhost:8080/"
    },
    "id": "ZLJFqNS7b5Om",
    "outputId": "41afc8d5-2d28-4302-8841-1f5d901c5cd3"
   },
   "outputs": [
    {
     "data": {
      "text/plain": [
       "overall               0\n",
       "verified              0\n",
       "reviewerID            0\n",
       "asin                  0\n",
       "reviewerName        156\n",
       "reviewText          768\n",
       "summary             525\n",
       "unixReviewTime        0\n",
       "review_sentiment      0\n",
       "Date&Time             0\n",
       "dtype: int64"
      ]
     },
     "execution_count": 18,
     "metadata": {},
     "output_type": "execute_result"
    }
   ],
   "source": [
    "df_phonedata.isnull().sum()"
   ]
  },
  {
   "cell_type": "markdown",
   "metadata": {
    "id": "g_qgPhmAqxPe"
   },
   "source": [
    "Lets delete empty rows as well."
   ]
  },
  {
   "cell_type": "code",
   "execution_count": null,
   "metadata": {
    "id": "cHt3pQELqmq_"
   },
   "outputs": [],
   "source": [
    "df_phonedata.dropna(\n",
    "    axis=0,\n",
    "    how='any',\n",
    "    thresh=None,\n",
    "    subset=None,\n",
    "    inplace=True\n",
    ")"
   ]
  },
  {
   "cell_type": "code",
   "execution_count": null,
   "metadata": {
    "colab": {
     "base_uri": "https://localhost:8080/"
    },
    "id": "ALYPonIiqr24",
    "outputId": "a905c4e0-37a0-4355-85ee-a3ee066505ee"
   },
   "outputs": [
    {
     "data": {
      "text/plain": [
       "overall             0\n",
       "verified            0\n",
       "reviewerID          0\n",
       "asin                0\n",
       "reviewerName        0\n",
       "reviewText          0\n",
       "summary             0\n",
       "unixReviewTime      0\n",
       "review_sentiment    0\n",
       "Date&Time           0\n",
       "dtype: int64"
      ]
     },
     "execution_count": 20,
     "metadata": {},
     "output_type": "execute_result"
    }
   ],
   "source": [
    "df_phonedata.isnull().sum()"
   ]
  },
  {
   "cell_type": "markdown",
   "metadata": {
    "id": "I4tA3xmsq45E"
   },
   "source": [
    "Now we have phonedata with no empty cells."
   ]
  },
  {
   "cell_type": "markdown",
   "metadata": {
    "id": "15Y015Xrrv6Y"
   },
   "source": [
    "Lets look at duplicate entries in Metadata table for ASIN"
   ]
  },
  {
   "cell_type": "code",
   "execution_count": null,
   "metadata": {
    "id": "4fIssSydrAMe"
   },
   "outputs": [],
   "source": [
    "duplicateASIN = df_meta[df_meta.duplicated('asin')]"
   ]
  },
  {
   "cell_type": "code",
   "execution_count": null,
   "metadata": {
    "colab": {
     "base_uri": "https://localhost:8080/"
    },
    "id": "6ZKHAEOnsiFa",
    "outputId": "42e374e8-e6c9-4fe2-a4fc-ee9d3a1d895b"
   },
   "outputs": [
    {
     "data": {
      "text/plain": [
       "(33, 19)"
      ]
     },
     "execution_count": 22,
     "metadata": {},
     "output_type": "execute_result"
    }
   ],
   "source": [
    "duplicateASIN.shape"
   ]
  },
  {
   "cell_type": "markdown",
   "metadata": {
    "id": "TDo0Z1OgtBx6"
   },
   "source": [
    "There are Duplicate ASIN in meta data table.  Lets remove duplicate ASIN."
   ]
  },
  {
   "cell_type": "code",
   "execution_count": null,
   "metadata": {
    "id": "xeH5HE_BtMbN"
   },
   "outputs": [],
   "source": [
    "df_meta.drop_duplicates(subset=['asin'],inplace=True)"
   ]
  },
  {
   "cell_type": "code",
   "execution_count": null,
   "metadata": {
    "id": "kFwUmMQu08tq"
   },
   "outputs": [],
   "source": [
    "duplicateASIN_removed = df_meta[df_meta.duplicated('asin')]"
   ]
  },
  {
   "cell_type": "code",
   "execution_count": null,
   "metadata": {
    "colab": {
     "base_uri": "https://localhost:8080/"
    },
    "id": "lFh4vcb01Gsz",
    "outputId": "9d36ec0a-b69a-4bf7-caf1-d5ca2940d487"
   },
   "outputs": [
    {
     "data": {
      "text/plain": [
       "(0, 19)"
      ]
     },
     "execution_count": 25,
     "metadata": {},
     "output_type": "execute_result"
    }
   ],
   "source": [
    "duplicateASIN_removed.shape"
   ]
  },
  {
   "cell_type": "markdown",
   "metadata": {
    "id": "KKtMRbJN1MtO"
   },
   "source": [
    "All Duplicate ASINS are removed now."
   ]
  },
  {
   "cell_type": "markdown",
   "metadata": {
    "id": "a7phXr1-1xMm"
   },
   "source": [
    "Lets Join both tables by primary key = ASIN using Merge or Inner Join. Join all the ASIN present in Metadata to ASIN common in Phonedata."
   ]
  },
  {
   "cell_type": "code",
   "execution_count": null,
   "metadata": {
    "colab": {
     "base_uri": "https://localhost:8080/"
    },
    "id": "zG1fa43z3abN",
    "outputId": "24ed8c93-c36e-4330-c8b8-63c14a3559a4"
   },
   "outputs": [
    {
     "data": {
      "text/plain": [
       "count        1127041\n",
       "unique         48186\n",
       "top       B00VH88CJ0\n",
       "freq            1680\n",
       "Name: asin, dtype: object"
      ]
     },
     "execution_count": 26,
     "metadata": {},
     "output_type": "execute_result"
    }
   ],
   "source": [
    "df_phonedata['asin'].describe()"
   ]
  },
  {
   "cell_type": "code",
   "execution_count": null,
   "metadata": {
    "colab": {
     "base_uri": "https://localhost:8080/"
    },
    "id": "OFlds-ac3Wv_",
    "outputId": "e66508f0-659c-404b-83b7-d69757e540db"
   },
   "outputs": [
    {
     "data": {
      "text/plain": [
       "count           9652\n",
       "unique          9652\n",
       "top       8050110508\n",
       "freq               1\n",
       "Name: asin, dtype: object"
      ]
     },
     "execution_count": 27,
     "metadata": {},
     "output_type": "execute_result"
    }
   ],
   "source": [
    "df_meta['asin'].describe()"
   ]
  },
  {
   "cell_type": "markdown",
   "metadata": {
    "id": "OyBBYOWe4B0E"
   },
   "source": [
    "So phonedata has 1127041 ASIN and metadata has 9652. Now after merge we get only those ASINS for which are common in both tables. Which is intersection result."
   ]
  },
  {
   "cell_type": "code",
   "execution_count": null,
   "metadata": {
    "id": "UtMW_0Wl2HX1"
   },
   "outputs": [],
   "source": [
    "df_merged_data = pd.merge(df_phonedata,df_meta,on='asin')"
   ]
  },
  {
   "cell_type": "code",
   "execution_count": null,
   "metadata": {
    "colab": {
     "base_uri": "https://localhost:8080/"
    },
    "id": "X39aAY4F1QrN",
    "outputId": "073fefdd-f5dd-4398-e09e-cc219db31124"
   },
   "outputs": [
    {
     "data": {
      "text/plain": [
       "(1127041, 10)"
      ]
     },
     "execution_count": 29,
     "metadata": {},
     "output_type": "execute_result"
    }
   ],
   "source": [
    "df_phonedata.shape"
   ]
  },
  {
   "cell_type": "code",
   "execution_count": null,
   "metadata": {
    "colab": {
     "base_uri": "https://localhost:8080/"
    },
    "id": "eZGOba1147Ie",
    "outputId": "705130c1-9e48-4237-db5c-395395d14b07"
   },
   "outputs": [
    {
     "data": {
      "text/plain": [
       "(9652, 19)"
      ]
     },
     "execution_count": 30,
     "metadata": {},
     "output_type": "execute_result"
    }
   ],
   "source": [
    "df_meta.shape"
   ]
  },
  {
   "cell_type": "code",
   "execution_count": null,
   "metadata": {
    "colab": {
     "base_uri": "https://localhost:8080/"
    },
    "id": "meU4-sgL5qkp",
    "outputId": "eb66566b-acb4-4df4-f5d5-e0d16bc3224e"
   },
   "outputs": [
    {
     "data": {
      "text/plain": [
       "(62065, 28)"
      ]
     },
     "execution_count": 31,
     "metadata": {},
     "output_type": "execute_result"
    }
   ],
   "source": [
    "df_merged_data.shape"
   ]
  },
  {
   "cell_type": "code",
   "execution_count": null,
   "metadata": {
    "colab": {
     "base_uri": "https://localhost:8080/",
     "height": 790
    },
    "id": "4lMOH9y5E097",
    "outputId": "113ab438-1af8-44f1-a586-4b1eb6ee7f36"
   },
   "outputs": [
    {
     "data": {
      "text/html": [
       "\n",
       "  <div id=\"df-9bb15804-705e-4313-94fb-9c3a206f78cb\">\n",
       "    <div class=\"colab-df-container\">\n",
       "      <div>\n",
       "<style scoped>\n",
       "    .dataframe tbody tr th:only-of-type {\n",
       "        vertical-align: middle;\n",
       "    }\n",
       "\n",
       "    .dataframe tbody tr th {\n",
       "        vertical-align: top;\n",
       "    }\n",
       "\n",
       "    .dataframe thead th {\n",
       "        text-align: right;\n",
       "    }\n",
       "</style>\n",
       "<table border=\"1\" class=\"dataframe\">\n",
       "  <thead>\n",
       "    <tr style=\"text-align: right;\">\n",
       "      <th></th>\n",
       "      <th>overall</th>\n",
       "      <th>verified</th>\n",
       "      <th>reviewerID</th>\n",
       "      <th>asin</th>\n",
       "      <th>reviewerName</th>\n",
       "      <th>reviewText</th>\n",
       "      <th>summary</th>\n",
       "      <th>unixReviewTime</th>\n",
       "      <th>review_sentiment</th>\n",
       "      <th>Date&amp;Time</th>\n",
       "      <th>category</th>\n",
       "      <th>tech1</th>\n",
       "      <th>description</th>\n",
       "      <th>fit</th>\n",
       "      <th>title</th>\n",
       "      <th>also_buy</th>\n",
       "      <th>image</th>\n",
       "      <th>tech2</th>\n",
       "      <th>brand</th>\n",
       "      <th>feature</th>\n",
       "      <th>rank</th>\n",
       "      <th>also_view</th>\n",
       "      <th>details</th>\n",
       "      <th>main_cat</th>\n",
       "      <th>similar_item</th>\n",
       "      <th>date</th>\n",
       "      <th>price</th>\n",
       "      <th>catfilter</th>\n",
       "    </tr>\n",
       "  </thead>\n",
       "  <tbody>\n",
       "    <tr>\n",
       "      <th>0</th>\n",
       "      <td>1.0</td>\n",
       "      <td>False</td>\n",
       "      <td>A5JLAU2ARJ0BO</td>\n",
       "      <td>B0000E3GWH</td>\n",
       "      <td>Old-and-Wise</td>\n",
       "      <td>This phone is ugly and heavy and has a terribl...</td>\n",
       "      <td>Bad reception</td>\n",
       "      <td>1095724800</td>\n",
       "      <td>NEGATIVE</td>\n",
       "      <td>2004-09-20</td>\n",
       "      <td>[Cell Phones &amp; Accessories, Cell Phones, Carri...</td>\n",
       "      <td></td>\n",
       "      <td>[Compatible with T-Mobile cellular service, Sa...</td>\n",
       "      <td></td>\n",
       "      <td>Samsung SGH E715 - Titanium blue (T-Mobile) Ce...</td>\n",
       "      <td>[]</td>\n",
       "      <td>[https://images-na.ssl-images-amazon.com/image...</td>\n",
       "      <td></td>\n",
       "      <td>Samsung</td>\n",
       "      <td>[]</td>\n",
       "      <td>[&gt;#3,059,436 in Cell Phones &amp; Accessories (See...</td>\n",
       "      <td>[]</td>\n",
       "      <td>{}</td>\n",
       "      <td>Cell Phones &amp; Accessories</td>\n",
       "      <td></td>\n",
       "      <td></td>\n",
       "      <td></td>\n",
       "      <td>Cell Phones</td>\n",
       "    </tr>\n",
       "    <tr>\n",
       "      <th>1</th>\n",
       "      <td>4.0</td>\n",
       "      <td>False</td>\n",
       "      <td>A1ACM1CBGORBN1</td>\n",
       "      <td>B0000E3GWH</td>\n",
       "      <td>Sherry Berry</td>\n",
       "      <td>I had the Samsung V205 and then I decided to t...</td>\n",
       "      <td>Pretty good phone.. an improvement from my v205</td>\n",
       "      <td>1090627200</td>\n",
       "      <td>POSITIVE</td>\n",
       "      <td>2004-07-23</td>\n",
       "      <td>[Cell Phones &amp; Accessories, Cell Phones, Carri...</td>\n",
       "      <td></td>\n",
       "      <td>[Compatible with T-Mobile cellular service, Sa...</td>\n",
       "      <td></td>\n",
       "      <td>Samsung SGH E715 - Titanium blue (T-Mobile) Ce...</td>\n",
       "      <td>[]</td>\n",
       "      <td>[https://images-na.ssl-images-amazon.com/image...</td>\n",
       "      <td></td>\n",
       "      <td>Samsung</td>\n",
       "      <td>[]</td>\n",
       "      <td>[&gt;#3,059,436 in Cell Phones &amp; Accessories (See...</td>\n",
       "      <td>[]</td>\n",
       "      <td>{}</td>\n",
       "      <td>Cell Phones &amp; Accessories</td>\n",
       "      <td></td>\n",
       "      <td></td>\n",
       "      <td></td>\n",
       "      <td>Cell Phones</td>\n",
       "    </tr>\n",
       "    <tr>\n",
       "      <th>2</th>\n",
       "      <td>3.0</td>\n",
       "      <td>False</td>\n",
       "      <td>A2V48Q03FZUOSD</td>\n",
       "      <td>B0000E3GWH</td>\n",
       "      <td>Benjamin David</td>\n",
       "      <td>This is the first Samsung phone I have had and...</td>\n",
       "      <td>Not as user friendly as the Motorola V300-</td>\n",
       "      <td>1089072000</td>\n",
       "      <td>NEGATIVE</td>\n",
       "      <td>2004-07-05</td>\n",
       "      <td>[Cell Phones &amp; Accessories, Cell Phones, Carri...</td>\n",
       "      <td></td>\n",
       "      <td>[Compatible with T-Mobile cellular service, Sa...</td>\n",
       "      <td></td>\n",
       "      <td>Samsung SGH E715 - Titanium blue (T-Mobile) Ce...</td>\n",
       "      <td>[]</td>\n",
       "      <td>[https://images-na.ssl-images-amazon.com/image...</td>\n",
       "      <td></td>\n",
       "      <td>Samsung</td>\n",
       "      <td>[]</td>\n",
       "      <td>[&gt;#3,059,436 in Cell Phones &amp; Accessories (See...</td>\n",
       "      <td>[]</td>\n",
       "      <td>{}</td>\n",
       "      <td>Cell Phones &amp; Accessories</td>\n",
       "      <td></td>\n",
       "      <td></td>\n",
       "      <td></td>\n",
       "      <td>Cell Phones</td>\n",
       "    </tr>\n",
       "    <tr>\n",
       "      <th>3</th>\n",
       "      <td>5.0</td>\n",
       "      <td>True</td>\n",
       "      <td>A1V3TRGWOMA8LC</td>\n",
       "      <td>B0000E3GWH</td>\n",
       "      <td>James Beswick</td>\n",
       "      <td>..and I'm from Europe, where the phones and ne...</td>\n",
       "      <td>The best phone I've ever owned</td>\n",
       "      <td>1081728000</td>\n",
       "      <td>POSITIVE</td>\n",
       "      <td>2004-04-11</td>\n",
       "      <td>[Cell Phones &amp; Accessories, Cell Phones, Carri...</td>\n",
       "      <td></td>\n",
       "      <td>[Compatible with T-Mobile cellular service, Sa...</td>\n",
       "      <td></td>\n",
       "      <td>Samsung SGH E715 - Titanium blue (T-Mobile) Ce...</td>\n",
       "      <td>[]</td>\n",
       "      <td>[https://images-na.ssl-images-amazon.com/image...</td>\n",
       "      <td></td>\n",
       "      <td>Samsung</td>\n",
       "      <td>[]</td>\n",
       "      <td>[&gt;#3,059,436 in Cell Phones &amp; Accessories (See...</td>\n",
       "      <td>[]</td>\n",
       "      <td>{}</td>\n",
       "      <td>Cell Phones &amp; Accessories</td>\n",
       "      <td></td>\n",
       "      <td></td>\n",
       "      <td></td>\n",
       "      <td>Cell Phones</td>\n",
       "    </tr>\n",
       "    <tr>\n",
       "      <th>4</th>\n",
       "      <td>3.0</td>\n",
       "      <td>False</td>\n",
       "      <td>A3NOBH42C7UI5M</td>\n",
       "      <td>B0000E3GWH</td>\n",
       "      <td>Kepela</td>\n",
       "      <td>This phone is amazingly small and light for a ...</td>\n",
       "      <td>I love the phone but it has some real problems</td>\n",
       "      <td>1077148800</td>\n",
       "      <td>POSITIVE</td>\n",
       "      <td>2004-02-18</td>\n",
       "      <td>[Cell Phones &amp; Accessories, Cell Phones, Carri...</td>\n",
       "      <td></td>\n",
       "      <td>[Compatible with T-Mobile cellular service, Sa...</td>\n",
       "      <td></td>\n",
       "      <td>Samsung SGH E715 - Titanium blue (T-Mobile) Ce...</td>\n",
       "      <td>[]</td>\n",
       "      <td>[https://images-na.ssl-images-amazon.com/image...</td>\n",
       "      <td></td>\n",
       "      <td>Samsung</td>\n",
       "      <td>[]</td>\n",
       "      <td>[&gt;#3,059,436 in Cell Phones &amp; Accessories (See...</td>\n",
       "      <td>[]</td>\n",
       "      <td>{}</td>\n",
       "      <td>Cell Phones &amp; Accessories</td>\n",
       "      <td></td>\n",
       "      <td></td>\n",
       "      <td></td>\n",
       "      <td>Cell Phones</td>\n",
       "    </tr>\n",
       "  </tbody>\n",
       "</table>\n",
       "</div>\n",
       "      <button class=\"colab-df-convert\" onclick=\"convertToInteractive('df-9bb15804-705e-4313-94fb-9c3a206f78cb')\"\n",
       "              title=\"Convert this dataframe to an interactive table.\"\n",
       "              style=\"display:none;\">\n",
       "        \n",
       "  <svg xmlns=\"http://www.w3.org/2000/svg\" height=\"24px\"viewBox=\"0 0 24 24\"\n",
       "       width=\"24px\">\n",
       "    <path d=\"M0 0h24v24H0V0z\" fill=\"none\"/>\n",
       "    <path d=\"M18.56 5.44l.94 2.06.94-2.06 2.06-.94-2.06-.94-.94-2.06-.94 2.06-2.06.94zm-11 1L8.5 8.5l.94-2.06 2.06-.94-2.06-.94L8.5 2.5l-.94 2.06-2.06.94zm10 10l.94 2.06.94-2.06 2.06-.94-2.06-.94-.94-2.06-.94 2.06-2.06.94z\"/><path d=\"M17.41 7.96l-1.37-1.37c-.4-.4-.92-.59-1.43-.59-.52 0-1.04.2-1.43.59L10.3 9.45l-7.72 7.72c-.78.78-.78 2.05 0 2.83L4 21.41c.39.39.9.59 1.41.59.51 0 1.02-.2 1.41-.59l7.78-7.78 2.81-2.81c.8-.78.8-2.07 0-2.86zM5.41 20L4 18.59l7.72-7.72 1.47 1.35L5.41 20z\"/>\n",
       "  </svg>\n",
       "      </button>\n",
       "      \n",
       "  <style>\n",
       "    .colab-df-container {\n",
       "      display:flex;\n",
       "      flex-wrap:wrap;\n",
       "      gap: 12px;\n",
       "    }\n",
       "\n",
       "    .colab-df-convert {\n",
       "      background-color: #E8F0FE;\n",
       "      border: none;\n",
       "      border-radius: 50%;\n",
       "      cursor: pointer;\n",
       "      display: none;\n",
       "      fill: #1967D2;\n",
       "      height: 32px;\n",
       "      padding: 0 0 0 0;\n",
       "      width: 32px;\n",
       "    }\n",
       "\n",
       "    .colab-df-convert:hover {\n",
       "      background-color: #E2EBFA;\n",
       "      box-shadow: 0px 1px 2px rgba(60, 64, 67, 0.3), 0px 1px 3px 1px rgba(60, 64, 67, 0.15);\n",
       "      fill: #174EA6;\n",
       "    }\n",
       "\n",
       "    [theme=dark] .colab-df-convert {\n",
       "      background-color: #3B4455;\n",
       "      fill: #D2E3FC;\n",
       "    }\n",
       "\n",
       "    [theme=dark] .colab-df-convert:hover {\n",
       "      background-color: #434B5C;\n",
       "      box-shadow: 0px 1px 3px 1px rgba(0, 0, 0, 0.15);\n",
       "      filter: drop-shadow(0px 1px 2px rgba(0, 0, 0, 0.3));\n",
       "      fill: #FFFFFF;\n",
       "    }\n",
       "  </style>\n",
       "\n",
       "      <script>\n",
       "        const buttonEl =\n",
       "          document.querySelector('#df-9bb15804-705e-4313-94fb-9c3a206f78cb button.colab-df-convert');\n",
       "        buttonEl.style.display =\n",
       "          google.colab.kernel.accessAllowed ? 'block' : 'none';\n",
       "\n",
       "        async function convertToInteractive(key) {\n",
       "          const element = document.querySelector('#df-9bb15804-705e-4313-94fb-9c3a206f78cb');\n",
       "          const dataTable =\n",
       "            await google.colab.kernel.invokeFunction('convertToInteractive',\n",
       "                                                     [key], {});\n",
       "          if (!dataTable) return;\n",
       "\n",
       "          const docLinkHtml = 'Like what you see? Visit the ' +\n",
       "            '<a target=\"_blank\" href=https://colab.research.google.com/notebooks/data_table.ipynb>data table notebook</a>'\n",
       "            + ' to learn more about interactive tables.';\n",
       "          element.innerHTML = '';\n",
       "          dataTable['output_type'] = 'display_data';\n",
       "          await google.colab.output.renderOutput(dataTable, element);\n",
       "          const docLink = document.createElement('div');\n",
       "          docLink.innerHTML = docLinkHtml;\n",
       "          element.appendChild(docLink);\n",
       "        }\n",
       "      </script>\n",
       "    </div>\n",
       "  </div>\n",
       "  "
      ],
      "text/plain": [
       "   overall  verified      reviewerID  ... date price    catfilter\n",
       "0      1.0     False   A5JLAU2ARJ0BO  ...             Cell Phones\n",
       "1      4.0     False  A1ACM1CBGORBN1  ...             Cell Phones\n",
       "2      3.0     False  A2V48Q03FZUOSD  ...             Cell Phones\n",
       "3      5.0      True  A1V3TRGWOMA8LC  ...             Cell Phones\n",
       "4      3.0     False  A3NOBH42C7UI5M  ...             Cell Phones\n",
       "\n",
       "[5 rows x 28 columns]"
      ]
     },
     "execution_count": 32,
     "metadata": {},
     "output_type": "execute_result"
    }
   ],
   "source": [
    "df_merged_data.head(5)"
   ]
  },
  {
   "cell_type": "code",
   "execution_count": null,
   "metadata": {
    "colab": {
     "base_uri": "https://localhost:8080/",
     "height": 206
    },
    "id": "Cle47VsIrkVs",
    "outputId": "df0419ba-0f0d-4bba-a090-dbac5d4e83f5"
   },
   "outputs": [
    {
     "data": {
      "text/html": [
       "\n",
       "  <div id=\"df-41cfb150-5c73-4478-84c1-d0487c209afa\">\n",
       "    <div class=\"colab-df-container\">\n",
       "      <div>\n",
       "<style scoped>\n",
       "    .dataframe tbody tr th:only-of-type {\n",
       "        vertical-align: middle;\n",
       "    }\n",
       "\n",
       "    .dataframe tbody tr th {\n",
       "        vertical-align: top;\n",
       "    }\n",
       "\n",
       "    .dataframe thead th {\n",
       "        text-align: right;\n",
       "    }\n",
       "</style>\n",
       "<table border=\"1\" class=\"dataframe\">\n",
       "  <thead>\n",
       "    <tr style=\"text-align: right;\">\n",
       "      <th></th>\n",
       "      <th>reviewText</th>\n",
       "      <th>review_sentiment</th>\n",
       "    </tr>\n",
       "  </thead>\n",
       "  <tbody>\n",
       "    <tr>\n",
       "      <th>0</th>\n",
       "      <td>This phone is ugly and heavy and has a terribl...</td>\n",
       "      <td>NEGATIVE</td>\n",
       "    </tr>\n",
       "    <tr>\n",
       "      <th>1</th>\n",
       "      <td>I had the Samsung V205 and then I decided to t...</td>\n",
       "      <td>POSITIVE</td>\n",
       "    </tr>\n",
       "    <tr>\n",
       "      <th>2</th>\n",
       "      <td>This is the first Samsung phone I have had and...</td>\n",
       "      <td>NEGATIVE</td>\n",
       "    </tr>\n",
       "    <tr>\n",
       "      <th>3</th>\n",
       "      <td>..and I'm from Europe, where the phones and ne...</td>\n",
       "      <td>POSITIVE</td>\n",
       "    </tr>\n",
       "    <tr>\n",
       "      <th>4</th>\n",
       "      <td>This phone is amazingly small and light for a ...</td>\n",
       "      <td>POSITIVE</td>\n",
       "    </tr>\n",
       "  </tbody>\n",
       "</table>\n",
       "</div>\n",
       "      <button class=\"colab-df-convert\" onclick=\"convertToInteractive('df-41cfb150-5c73-4478-84c1-d0487c209afa')\"\n",
       "              title=\"Convert this dataframe to an interactive table.\"\n",
       "              style=\"display:none;\">\n",
       "        \n",
       "  <svg xmlns=\"http://www.w3.org/2000/svg\" height=\"24px\"viewBox=\"0 0 24 24\"\n",
       "       width=\"24px\">\n",
       "    <path d=\"M0 0h24v24H0V0z\" fill=\"none\"/>\n",
       "    <path d=\"M18.56 5.44l.94 2.06.94-2.06 2.06-.94-2.06-.94-.94-2.06-.94 2.06-2.06.94zm-11 1L8.5 8.5l.94-2.06 2.06-.94-2.06-.94L8.5 2.5l-.94 2.06-2.06.94zm10 10l.94 2.06.94-2.06 2.06-.94-2.06-.94-.94-2.06-.94 2.06-2.06.94z\"/><path d=\"M17.41 7.96l-1.37-1.37c-.4-.4-.92-.59-1.43-.59-.52 0-1.04.2-1.43.59L10.3 9.45l-7.72 7.72c-.78.78-.78 2.05 0 2.83L4 21.41c.39.39.9.59 1.41.59.51 0 1.02-.2 1.41-.59l7.78-7.78 2.81-2.81c.8-.78.8-2.07 0-2.86zM5.41 20L4 18.59l7.72-7.72 1.47 1.35L5.41 20z\"/>\n",
       "  </svg>\n",
       "      </button>\n",
       "      \n",
       "  <style>\n",
       "    .colab-df-container {\n",
       "      display:flex;\n",
       "      flex-wrap:wrap;\n",
       "      gap: 12px;\n",
       "    }\n",
       "\n",
       "    .colab-df-convert {\n",
       "      background-color: #E8F0FE;\n",
       "      border: none;\n",
       "      border-radius: 50%;\n",
       "      cursor: pointer;\n",
       "      display: none;\n",
       "      fill: #1967D2;\n",
       "      height: 32px;\n",
       "      padding: 0 0 0 0;\n",
       "      width: 32px;\n",
       "    }\n",
       "\n",
       "    .colab-df-convert:hover {\n",
       "      background-color: #E2EBFA;\n",
       "      box-shadow: 0px 1px 2px rgba(60, 64, 67, 0.3), 0px 1px 3px 1px rgba(60, 64, 67, 0.15);\n",
       "      fill: #174EA6;\n",
       "    }\n",
       "\n",
       "    [theme=dark] .colab-df-convert {\n",
       "      background-color: #3B4455;\n",
       "      fill: #D2E3FC;\n",
       "    }\n",
       "\n",
       "    [theme=dark] .colab-df-convert:hover {\n",
       "      background-color: #434B5C;\n",
       "      box-shadow: 0px 1px 3px 1px rgba(0, 0, 0, 0.15);\n",
       "      filter: drop-shadow(0px 1px 2px rgba(0, 0, 0, 0.3));\n",
       "      fill: #FFFFFF;\n",
       "    }\n",
       "  </style>\n",
       "\n",
       "      <script>\n",
       "        const buttonEl =\n",
       "          document.querySelector('#df-41cfb150-5c73-4478-84c1-d0487c209afa button.colab-df-convert');\n",
       "        buttonEl.style.display =\n",
       "          google.colab.kernel.accessAllowed ? 'block' : 'none';\n",
       "\n",
       "        async function convertToInteractive(key) {\n",
       "          const element = document.querySelector('#df-41cfb150-5c73-4478-84c1-d0487c209afa');\n",
       "          const dataTable =\n",
       "            await google.colab.kernel.invokeFunction('convertToInteractive',\n",
       "                                                     [key], {});\n",
       "          if (!dataTable) return;\n",
       "\n",
       "          const docLinkHtml = 'Like what you see? Visit the ' +\n",
       "            '<a target=\"_blank\" href=https://colab.research.google.com/notebooks/data_table.ipynb>data table notebook</a>'\n",
       "            + ' to learn more about interactive tables.';\n",
       "          element.innerHTML = '';\n",
       "          dataTable['output_type'] = 'display_data';\n",
       "          await google.colab.output.renderOutput(dataTable, element);\n",
       "          const docLink = document.createElement('div');\n",
       "          docLink.innerHTML = docLinkHtml;\n",
       "          element.appendChild(docLink);\n",
       "        }\n",
       "      </script>\n",
       "    </div>\n",
       "  </div>\n",
       "  "
      ],
      "text/plain": [
       "                                          reviewText review_sentiment\n",
       "0  This phone is ugly and heavy and has a terribl...         NEGATIVE\n",
       "1  I had the Samsung V205 and then I decided to t...         POSITIVE\n",
       "2  This is the first Samsung phone I have had and...         NEGATIVE\n",
       "3  ..and I'm from Europe, where the phones and ne...         POSITIVE\n",
       "4  This phone is amazingly small and light for a ...         POSITIVE"
      ]
     },
     "execution_count": 33,
     "metadata": {},
     "output_type": "execute_result"
    }
   ],
   "source": [
    "nb_analysis = df_merged_data[df_merged_data['verified'] == True]\n",
    "nb_analysis = df_merged_data[[\"reviewText\",\"review_sentiment\"]]\n",
    "nb_analysis.head(5)"
   ]
  },
  {
   "cell_type": "markdown",
   "metadata": {
    "id": "zBFUoPuAI6U3"
   },
   "source": [
    " \n",
    "\n",
    "1.   **Tableau Analysis (df_merged_data) and Text Analysis (text_analysis) : Lets consider top 30 brand and Verified = True reviews**\n",
    "2.   **Naive Bayes Classification (nb_analysis) : All the brand with verified =Truere views** \n",
    "\n",
    "\n"
   ]
  },
  {
   "cell_type": "code",
   "execution_count": null,
   "metadata": {
    "colab": {
     "base_uri": "https://localhost:8080/"
    },
    "id": "3uTUIE9YkCk6",
    "outputId": "f70e5789-a10b-4600-f809-8b847f7d848f"
   },
   "outputs": [
    {
     "data": {
      "text/plain": [
       "brand\n",
       "Samsung                    15978\n",
       "BLU                         9162\n",
       "LG                          6527\n",
       "Motorola                    4804\n",
       "Nokia                       4380\n",
       "Apple                       3656\n",
       "BlackBerry                  3655\n",
       "HTC                         2429\n",
       "Sony                        1546\n",
       "Huawei                      1391\n",
       "Asus                         787\n",
       "ZTE                          625\n",
       "Tracfone                     622\n",
       "Alcatel                      507\n",
       "Posh Mobile                  395\n",
       "LGIC                         366\n",
       "Kyocera                      267\n",
       "Lenovo                       253\n",
       "Pantech                      230\n",
       "Microsoft                    223\n",
       "Palm                         214\n",
       "TRACFONE WIRELESS, INC.      210\n",
       "AT&T                         190\n",
       "Raytine                      190\n",
       "RCA                          186\n",
       "MOTCB                        179\n",
       "Sony Ericsson                162\n",
       "Samsung Korea                143\n",
       "CT-Miami LLC                 134\n",
       "SHARKK                       131\n",
       "Name: reviewText, dtype: int64"
      ]
     },
     "execution_count": 34,
     "metadata": {},
     "output_type": "execute_result"
    }
   ],
   "source": [
    "df_merged_data[['brand','reviewText']].groupby('brand')['reviewText'].count().nlargest(30)"
   ]
  },
  {
   "cell_type": "code",
   "execution_count": null,
   "metadata": {
    "colab": {
     "base_uri": "https://localhost:8080/"
    },
    "id": "v9Y1xsy-mT-i",
    "outputId": "578ffd3a-a876-490c-d238-e533313c560b"
   },
   "outputs": [
    {
     "data": {
      "text/plain": [
       "(62065, 28)"
      ]
     },
     "execution_count": 35,
     "metadata": {},
     "output_type": "execute_result"
    }
   ],
   "source": [
    "df_merged_data.shape"
   ]
  },
  {
   "cell_type": "code",
   "execution_count": null,
   "metadata": {
    "id": "VsBhmws9nqtm"
   },
   "outputs": [],
   "source": [
    "top30brand = ['Samsung','BLU','LG','Motorola','Nokia','Apple','BlackBerry','HTC','Sony','Huawei','Asus','Tracfone','ZTE','Alcatel','PoshMobile','LGIC','Lenovo','Kyocera','Pantech','Microsoft','TRACFONEWIRELESS,INC.','RCA',\n",
    "'Raytine','AT&T','MOTCB','SamsungKorea','SonyEricsson','Palm','CT-MiamiLLC','SHARKK']"
   ]
  },
  {
   "cell_type": "code",
   "execution_count": null,
   "metadata": {
    "id": "YuE2OUnamhgk"
   },
   "outputs": [],
   "source": [
    "df_merged_data = df_merged_data[df_merged_data['brand'].isin(top30brand)]"
   ]
  },
  {
   "cell_type": "code",
   "execution_count": null,
   "metadata": {
    "colab": {
     "base_uri": "https://localhost:8080/"
    },
    "id": "X2wVZ3G6vReh",
    "outputId": "fa2a33cf-3df9-4fb4-f404-18e7f8ed66d0"
   },
   "outputs": [
    {
     "data": {
      "text/plain": [
       "(58498, 28)"
      ]
     },
     "execution_count": 38,
     "metadata": {},
     "output_type": "execute_result"
    }
   ],
   "source": [
    "df_merged_data.shape"
   ]
  },
  {
   "cell_type": "code",
   "execution_count": null,
   "metadata": {
    "colab": {
     "base_uri": "https://localhost:8080/"
    },
    "id": "go-Ibzf-vaNP",
    "outputId": "0714ab27-b652-4f57-a05a-74ba3d3e7c68"
   },
   "outputs": [
    {
     "data": {
      "text/plain": [
       "brand\n",
       "AT&T            190\n",
       "Alcatel         507\n",
       "Apple          3656\n",
       "Asus            787\n",
       "BLU            9162\n",
       "BlackBerry     3655\n",
       "HTC            2429\n",
       "Huawei         1391\n",
       "Kyocera         267\n",
       "LG             6527\n",
       "LGIC            366\n",
       "Lenovo          253\n",
       "MOTCB           179\n",
       "Microsoft       223\n",
       "Motorola       4804\n",
       "Nokia          4380\n",
       "Palm            214\n",
       "Pantech         230\n",
       "RCA             186\n",
       "Raytine         190\n",
       "SHARKK          131\n",
       "Samsung       15978\n",
       "Sony           1546\n",
       "Tracfone        622\n",
       "ZTE             625\n",
       "Name: reviewText, dtype: int64"
      ]
     },
     "execution_count": 39,
     "metadata": {},
     "output_type": "execute_result"
    }
   ],
   "source": [
    "df_merged_data[['brand','reviewText']].groupby('brand')['reviewText'].count()"
   ]
  },
  {
   "cell_type": "code",
   "execution_count": null,
   "metadata": {
    "id": "gA3CAyq8xPnh"
   },
   "outputs": [],
   "source": [
    "df_merged_data = df_merged_data[df_merged_data['verified'] == True]"
   ]
  },
  {
   "cell_type": "code",
   "execution_count": null,
   "metadata": {
    "colab": {
     "base_uri": "https://localhost:8080/"
    },
    "id": "-JljCSBzxrOT",
    "outputId": "7d73d7d1-0c03-4d37-c0ec-4ab22d9f3215"
   },
   "outputs": [
    {
     "data": {
      "text/plain": [
       "(50438, 28)"
      ]
     },
     "execution_count": 41,
     "metadata": {},
     "output_type": "execute_result"
    }
   ],
   "source": [
    "df_merged_data.shape"
   ]
  },
  {
   "cell_type": "markdown",
   "metadata": {
    "id": "lm7Hll-ax5bo"
   },
   "source": [
    "Lets drop unwanted Columns"
   ]
  },
  {
   "cell_type": "code",
   "execution_count": null,
   "metadata": {
    "colab": {
     "base_uri": "https://localhost:8080/"
    },
    "id": "qIBo7El4yPcQ",
    "outputId": "957f593e-e96c-483d-9a4b-f72011862fed"
   },
   "outputs": [
    {
     "data": {
      "text/plain": [
       "Index(['overall', 'verified', 'reviewerID', 'asin', 'reviewerName',\n",
       "       'reviewText', 'summary', 'unixReviewTime', 'review_sentiment',\n",
       "       'Date&Time', 'category', 'tech1', 'description', 'fit', 'title',\n",
       "       'also_buy', 'image', 'tech2', 'brand', 'feature', 'rank', 'also_view',\n",
       "       'details', 'main_cat', 'similar_item', 'date', 'price', 'catfilter'],\n",
       "      dtype='object')"
      ]
     },
     "execution_count": 42,
     "metadata": {},
     "output_type": "execute_result"
    }
   ],
   "source": [
    "df_merged_data.columns"
   ]
  },
  {
   "cell_type": "code",
   "execution_count": null,
   "metadata": {
    "colab": {
     "base_uri": "https://localhost:8080/"
    },
    "id": "nb-88v0Kx-Uz",
    "outputId": "c65a73e4-baf2-4c16-e89c-b3063bf3d8f0"
   },
   "outputs": [
    {
     "name": "stderr",
     "output_type": "stream",
     "text": [
      "/usr/local/lib/python3.7/dist-packages/pandas/core/frame.py:4913: SettingWithCopyWarning: \n",
      "A value is trying to be set on a copy of a slice from a DataFrame\n",
      "\n",
      "See the caveats in the documentation: https://pandas.pydata.org/pandas-docs/stable/user_guide/indexing.html#returning-a-view-versus-a-copy\n",
      "  errors=errors,\n"
     ]
    }
   ],
   "source": [
    "df_merged_data.drop(['reviewerID','reviewerName','summary','unixReviewTime','tech1','fit','image','tech2','details'], axis = 1, inplace = True)"
   ]
  },
  {
   "cell_type": "code",
   "execution_count": null,
   "metadata": {
    "colab": {
     "base_uri": "https://localhost:8080/"
    },
    "id": "SDBScR2Qy6rL",
    "outputId": "86b3c68a-873a-4331-87b3-c4d4614ceb1f"
   },
   "outputs": [
    {
     "data": {
      "text/plain": [
       "Index(['overall', 'verified', 'asin', 'reviewText', 'review_sentiment',\n",
       "       'Date&Time', 'category', 'description', 'title', 'also_buy', 'brand',\n",
       "       'feature', 'rank', 'also_view', 'main_cat', 'similar_item', 'date',\n",
       "       'price', 'catfilter'],\n",
       "      dtype='object')"
      ]
     },
     "execution_count": 44,
     "metadata": {},
     "output_type": "execute_result"
    }
   ],
   "source": [
    "df_merged_data.columns"
   ]
  },
  {
   "cell_type": "markdown",
   "metadata": {
    "id": "Iv7GNXDbJI_h"
   },
   "source": [
    "**I will use this df_merged_data for tableau visualization. Lets download it so that we can import it into tableau.**"
   ]
  },
  {
   "cell_type": "markdown",
   "metadata": {
    "id": "_icCFQpb7Naa"
   },
   "source": [
    "# **Text Analytics**"
   ]
  },
  {
   "cell_type": "code",
   "execution_count": null,
   "metadata": {
    "id": "ccYTFnj2BbY-"
   },
   "outputs": [],
   "source": [
    "import pandas as pd\n",
    "import matplotlib.pyplot as plt\n",
    "%matplotlib inline  \n",
    "import nltk\n",
    "from nltk import word_tokenize, sent_tokenize\n",
    "from nltk.corpus import stopwords\n",
    "from nltk.stem import LancasterStemmer, WordNetLemmatizer, PorterStemmer\n",
    "from wordcloud import WordCloud, STOPWORDS\n",
    "from textblob import TextBlob"
   ]
  },
  {
   "cell_type": "code",
   "execution_count": null,
   "metadata": {
    "id": "Ld4TsdLM7b0z"
   },
   "outputs": [],
   "source": [
    "# Reading stop words from a text file in to a list\n",
    "stop_words = [line.rstrip('\\n') for line in open('/content/drive/MyDrive/Capstone_project/sentiment_analysis/stop_words_long.txt')]"
   ]
  },
  {
   "cell_type": "code",
   "execution_count": null,
   "metadata": {
    "id": "SSc69g9d9dh9"
   },
   "outputs": [],
   "source": [
    "pos_words = [line.rstrip('\\n') for line in open('/content/drive/MyDrive/Capstone_project/sentiment_analysis/pos_words.txt')]"
   ]
  },
  {
   "cell_type": "code",
   "execution_count": null,
   "metadata": {
    "id": "kFtlUM1o9dC9"
   },
   "outputs": [],
   "source": [
    "neg_words = [line.rstrip('\\n') for line in open('/content/drive/MyDrive/Capstone_project/sentiment_analysis/neg_words.txt')]"
   ]
  },
  {
   "cell_type": "markdown",
   "metadata": {
    "id": "b_l_neuiHGPH"
   },
   "source": [
    "**1. Cleaning the review Text**"
   ]
  },
  {
   "cell_type": "markdown",
   "metadata": {
    "id": "jCMP2WNyhEQS"
   },
   "source": [
    "** For text analysis , lets extract reviewText and review sentiment and store it in new dataframe called text_analysis.**\n",
    "\n",
    "1. Convert the reviewText column into type string\n",
    "2. Keep only data for verified comments\n",
    "3. Remove STop words from reviewText"
   ]
  },
  {
   "cell_type": "code",
   "execution_count": null,
   "metadata": {
    "colab": {
     "base_uri": "https://localhost:8080/"
    },
    "id": "wQnKVKHQfSgv",
    "outputId": "9ee09c2b-b5bd-4d00-cb89-ed128ebb5efe"
   },
   "outputs": [
    {
     "name": "stderr",
     "output_type": "stream",
     "text": [
      "/usr/local/lib/python3.7/dist-packages/ipykernel_launcher.py:4: SettingWithCopyWarning: \n",
      "A value is trying to be set on a copy of a slice from a DataFrame.\n",
      "Try using .loc[row_indexer,col_indexer] = value instead\n",
      "\n",
      "See the caveats in the documentation: https://pandas.pydata.org/pandas-docs/stable/user_guide/indexing.html#returning-a-view-versus-a-copy\n",
      "  after removing the cwd from sys.path.\n",
      "/usr/local/lib/python3.7/dist-packages/ipykernel_launcher.py:5: SettingWithCopyWarning: \n",
      "A value is trying to be set on a copy of a slice from a DataFrame.\n",
      "Try using .loc[row_indexer,col_indexer] = value instead\n",
      "\n",
      "See the caveats in the documentation: https://pandas.pydata.org/pandas-docs/stable/user_guide/indexing.html#returning-a-view-versus-a-copy\n",
      "  \"\"\"\n"
     ]
    }
   ],
   "source": [
    "df_merged_data = df_merged_data[df_merged_data['verified'] == True]\n",
    "df_merged_data[\"reviewText\"] = df_merged_data[\"reviewText\"].astype(str)\n",
    "text_analysis = df_merged_data[[\"reviewText\",\"review_sentiment\"]]\n",
    "text_analysis[\"reviewText\"] = text_analysis[\"reviewText\"].astype(str)\n",
    "text_analysis['reviewText'] = text_analysis['reviewText'].apply(lambda x: \" \".join(x.lower() for x in x.split()))"
   ]
  },
  {
   "cell_type": "code",
   "execution_count": null,
   "metadata": {
    "colab": {
     "base_uri": "https://localhost:8080/",
     "height": 363
    },
    "id": "pGma8GBjiE5F",
    "outputId": "c3e81c99-7260-48c0-faa9-0a19955c8f2f"
   },
   "outputs": [
    {
     "data": {
      "text/html": [
       "\n",
       "  <div id=\"df-15032d49-ba96-4af3-9088-e4537b977395\">\n",
       "    <div class=\"colab-df-container\">\n",
       "      <div>\n",
       "<style scoped>\n",
       "    .dataframe tbody tr th:only-of-type {\n",
       "        vertical-align: middle;\n",
       "    }\n",
       "\n",
       "    .dataframe tbody tr th {\n",
       "        vertical-align: top;\n",
       "    }\n",
       "\n",
       "    .dataframe thead th {\n",
       "        text-align: right;\n",
       "    }\n",
       "</style>\n",
       "<table border=\"1\" class=\"dataframe\">\n",
       "  <thead>\n",
       "    <tr style=\"text-align: right;\">\n",
       "      <th></th>\n",
       "      <th>reviewText</th>\n",
       "      <th>review_sentiment</th>\n",
       "    </tr>\n",
       "  </thead>\n",
       "  <tbody>\n",
       "    <tr>\n",
       "      <th>3</th>\n",
       "      <td>..and i'm from europe, where the phones and ne...</td>\n",
       "      <td>POSITIVE</td>\n",
       "    </tr>\n",
       "    <tr>\n",
       "      <th>5</th>\n",
       "      <td>the last year or so we have all seen an explos...</td>\n",
       "      <td>POSITIVE</td>\n",
       "    </tr>\n",
       "    <tr>\n",
       "      <th>35</th>\n",
       "      <td>overall, i really like the phone but i have to...</td>\n",
       "      <td>POSITIVE</td>\n",
       "    </tr>\n",
       "    <tr>\n",
       "      <th>41</th>\n",
       "      <td>was my mom's phone. she barely used it. just r...</td>\n",
       "      <td>POSITIVE</td>\n",
       "    </tr>\n",
       "    <tr>\n",
       "      <th>42</th>\n",
       "      <td>this is a great phone in terms of reception. t...</td>\n",
       "      <td>POSITIVE</td>\n",
       "    </tr>\n",
       "    <tr>\n",
       "      <th>43</th>\n",
       "      <td>i have previously owned the v400, v525, v600, ...</td>\n",
       "      <td>NEGATIVE</td>\n",
       "    </tr>\n",
       "    <tr>\n",
       "      <th>47</th>\n",
       "      <td>one great thing about the cell phone industry ...</td>\n",
       "      <td>POSITIVE</td>\n",
       "    </tr>\n",
       "    <tr>\n",
       "      <th>75</th>\n",
       "      <td>i've been using this phone for about three wee...</td>\n",
       "      <td>NEGATIVE</td>\n",
       "    </tr>\n",
       "    <tr>\n",
       "      <th>76</th>\n",
       "      <td>this is actually a quad-band mobile phone whic...</td>\n",
       "      <td>POSITIVE</td>\n",
       "    </tr>\n",
       "    <tr>\n",
       "      <th>79</th>\n",
       "      <td>this is one of the nicest phones i have used. ...</td>\n",
       "      <td>NEGATIVE</td>\n",
       "    </tr>\n",
       "  </tbody>\n",
       "</table>\n",
       "</div>\n",
       "      <button class=\"colab-df-convert\" onclick=\"convertToInteractive('df-15032d49-ba96-4af3-9088-e4537b977395')\"\n",
       "              title=\"Convert this dataframe to an interactive table.\"\n",
       "              style=\"display:none;\">\n",
       "        \n",
       "  <svg xmlns=\"http://www.w3.org/2000/svg\" height=\"24px\"viewBox=\"0 0 24 24\"\n",
       "       width=\"24px\">\n",
       "    <path d=\"M0 0h24v24H0V0z\" fill=\"none\"/>\n",
       "    <path d=\"M18.56 5.44l.94 2.06.94-2.06 2.06-.94-2.06-.94-.94-2.06-.94 2.06-2.06.94zm-11 1L8.5 8.5l.94-2.06 2.06-.94-2.06-.94L8.5 2.5l-.94 2.06-2.06.94zm10 10l.94 2.06.94-2.06 2.06-.94-2.06-.94-.94-2.06-.94 2.06-2.06.94z\"/><path d=\"M17.41 7.96l-1.37-1.37c-.4-.4-.92-.59-1.43-.59-.52 0-1.04.2-1.43.59L10.3 9.45l-7.72 7.72c-.78.78-.78 2.05 0 2.83L4 21.41c.39.39.9.59 1.41.59.51 0 1.02-.2 1.41-.59l7.78-7.78 2.81-2.81c.8-.78.8-2.07 0-2.86zM5.41 20L4 18.59l7.72-7.72 1.47 1.35L5.41 20z\"/>\n",
       "  </svg>\n",
       "      </button>\n",
       "      \n",
       "  <style>\n",
       "    .colab-df-container {\n",
       "      display:flex;\n",
       "      flex-wrap:wrap;\n",
       "      gap: 12px;\n",
       "    }\n",
       "\n",
       "    .colab-df-convert {\n",
       "      background-color: #E8F0FE;\n",
       "      border: none;\n",
       "      border-radius: 50%;\n",
       "      cursor: pointer;\n",
       "      display: none;\n",
       "      fill: #1967D2;\n",
       "      height: 32px;\n",
       "      padding: 0 0 0 0;\n",
       "      width: 32px;\n",
       "    }\n",
       "\n",
       "    .colab-df-convert:hover {\n",
       "      background-color: #E2EBFA;\n",
       "      box-shadow: 0px 1px 2px rgba(60, 64, 67, 0.3), 0px 1px 3px 1px rgba(60, 64, 67, 0.15);\n",
       "      fill: #174EA6;\n",
       "    }\n",
       "\n",
       "    [theme=dark] .colab-df-convert {\n",
       "      background-color: #3B4455;\n",
       "      fill: #D2E3FC;\n",
       "    }\n",
       "\n",
       "    [theme=dark] .colab-df-convert:hover {\n",
       "      background-color: #434B5C;\n",
       "      box-shadow: 0px 1px 3px 1px rgba(0, 0, 0, 0.15);\n",
       "      filter: drop-shadow(0px 1px 2px rgba(0, 0, 0, 0.3));\n",
       "      fill: #FFFFFF;\n",
       "    }\n",
       "  </style>\n",
       "\n",
       "      <script>\n",
       "        const buttonEl =\n",
       "          document.querySelector('#df-15032d49-ba96-4af3-9088-e4537b977395 button.colab-df-convert');\n",
       "        buttonEl.style.display =\n",
       "          google.colab.kernel.accessAllowed ? 'block' : 'none';\n",
       "\n",
       "        async function convertToInteractive(key) {\n",
       "          const element = document.querySelector('#df-15032d49-ba96-4af3-9088-e4537b977395');\n",
       "          const dataTable =\n",
       "            await google.colab.kernel.invokeFunction('convertToInteractive',\n",
       "                                                     [key], {});\n",
       "          if (!dataTable) return;\n",
       "\n",
       "          const docLinkHtml = 'Like what you see? Visit the ' +\n",
       "            '<a target=\"_blank\" href=https://colab.research.google.com/notebooks/data_table.ipynb>data table notebook</a>'\n",
       "            + ' to learn more about interactive tables.';\n",
       "          element.innerHTML = '';\n",
       "          dataTable['output_type'] = 'display_data';\n",
       "          await google.colab.output.renderOutput(dataTable, element);\n",
       "          const docLink = document.createElement('div');\n",
       "          docLink.innerHTML = docLinkHtml;\n",
       "          element.appendChild(docLink);\n",
       "        }\n",
       "      </script>\n",
       "    </div>\n",
       "  </div>\n",
       "  "
      ],
      "text/plain": [
       "                                           reviewText review_sentiment\n",
       "3   ..and i'm from europe, where the phones and ne...         POSITIVE\n",
       "5   the last year or so we have all seen an explos...         POSITIVE\n",
       "35  overall, i really like the phone but i have to...         POSITIVE\n",
       "41  was my mom's phone. she barely used it. just r...         POSITIVE\n",
       "42  this is a great phone in terms of reception. t...         POSITIVE\n",
       "43  i have previously owned the v400, v525, v600, ...         NEGATIVE\n",
       "47  one great thing about the cell phone industry ...         POSITIVE\n",
       "75  i've been using this phone for about three wee...         NEGATIVE\n",
       "76  this is actually a quad-band mobile phone whic...         POSITIVE\n",
       "79  this is one of the nicest phones i have used. ...         NEGATIVE"
      ]
     },
     "execution_count": 50,
     "metadata": {},
     "output_type": "execute_result"
    }
   ],
   "source": [
    "text_analysis.head(10)"
   ]
  },
  {
   "cell_type": "markdown",
   "metadata": {
    "id": "s4vXaEXbFns6"
   },
   "source": [
    "Converting reviewText and summary into lowercase"
   ]
  },
  {
   "cell_type": "markdown",
   "metadata": {
    "id": "5ocTIg5x6v46"
   },
   "source": [
    "Lets remove the Stop words now "
   ]
  },
  {
   "cell_type": "code",
   "execution_count": null,
   "metadata": {
    "colab": {
     "base_uri": "https://localhost:8080/"
    },
    "id": "pvasT2c78IF2",
    "outputId": "74780bed-4b97-4d61-e5cb-ebd1f6cbcfa1"
   },
   "outputs": [
    {
     "name": "stderr",
     "output_type": "stream",
     "text": [
      "/usr/local/lib/python3.7/dist-packages/ipykernel_launcher.py:1: SettingWithCopyWarning: \n",
      "A value is trying to be set on a copy of a slice from a DataFrame.\n",
      "Try using .loc[row_indexer,col_indexer] = value instead\n",
      "\n",
      "See the caveats in the documentation: https://pandas.pydata.org/pandas-docs/stable/user_guide/indexing.html#returning-a-view-versus-a-copy\n",
      "  \"\"\"Entry point for launching an IPython kernel.\n"
     ]
    }
   ],
   "source": [
    "text_analysis['reviewText_without_stopwords'] = text_analysis['reviewText'].apply(lambda x: ' '.join([word for word in x.split() if word not in (stop_words)]))"
   ]
  },
  {
   "cell_type": "code",
   "execution_count": null,
   "metadata": {
    "colab": {
     "base_uri": "https://localhost:8080/",
     "height": 363
    },
    "id": "lSy1IdzA85OO",
    "outputId": "4e9abcf4-6e9b-4b43-fb74-e62783984ff4"
   },
   "outputs": [
    {
     "data": {
      "text/html": [
       "\n",
       "  <div id=\"df-e8253e75-14c8-4d0e-bfed-c3d14a36b384\">\n",
       "    <div class=\"colab-df-container\">\n",
       "      <div>\n",
       "<style scoped>\n",
       "    .dataframe tbody tr th:only-of-type {\n",
       "        vertical-align: middle;\n",
       "    }\n",
       "\n",
       "    .dataframe tbody tr th {\n",
       "        vertical-align: top;\n",
       "    }\n",
       "\n",
       "    .dataframe thead th {\n",
       "        text-align: right;\n",
       "    }\n",
       "</style>\n",
       "<table border=\"1\" class=\"dataframe\">\n",
       "  <thead>\n",
       "    <tr style=\"text-align: right;\">\n",
       "      <th></th>\n",
       "      <th>reviewText</th>\n",
       "      <th>review_sentiment</th>\n",
       "      <th>reviewText_without_stopwords</th>\n",
       "    </tr>\n",
       "  </thead>\n",
       "  <tbody>\n",
       "    <tr>\n",
       "      <th>3</th>\n",
       "      <td>..and i'm from europe, where the phones and ne...</td>\n",
       "      <td>POSITIVE</td>\n",
       "      <td>..and i'm europe, phones networks better state...</td>\n",
       "    </tr>\n",
       "    <tr>\n",
       "      <th>5</th>\n",
       "      <td>the last year or so we have all seen an explos...</td>\n",
       "      <td>POSITIVE</td>\n",
       "      <td>seen explosion nice color phones market. funct...</td>\n",
       "    </tr>\n",
       "    <tr>\n",
       "      <th>35</th>\n",
       "      <td>overall, i really like the phone but i have to...</td>\n",
       "      <td>POSITIVE</td>\n",
       "      <td>overall, like phone experienced issues reviewe...</td>\n",
       "    </tr>\n",
       "    <tr>\n",
       "      <th>41</th>\n",
       "      <td>was my mom's phone. she barely used it. just r...</td>\n",
       "      <td>POSITIVE</td>\n",
       "      <td>mom's phone. barely it. rating list. this, don...</td>\n",
       "    </tr>\n",
       "    <tr>\n",
       "      <th>42</th>\n",
       "      <td>this is a great phone in terms of reception. t...</td>\n",
       "      <td>POSITIVE</td>\n",
       "      <td>great phone terms reception. design flaws. car...</td>\n",
       "    </tr>\n",
       "    <tr>\n",
       "      <th>43</th>\n",
       "      <td>i have previously owned the v400, v525, v600, ...</td>\n",
       "      <td>NEGATIVE</td>\n",
       "      <td>previously owned v400, v525, v600, v710. am de...</td>\n",
       "    </tr>\n",
       "    <tr>\n",
       "      <th>47</th>\n",
       "      <td>one great thing about the cell phone industry ...</td>\n",
       "      <td>POSITIVE</td>\n",
       "      <td>great cell phone industry country contract exp...</td>\n",
       "    </tr>\n",
       "    <tr>\n",
       "      <th>75</th>\n",
       "      <td>i've been using this phone for about three wee...</td>\n",
       "      <td>NEGATIVE</td>\n",
       "      <td>i've using phone weeks t-mobile system ct trav...</td>\n",
       "    </tr>\n",
       "    <tr>\n",
       "      <th>76</th>\n",
       "      <td>this is actually a quad-band mobile phone whic...</td>\n",
       "      <td>POSITIVE</td>\n",
       "      <td>actually quad-band mobile phone makes true 'wo...</td>\n",
       "    </tr>\n",
       "    <tr>\n",
       "      <th>79</th>\n",
       "      <td>this is one of the nicest phones i have used. ...</td>\n",
       "      <td>NEGATIVE</td>\n",
       "      <td>nicest phones used. traditional flip phone pho...</td>\n",
       "    </tr>\n",
       "  </tbody>\n",
       "</table>\n",
       "</div>\n",
       "      <button class=\"colab-df-convert\" onclick=\"convertToInteractive('df-e8253e75-14c8-4d0e-bfed-c3d14a36b384')\"\n",
       "              title=\"Convert this dataframe to an interactive table.\"\n",
       "              style=\"display:none;\">\n",
       "        \n",
       "  <svg xmlns=\"http://www.w3.org/2000/svg\" height=\"24px\"viewBox=\"0 0 24 24\"\n",
       "       width=\"24px\">\n",
       "    <path d=\"M0 0h24v24H0V0z\" fill=\"none\"/>\n",
       "    <path d=\"M18.56 5.44l.94 2.06.94-2.06 2.06-.94-2.06-.94-.94-2.06-.94 2.06-2.06.94zm-11 1L8.5 8.5l.94-2.06 2.06-.94-2.06-.94L8.5 2.5l-.94 2.06-2.06.94zm10 10l.94 2.06.94-2.06 2.06-.94-2.06-.94-.94-2.06-.94 2.06-2.06.94z\"/><path d=\"M17.41 7.96l-1.37-1.37c-.4-.4-.92-.59-1.43-.59-.52 0-1.04.2-1.43.59L10.3 9.45l-7.72 7.72c-.78.78-.78 2.05 0 2.83L4 21.41c.39.39.9.59 1.41.59.51 0 1.02-.2 1.41-.59l7.78-7.78 2.81-2.81c.8-.78.8-2.07 0-2.86zM5.41 20L4 18.59l7.72-7.72 1.47 1.35L5.41 20z\"/>\n",
       "  </svg>\n",
       "      </button>\n",
       "      \n",
       "  <style>\n",
       "    .colab-df-container {\n",
       "      display:flex;\n",
       "      flex-wrap:wrap;\n",
       "      gap: 12px;\n",
       "    }\n",
       "\n",
       "    .colab-df-convert {\n",
       "      background-color: #E8F0FE;\n",
       "      border: none;\n",
       "      border-radius: 50%;\n",
       "      cursor: pointer;\n",
       "      display: none;\n",
       "      fill: #1967D2;\n",
       "      height: 32px;\n",
       "      padding: 0 0 0 0;\n",
       "      width: 32px;\n",
       "    }\n",
       "\n",
       "    .colab-df-convert:hover {\n",
       "      background-color: #E2EBFA;\n",
       "      box-shadow: 0px 1px 2px rgba(60, 64, 67, 0.3), 0px 1px 3px 1px rgba(60, 64, 67, 0.15);\n",
       "      fill: #174EA6;\n",
       "    }\n",
       "\n",
       "    [theme=dark] .colab-df-convert {\n",
       "      background-color: #3B4455;\n",
       "      fill: #D2E3FC;\n",
       "    }\n",
       "\n",
       "    [theme=dark] .colab-df-convert:hover {\n",
       "      background-color: #434B5C;\n",
       "      box-shadow: 0px 1px 3px 1px rgba(0, 0, 0, 0.15);\n",
       "      filter: drop-shadow(0px 1px 2px rgba(0, 0, 0, 0.3));\n",
       "      fill: #FFFFFF;\n",
       "    }\n",
       "  </style>\n",
       "\n",
       "      <script>\n",
       "        const buttonEl =\n",
       "          document.querySelector('#df-e8253e75-14c8-4d0e-bfed-c3d14a36b384 button.colab-df-convert');\n",
       "        buttonEl.style.display =\n",
       "          google.colab.kernel.accessAllowed ? 'block' : 'none';\n",
       "\n",
       "        async function convertToInteractive(key) {\n",
       "          const element = document.querySelector('#df-e8253e75-14c8-4d0e-bfed-c3d14a36b384');\n",
       "          const dataTable =\n",
       "            await google.colab.kernel.invokeFunction('convertToInteractive',\n",
       "                                                     [key], {});\n",
       "          if (!dataTable) return;\n",
       "\n",
       "          const docLinkHtml = 'Like what you see? Visit the ' +\n",
       "            '<a target=\"_blank\" href=https://colab.research.google.com/notebooks/data_table.ipynb>data table notebook</a>'\n",
       "            + ' to learn more about interactive tables.';\n",
       "          element.innerHTML = '';\n",
       "          dataTable['output_type'] = 'display_data';\n",
       "          await google.colab.output.renderOutput(dataTable, element);\n",
       "          const docLink = document.createElement('div');\n",
       "          docLink.innerHTML = docLinkHtml;\n",
       "          element.appendChild(docLink);\n",
       "        }\n",
       "      </script>\n",
       "    </div>\n",
       "  </div>\n",
       "  "
      ],
      "text/plain": [
       "                                           reviewText  ...                       reviewText_without_stopwords\n",
       "3   ..and i'm from europe, where the phones and ne...  ...  ..and i'm europe, phones networks better state...\n",
       "5   the last year or so we have all seen an explos...  ...  seen explosion nice color phones market. funct...\n",
       "35  overall, i really like the phone but i have to...  ...  overall, like phone experienced issues reviewe...\n",
       "41  was my mom's phone. she barely used it. just r...  ...  mom's phone. barely it. rating list. this, don...\n",
       "42  this is a great phone in terms of reception. t...  ...  great phone terms reception. design flaws. car...\n",
       "43  i have previously owned the v400, v525, v600, ...  ...  previously owned v400, v525, v600, v710. am de...\n",
       "47  one great thing about the cell phone industry ...  ...  great cell phone industry country contract exp...\n",
       "75  i've been using this phone for about three wee...  ...  i've using phone weeks t-mobile system ct trav...\n",
       "76  this is actually a quad-band mobile phone whic...  ...  actually quad-band mobile phone makes true 'wo...\n",
       "79  this is one of the nicest phones i have used. ...  ...  nicest phones used. traditional flip phone pho...\n",
       "\n",
       "[10 rows x 3 columns]"
      ]
     },
     "execution_count": 52,
     "metadata": {},
     "output_type": "execute_result"
    }
   ],
   "source": [
    "text_analysis.head(10)"
   ]
  },
  {
   "cell_type": "code",
   "execution_count": null,
   "metadata": {
    "colab": {
     "base_uri": "https://localhost:8080/"
    },
    "id": "x88qlqmD9IjZ",
    "outputId": "294785bb-6743-4860-a04a-a1d6d418245c"
   },
   "outputs": [
    {
     "name": "stderr",
     "output_type": "stream",
     "text": [
      "/usr/local/lib/python3.7/dist-packages/ipykernel_launcher.py:1: SettingWithCopyWarning: \n",
      "A value is trying to be set on a copy of a slice from a DataFrame.\n",
      "Try using .loc[row_indexer,col_indexer] = value instead\n",
      "\n",
      "See the caveats in the documentation: https://pandas.pydata.org/pandas-docs/stable/user_guide/indexing.html#returning-a-view-versus-a-copy\n",
      "  \"\"\"Entry point for launching an IPython kernel.\n"
     ]
    }
   ],
   "source": [
    "text_analysis['reviewText_with_positivewords'] = text_analysis['reviewText_without_stopwords'].apply(lambda x: ' '.join([word for word in x.split() if word in (pos_words)]))"
   ]
  },
  {
   "cell_type": "code",
   "execution_count": null,
   "metadata": {
    "colab": {
     "base_uri": "https://localhost:8080/"
    },
    "id": "nB51TE7u9IUv",
    "outputId": "2632ed87-1124-40fb-f35c-583c64d16a36"
   },
   "outputs": [
    {
     "name": "stderr",
     "output_type": "stream",
     "text": [
      "/usr/local/lib/python3.7/dist-packages/ipykernel_launcher.py:1: SettingWithCopyWarning: \n",
      "A value is trying to be set on a copy of a slice from a DataFrame.\n",
      "Try using .loc[row_indexer,col_indexer] = value instead\n",
      "\n",
      "See the caveats in the documentation: https://pandas.pydata.org/pandas-docs/stable/user_guide/indexing.html#returning-a-view-versus-a-copy\n",
      "  \"\"\"Entry point for launching an IPython kernel.\n"
     ]
    }
   ],
   "source": [
    "text_analysis['reviewText_with_Negativewords'] = text_analysis['reviewText_without_stopwords'].apply(lambda x: ' '.join([word for word in x.split() if word in (neg_words)]))"
   ]
  },
  {
   "cell_type": "code",
   "execution_count": null,
   "metadata": {
    "colab": {
     "base_uri": "https://localhost:8080/"
    },
    "id": "1A-SeoBz_w_X",
    "outputId": "6bd823b0-1821-4b60-dafa-0f69199d0c19"
   },
   "outputs": [
    {
     "name": "stderr",
     "output_type": "stream",
     "text": [
      "/usr/local/lib/python3.7/dist-packages/ipykernel_launcher.py:1: SettingWithCopyWarning: \n",
      "A value is trying to be set on a copy of a slice from a DataFrame.\n",
      "Try using .loc[row_indexer,col_indexer] = value instead\n",
      "\n",
      "See the caveats in the documentation: https://pandas.pydata.org/pandas-docs/stable/user_guide/indexing.html#returning-a-view-versus-a-copy\n",
      "  \"\"\"Entry point for launching an IPython kernel.\n",
      "/usr/local/lib/python3.7/dist-packages/ipykernel_launcher.py:2: SettingWithCopyWarning: \n",
      "A value is trying to be set on a copy of a slice from a DataFrame.\n",
      "Try using .loc[row_indexer,col_indexer] = value instead\n",
      "\n",
      "See the caveats in the documentation: https://pandas.pydata.org/pandas-docs/stable/user_guide/indexing.html#returning-a-view-versus-a-copy\n",
      "  \n"
     ]
    }
   ],
   "source": [
    "text_analysis['reviewText_Features'] = text_analysis['reviewText_without_stopwords'].apply(lambda x: ' '.join([word for word in x.split() if word not in (neg_words)]))\n",
    "text_analysis['reviewText_Features_final'] = text_analysis['reviewText_Features'].apply(lambda x: ' '.join([word for word in x.split() if word not in (pos_words)]))"
   ]
  },
  {
   "cell_type": "code",
   "execution_count": null,
   "metadata": {
    "colab": {
     "base_uri": "https://localhost:8080/",
     "height": 893
    },
    "id": "SGn5AnUL9IF0",
    "outputId": "89dd51bb-fd3b-4fb9-fcf9-e6ab198337d2"
   },
   "outputs": [
    {
     "data": {
      "text/html": [
       "\n",
       "  <div id=\"df-f3e4ee07-3d95-414a-807f-59015d6595d3\">\n",
       "    <div class=\"colab-df-container\">\n",
       "      <div>\n",
       "<style scoped>\n",
       "    .dataframe tbody tr th:only-of-type {\n",
       "        vertical-align: middle;\n",
       "    }\n",
       "\n",
       "    .dataframe tbody tr th {\n",
       "        vertical-align: top;\n",
       "    }\n",
       "\n",
       "    .dataframe thead th {\n",
       "        text-align: right;\n",
       "    }\n",
       "</style>\n",
       "<table border=\"1\" class=\"dataframe\">\n",
       "  <thead>\n",
       "    <tr style=\"text-align: right;\">\n",
       "      <th></th>\n",
       "      <th>reviewText</th>\n",
       "      <th>review_sentiment</th>\n",
       "      <th>reviewText_without_stopwords</th>\n",
       "      <th>reviewText_with_positivewords</th>\n",
       "      <th>reviewText_with_Negativewords</th>\n",
       "      <th>reviewText_Features</th>\n",
       "      <th>reviewText_Features_final</th>\n",
       "    </tr>\n",
       "  </thead>\n",
       "  <tbody>\n",
       "    <tr>\n",
       "      <th>3</th>\n",
       "      <td>..and i'm from europe, where the phones and ne...</td>\n",
       "      <td>POSITIVE</td>\n",
       "      <td>..and i'm europe, phones networks better state...</td>\n",
       "      <td>better best amazingly great recommend</td>\n",
       "      <td></td>\n",
       "      <td>..and i'm europe, phones networks better state...</td>\n",
       "      <td>..and i'm europe, phones networks states. sams...</td>\n",
       "    </tr>\n",
       "    <tr>\n",
       "      <th>5</th>\n",
       "      <td>the last year or so we have all seen an explos...</td>\n",
       "      <td>POSITIVE</td>\n",
       "      <td>seen explosion nice color phones market. funct...</td>\n",
       "      <td>nice bonus like nice nice well easy foremost w...</td>\n",
       "      <td>not not not don't don't not</td>\n",
       "      <td>seen explosion nice color phones market. funct...</td>\n",
       "      <td>seen explosion color phones market. functional...</td>\n",
       "    </tr>\n",
       "    <tr>\n",
       "      <th>35</th>\n",
       "      <td>overall, i really like the phone but i have to...</td>\n",
       "      <td>POSITIVE</td>\n",
       "      <td>overall, like phone experienced issues reviewe...</td>\n",
       "      <td>like nice good good nice good great useable pr...</td>\n",
       "      <td>issues lag not cannot</td>\n",
       "      <td>overall, like phone experienced reviewers also...</td>\n",
       "      <td>overall, phone experienced reviewers also. pro...</td>\n",
       "    </tr>\n",
       "    <tr>\n",
       "      <th>41</th>\n",
       "      <td>was my mom's phone. she barely used it. just r...</td>\n",
       "      <td>POSITIVE</td>\n",
       "      <td>mom's phone. barely it. rating list. this, don...</td>\n",
       "      <td></td>\n",
       "      <td>don't</td>\n",
       "      <td>mom's phone. barely it. rating list. this, wil...</td>\n",
       "      <td>mom's phone. barely it. rating list. this, wil...</td>\n",
       "    </tr>\n",
       "    <tr>\n",
       "      <th>42</th>\n",
       "      <td>this is a great phone in terms of reception. t...</td>\n",
       "      <td>POSITIVE</td>\n",
       "      <td>great phone terms reception. design flaws. car...</td>\n",
       "      <td>great easy useful nice</td>\n",
       "      <td>limited difficult not impossible useless impos...</td>\n",
       "      <td>great phone terms reception. design flaws. car...</td>\n",
       "      <td>phone terms reception. design flaws. carrying ...</td>\n",
       "    </tr>\n",
       "    <tr>\n",
       "      <th>43</th>\n",
       "      <td>i have previously owned the v400, v525, v600, ...</td>\n",
       "      <td>NEGATIVE</td>\n",
       "      <td>previously owned v400, v525, v600, v710. am de...</td>\n",
       "      <td>glad nicest reliable</td>\n",
       "      <td>complaint</td>\n",
       "      <td>previously owned v400, v525, v600, v710. am de...</td>\n",
       "      <td>previously owned v400, v525, v600, v710. am de...</td>\n",
       "    </tr>\n",
       "    <tr>\n",
       "      <th>47</th>\n",
       "      <td>one great thing about the cell phone industry ...</td>\n",
       "      <td>POSITIVE</td>\n",
       "      <td>great cell phone industry country contract exp...</td>\n",
       "      <td>great great great good great great important e...</td>\n",
       "      <td>don't interruptions not limited disable no not...</td>\n",
       "      <td>great cell phone industry country contract exp...</td>\n",
       "      <td>cell phone industry country contract expires y...</td>\n",
       "    </tr>\n",
       "    <tr>\n",
       "      <th>75</th>\n",
       "      <td>i've been using this phone for about three wee...</td>\n",
       "      <td>NEGATIVE</td>\n",
       "      <td>i've using phone weeks t-mobile system ct trav...</td>\n",
       "      <td>easy pros pretty well clearly clear helpful ca...</td>\n",
       "      <td>flaws not unexpected cannot doesn't cons diffi...</td>\n",
       "      <td>i've using phone weeks t-mobile system ct trav...</td>\n",
       "      <td>i've using phone weeks t-mobile system ct trav...</td>\n",
       "    </tr>\n",
       "    <tr>\n",
       "      <th>76</th>\n",
       "      <td>this is actually a quad-band mobile phone whic...</td>\n",
       "      <td>POSITIVE</td>\n",
       "      <td>actually quad-band mobile phone makes true 'wo...</td>\n",
       "      <td>well great vivid great modern ease</td>\n",
       "      <td>don't no curses indistinguishable couldn't bot...</td>\n",
       "      <td>actually quad-band mobile phone makes true 'wo...</td>\n",
       "      <td>actually quad-band mobile phone makes true 'wo...</td>\n",
       "    </tr>\n",
       "    <tr>\n",
       "      <th>79</th>\n",
       "      <td>this is one of the nicest phones i have used. ...</td>\n",
       "      <td>NEGATIVE</td>\n",
       "      <td>nicest phones used. traditional flip phone pho...</td>\n",
       "      <td>nicest works</td>\n",
       "      <td></td>\n",
       "      <td>nicest phones used. traditional flip phone pho...</td>\n",
       "      <td>phones used. traditional flip phone phone phon...</td>\n",
       "    </tr>\n",
       "  </tbody>\n",
       "</table>\n",
       "</div>\n",
       "      <button class=\"colab-df-convert\" onclick=\"convertToInteractive('df-f3e4ee07-3d95-414a-807f-59015d6595d3')\"\n",
       "              title=\"Convert this dataframe to an interactive table.\"\n",
       "              style=\"display:none;\">\n",
       "        \n",
       "  <svg xmlns=\"http://www.w3.org/2000/svg\" height=\"24px\"viewBox=\"0 0 24 24\"\n",
       "       width=\"24px\">\n",
       "    <path d=\"M0 0h24v24H0V0z\" fill=\"none\"/>\n",
       "    <path d=\"M18.56 5.44l.94 2.06.94-2.06 2.06-.94-2.06-.94-.94-2.06-.94 2.06-2.06.94zm-11 1L8.5 8.5l.94-2.06 2.06-.94-2.06-.94L8.5 2.5l-.94 2.06-2.06.94zm10 10l.94 2.06.94-2.06 2.06-.94-2.06-.94-.94-2.06-.94 2.06-2.06.94z\"/><path d=\"M17.41 7.96l-1.37-1.37c-.4-.4-.92-.59-1.43-.59-.52 0-1.04.2-1.43.59L10.3 9.45l-7.72 7.72c-.78.78-.78 2.05 0 2.83L4 21.41c.39.39.9.59 1.41.59.51 0 1.02-.2 1.41-.59l7.78-7.78 2.81-2.81c.8-.78.8-2.07 0-2.86zM5.41 20L4 18.59l7.72-7.72 1.47 1.35L5.41 20z\"/>\n",
       "  </svg>\n",
       "      </button>\n",
       "      \n",
       "  <style>\n",
       "    .colab-df-container {\n",
       "      display:flex;\n",
       "      flex-wrap:wrap;\n",
       "      gap: 12px;\n",
       "    }\n",
       "\n",
       "    .colab-df-convert {\n",
       "      background-color: #E8F0FE;\n",
       "      border: none;\n",
       "      border-radius: 50%;\n",
       "      cursor: pointer;\n",
       "      display: none;\n",
       "      fill: #1967D2;\n",
       "      height: 32px;\n",
       "      padding: 0 0 0 0;\n",
       "      width: 32px;\n",
       "    }\n",
       "\n",
       "    .colab-df-convert:hover {\n",
       "      background-color: #E2EBFA;\n",
       "      box-shadow: 0px 1px 2px rgba(60, 64, 67, 0.3), 0px 1px 3px 1px rgba(60, 64, 67, 0.15);\n",
       "      fill: #174EA6;\n",
       "    }\n",
       "\n",
       "    [theme=dark] .colab-df-convert {\n",
       "      background-color: #3B4455;\n",
       "      fill: #D2E3FC;\n",
       "    }\n",
       "\n",
       "    [theme=dark] .colab-df-convert:hover {\n",
       "      background-color: #434B5C;\n",
       "      box-shadow: 0px 1px 3px 1px rgba(0, 0, 0, 0.15);\n",
       "      filter: drop-shadow(0px 1px 2px rgba(0, 0, 0, 0.3));\n",
       "      fill: #FFFFFF;\n",
       "    }\n",
       "  </style>\n",
       "\n",
       "      <script>\n",
       "        const buttonEl =\n",
       "          document.querySelector('#df-f3e4ee07-3d95-414a-807f-59015d6595d3 button.colab-df-convert');\n",
       "        buttonEl.style.display =\n",
       "          google.colab.kernel.accessAllowed ? 'block' : 'none';\n",
       "\n",
       "        async function convertToInteractive(key) {\n",
       "          const element = document.querySelector('#df-f3e4ee07-3d95-414a-807f-59015d6595d3');\n",
       "          const dataTable =\n",
       "            await google.colab.kernel.invokeFunction('convertToInteractive',\n",
       "                                                     [key], {});\n",
       "          if (!dataTable) return;\n",
       "\n",
       "          const docLinkHtml = 'Like what you see? Visit the ' +\n",
       "            '<a target=\"_blank\" href=https://colab.research.google.com/notebooks/data_table.ipynb>data table notebook</a>'\n",
       "            + ' to learn more about interactive tables.';\n",
       "          element.innerHTML = '';\n",
       "          dataTable['output_type'] = 'display_data';\n",
       "          await google.colab.output.renderOutput(dataTable, element);\n",
       "          const docLink = document.createElement('div');\n",
       "          docLink.innerHTML = docLinkHtml;\n",
       "          element.appendChild(docLink);\n",
       "        }\n",
       "      </script>\n",
       "    </div>\n",
       "  </div>\n",
       "  "
      ],
      "text/plain": [
       "                                           reviewText  ...                          reviewText_Features_final\n",
       "3   ..and i'm from europe, where the phones and ne...  ...  ..and i'm europe, phones networks states. sams...\n",
       "5   the last year or so we have all seen an explos...  ...  seen explosion color phones market. functional...\n",
       "35  overall, i really like the phone but i have to...  ...  overall, phone experienced reviewers also. pro...\n",
       "41  was my mom's phone. she barely used it. just r...  ...  mom's phone. barely it. rating list. this, wil...\n",
       "42  this is a great phone in terms of reception. t...  ...  phone terms reception. design flaws. carrying ...\n",
       "43  i have previously owned the v400, v525, v600, ...  ...  previously owned v400, v525, v600, v710. am de...\n",
       "47  one great thing about the cell phone industry ...  ...  cell phone industry country contract expires y...\n",
       "75  i've been using this phone for about three wee...  ...  i've using phone weeks t-mobile system ct trav...\n",
       "76  this is actually a quad-band mobile phone whic...  ...  actually quad-band mobile phone makes true 'wo...\n",
       "79  this is one of the nicest phones i have used. ...  ...  phones used. traditional flip phone phone phon...\n",
       "\n",
       "[10 rows x 7 columns]"
      ]
     },
     "execution_count": 56,
     "metadata": {},
     "output_type": "execute_result"
    }
   ],
   "source": [
    "text_analysis.head(10)"
   ]
  },
  {
   "cell_type": "code",
   "execution_count": null,
   "metadata": {
    "colab": {
     "base_uri": "https://localhost:8080/"
    },
    "id": "IbtBMf8TDhGn",
    "outputId": "b522aa20-d7ef-45ef-b7a6-6c58e30b2829"
   },
   "outputs": [
    {
     "name": "stdout",
     "output_type": "stream",
     "text": [
      "[nltk_data] Downloading package punkt to /root/nltk_data...\n",
      "[nltk_data]   Unzipping tokenizers/punkt.zip.\n"
     ]
    },
    {
     "data": {
      "text/plain": [
       "True"
      ]
     },
     "execution_count": 57,
     "metadata": {},
     "output_type": "execute_result"
    }
   ],
   "source": [
    "import nltk\n",
    "nltk.download('punkt')\n",
    "\n",
    "#nltk.download(\"stopwords\")\n",
    "#from nltk.corpus import stopwords"
   ]
  },
  {
   "cell_type": "code",
   "execution_count": null,
   "metadata": {
    "colab": {
     "base_uri": "https://localhost:8080/"
    },
    "id": "f61THuHSBomL",
    "outputId": "1adfb2a7-6708-4fa2-cd7b-e7385b790671"
   },
   "outputs": [
    {
     "name": "stdout",
     "output_type": "stream",
     "text": [
      "3        ..and i'm europe, phones networks better state...\n",
      "5        seen explosion nice color phones market. funct...\n",
      "35       overall, like phone experienced issues reviewe...\n",
      "41       mom's phone. barely it. rating list. this, don...\n",
      "42       great phone terms reception. design flaws. car...\n",
      "                               ...                        \n",
      "62059    like: 1) solid build 2) unlocked means no carr...\n",
      "62060    phone stolen not activate all. told comes stol...\n",
      "62061                                                 good\n",
      "62062    purchased problems finally tossed them,screens...\n",
      "62063                                            excelente\n",
      "Name: reviewText_without_stopwords, Length: 50438, dtype: object\n"
     ]
    }
   ],
   "source": [
    "# extract the review text from the dataframe\n",
    "all_words = text_analysis.reviewText_without_stopwords\n",
    "print(all_words)"
   ]
  },
  {
   "cell_type": "code",
   "execution_count": null,
   "metadata": {
    "id": "p5k_ptWwC99z"
   },
   "outputs": [],
   "source": [
    "# convert review text into list\n",
    "all_words = [reviewText_without_stopwords for reviewText_without_stopwords in all_words]\n"
   ]
  },
  {
   "cell_type": "code",
   "execution_count": null,
   "metadata": {
    "id": "pgquwRi5DSXI"
   },
   "outputs": [],
   "source": [
    "all_words = ''.join(all_words)"
   ]
  },
  {
   "cell_type": "code",
   "execution_count": null,
   "metadata": {
    "id": "py9Wbsu_DlOj"
   },
   "outputs": [],
   "source": [
    "all_words_list = all_words.split()\n"
   ]
  },
  {
   "cell_type": "code",
   "execution_count": null,
   "metadata": {
    "id": "kHdDbv9YDlBs"
   },
   "outputs": [],
   "source": [
    "from nltk import FreqDist\n",
    "import seaborn as sns\n",
    "%matplotlib inline"
   ]
  },
  {
   "cell_type": "code",
   "execution_count": null,
   "metadata": {
    "id": "Egxo2dFhDkr9"
   },
   "outputs": [],
   "source": [
    "def plot_word_frequency(words, top_n=10):\n",
    "    word_freq = FreqDist(words)\n",
    "    labels = [element[0] for element in word_freq.most_common(top_n)]\n",
    "    counts = [element[1] for element in word_freq.most_common(top_n)]\n",
    "    plot = sns.barplot(labels, counts)\n",
    "    return plot"
   ]
  },
  {
   "cell_type": "markdown",
   "metadata": {
    "id": "qJp_3l41GogV"
   },
   "source": [
    "**2. Bag of Words**"
   ]
  },
  {
   "cell_type": "code",
   "execution_count": null,
   "metadata": {
    "colab": {
     "base_uri": "https://localhost:8080/",
     "height": 337
    },
    "id": "Dlp0quBNEKYf",
    "outputId": "e28c6d79-780f-480e-8a6d-a1527c1e8e75"
   },
   "outputs": [
    {
     "name": "stderr",
     "output_type": "stream",
     "text": [
      "/usr/local/lib/python3.7/dist-packages/seaborn/_decorators.py:43: FutureWarning: Pass the following variables as keyword args: x, y. From version 0.12, the only valid positional argument will be `data`, and passing other arguments without an explicit keyword will result in an error or misinterpretation.\n",
      "  FutureWarning\n"
     ]
    },
    {
     "data": {
      "text/plain": [
       "<matplotlib.axes._subplots.AxesSubplot at 0x7f37bcf89cd0>"
      ]
     },
     "execution_count": 64,
     "metadata": {},
     "output_type": "execute_result"
    },
    {
     "data": {
      "image/png": "[encoded data removed]",
      "text/plain": [
       "<Figure size 432x288 with 1 Axes>"
      ]
     },
     "metadata": {
      "needs_background": "light"
     },
     "output_type": "display_data"
    }
   ],
   "source": [
    "plot_word_frequency(all_words_list, 15)"
   ]
  },
  {
   "cell_type": "markdown",
   "metadata": {
    "id": "XgkT97G0HfLK"
   },
   "source": [
    "**3. Positive and Negative words corpuses**"
   ]
  },
  {
   "cell_type": "markdown",
   "metadata": {
    "id": "9cpcUrnTEjSR"
   },
   "source": [
    "**POSITIVE WORD FREQUENCY**"
   ]
  },
  {
   "cell_type": "code",
   "execution_count": null,
   "metadata": {
    "colab": {
     "base_uri": "https://localhost:8080/"
    },
    "id": "dN0TKY_9EVzA",
    "outputId": "db9c346d-08d5-47fd-abe9-12dc928caa0a"
   },
   "outputs": [
    {
     "name": "stdout",
     "output_type": "stream",
     "text": [
      "3                    better best amazingly great recommend\n",
      "5        nice bonus like nice nice well easy foremost w...\n",
      "35       like nice good good nice good great useable pr...\n",
      "41                                                        \n",
      "42                                  great easy useful nice\n",
      "                               ...                        \n",
      "62059    solid quicker excellent like loved favorite li...\n",
      "62060                                           appreciate\n",
      "62061                                                 good\n",
      "62062                                                great\n",
      "62063                                                     \n",
      "Name: reviewText_with_positivewords, Length: 50438, dtype: object\n"
     ]
    }
   ],
   "source": [
    "pos_words = text_analysis.reviewText_with_positivewords\n",
    "print(pos_words)"
   ]
  },
  {
   "cell_type": "code",
   "execution_count": null,
   "metadata": {
    "id": "y1NNJdz2EVwT"
   },
   "outputs": [],
   "source": [
    "pos_words = [reviewText_with_positivewords for reviewText_with_positivewords in pos_words]\n"
   ]
  },
  {
   "cell_type": "code",
   "execution_count": null,
   "metadata": {
    "id": "NtG4QcmFEVsu"
   },
   "outputs": [],
   "source": [
    "pos_words = ''.join(pos_words)\n",
    "pos_words_list = pos_words.split()"
   ]
  },
  {
   "cell_type": "code",
   "execution_count": null,
   "metadata": {
    "colab": {
     "base_uri": "https://localhost:8080/",
     "height": 337
    },
    "id": "3j8vJXZiEVpM",
    "outputId": "d0ee8e57-8cf5-4a52-b734-42f63bdfdb63"
   },
   "outputs": [
    {
     "name": "stderr",
     "output_type": "stream",
     "text": [
      "/usr/local/lib/python3.7/dist-packages/seaborn/_decorators.py:43: FutureWarning: Pass the following variables as keyword args: x, y. From version 0.12, the only valid positional argument will be `data`, and passing other arguments without an explicit keyword will result in an error or misinterpretation.\n",
      "  FutureWarning\n"
     ]
    },
    {
     "data": {
      "text/plain": [
       "<matplotlib.axes._subplots.AxesSubplot at 0x7f37bbc57a90>"
      ]
     },
     "execution_count": 68,
     "metadata": {},
     "output_type": "execute_result"
    },
    {
     "data": {
      "image/png": "[encoded data removed]",
      "text/plain": [
       "<Figure size 432x288 with 1 Axes>"
      ]
     },
     "metadata": {
      "needs_background": "light"
     },
     "output_type": "display_data"
    }
   ],
   "source": [
    "plot_word_frequency(pos_words_list, 10)"
   ]
  },
  {
   "cell_type": "markdown",
   "metadata": {
    "id": "cfGdE-JMJIqM"
   },
   "source": [
    "**NEGATIVE WORD FREQUENCY**"
   ]
  },
  {
   "cell_type": "code",
   "execution_count": null,
   "metadata": {
    "colab": {
     "base_uri": "https://localhost:8080/"
    },
    "id": "V6yWqvxKJH5_",
    "outputId": "7191557f-0c8c-41c5-c6d8-bc528f976b84"
   },
   "outputs": [
    {
     "name": "stdout",
     "output_type": "stream",
     "text": [
      "3                                                         \n",
      "5                              not not not don't don't not\n",
      "35                                   issues lag not cannot\n",
      "41                                                   don't\n",
      "42       limited difficult not impossible useless impos...\n",
      "                               ...                        \n",
      "62059    no don't not wouldn't miss not not doesn't spi...\n",
      "62060                                     stolen not don't\n",
      "62061                                                     \n",
      "62062                               problems disappointing\n",
      "62063                                                     \n",
      "Name: reviewText_with_Negativewords, Length: 50438, dtype: object\n"
     ]
    }
   ],
   "source": [
    "neg_words = text_analysis.reviewText_with_Negativewords\n",
    "print(neg_words)"
   ]
  },
  {
   "cell_type": "code",
   "execution_count": null,
   "metadata": {
    "id": "z0Im3DuFJQ2j"
   },
   "outputs": [],
   "source": [
    "neg_words = [reviewText_with_Negativewords for reviewText_with_Negativewords in neg_words]\n"
   ]
  },
  {
   "cell_type": "code",
   "execution_count": null,
   "metadata": {
    "id": "NqX71erPJQlx"
   },
   "outputs": [],
   "source": [
    "neg_words = ''.join(neg_words)\n",
    "neg_words_list = neg_words.split()"
   ]
  },
  {
   "cell_type": "code",
   "execution_count": null,
   "metadata": {
    "colab": {
     "base_uri": "https://localhost:8080/",
     "height": 337
    },
    "id": "ZJkqSXlhJQbJ",
    "outputId": "a9d12977-264c-49be-d31a-d3047f8f83f2"
   },
   "outputs": [
    {
     "name": "stderr",
     "output_type": "stream",
     "text": [
      "/usr/local/lib/python3.7/dist-packages/seaborn/_decorators.py:43: FutureWarning: Pass the following variables as keyword args: x, y. From version 0.12, the only valid positional argument will be `data`, and passing other arguments without an explicit keyword will result in an error or misinterpretation.\n",
      "  FutureWarning\n"
     ]
    },
    {
     "data": {
      "text/plain": [
       "<matplotlib.axes._subplots.AxesSubplot at 0x7f37bb80ef90>"
      ]
     },
     "execution_count": 72,
     "metadata": {},
     "output_type": "execute_result"
    },
    {
     "data": {
      "image/png": "[encoded data removed]",
      "text/plain": [
       "<Figure size 432x288 with 1 Axes>"
      ]
     },
     "metadata": {
      "needs_background": "light"
     },
     "output_type": "display_data"
    }
   ],
   "source": [
    "plot_word_frequency(neg_words_list, 10)"
   ]
  },
  {
   "cell_type": "markdown",
   "metadata": {
    "id": "ItAF7VT8M7Ma"
   },
   "source": [
    "# **Features responsible for NEGATIVE Sentiment**"
   ]
  },
  {
   "cell_type": "code",
   "execution_count": null,
   "metadata": {
    "id": "t54UUysq6Whb"
   },
   "outputs": [],
   "source": [
    "negative_text_analysis = text_analysis[text_analysis['review_sentiment'] == 'NEGATIVE']"
   ]
  },
  {
   "cell_type": "code",
   "execution_count": null,
   "metadata": {
    "id": "sieKTtK6M5Mt"
   },
   "outputs": [],
   "source": [
    "neg_feature = negative_text_analysis.reviewText_Features_final\n",
    "neg_feature = [reviewText_Features_final for reviewText_Features_final in neg_feature]"
   ]
  },
  {
   "cell_type": "markdown",
   "metadata": {
    "id": "yXypstOTpWmh"
   },
   "source": [
    "Lets remove some of the other possible stop words"
   ]
  },
  {
   "cell_type": "code",
   "execution_count": null,
   "metadata": {
    "id": "i1nTNVemn6XS"
   },
   "outputs": [],
   "source": [
    "from itertools import groupby\n",
    "char_list = ['phone', 'it.','am','got','buy','-','bought',\"i'm\",'2','4','gracias','distysh','pingnt','!','signal','1','%','pcs','guess','blu','country','studio','store','christmas','original','time','card','using','little','it,','call','3','months',\"i've\",'el','day',',','.','expected','en','lo','muy','de','producto','buen','la','que','+','product','ddd','returned','star','week']\n",
    "  \n",
    "# Remove words containing list characters\n",
    "# using list comprehension + all()\n",
    "neg_feature = [ele for ele in neg_feature if all(ch not in ele for ch in char_list)]\n"
   ]
  },
  {
   "cell_type": "code",
   "execution_count": null,
   "metadata": {
    "id": "WHCvVz8Tn8K4"
   },
   "outputs": [],
   "source": [
    "neg_feature = ''.join(neg_feature)\n",
    "neg_words_list = neg_feature.split()"
   ]
  },
  {
   "cell_type": "code",
   "execution_count": null,
   "metadata": {
    "colab": {
     "base_uri": "https://localhost:8080/",
     "height": 337
    },
    "id": "fGmfMty5op59",
    "outputId": "37703a54-538b-43d7-b73b-c36c0cadbf5d"
   },
   "outputs": [
    {
     "name": "stderr",
     "output_type": "stream",
     "text": [
      "/usr/local/lib/python3.7/dist-packages/seaborn/_decorators.py:43: FutureWarning: Pass the following variables as keyword args: x, y. From version 0.12, the only valid positional argument will be `data`, and passing other arguments without an explicit keyword will result in an error or misinterpretation.\n",
      "  FutureWarning\n"
     ]
    },
    {
     "data": {
      "text/plain": [
       "<matplotlib.axes._subplots.AxesSubplot at 0x7f37bb73bfd0>"
      ]
     },
     "execution_count": 77,
     "metadata": {},
     "output_type": "execute_result"
    },
    {
     "data": {
      "image/png": "[encoded data removed]",
      "text/plain": [
       "<Figure size 432x288 with 1 Axes>"
      ]
     },
     "metadata": {
      "needs_background": "light"
     },
     "output_type": "display_data"
    }
   ],
   "source": [
    "plot_word_frequency(neg_words_list, 10)"
   ]
  },
  {
   "cell_type": "code",
   "execution_count": null,
   "metadata": {
    "colab": {
     "base_uri": "https://localhost:8080/",
     "height": 215
    },
    "id": "ZiuZ25naM5I3",
    "outputId": "a61d2aae-9f8e-437a-a33f-c84ab883f5da"
   },
   "outputs": [
    {
     "data": {
      "text/plain": [
       "(-0.5, 399.5, 199.5, -0.5)"
      ]
     },
     "execution_count": 78,
     "metadata": {},
     "output_type": "execute_result"
    },
    {
     "data": {
      "image/png": "[encoded data removed]",
      "text/plain": [
       "<Figure size 432x288 with 1 Axes>"
      ]
     },
     "metadata": {
      "needs_background": "light"
     },
     "output_type": "display_data"
    }
   ],
   "source": [
    "wordcloud = WordCloud().generate(neg_feature)\n",
    "plt.imshow(wordcloud, interpolation='bilinear')\n",
    "plt.axis(\"off\")"
   ]
  },
  {
   "cell_type": "markdown",
   "metadata": {
    "id": "jgsulS1n-k76"
   },
   "source": [
    "# **Features responsible for POSITIVE Sentiment**"
   ]
  },
  {
   "cell_type": "code",
   "execution_count": null,
   "metadata": {
    "id": "ymddYGssjvzU"
   },
   "outputs": [],
   "source": [
    "positive_text_analysis = text_analysis[text_analysis['review_sentiment'] == 'POSITIVE']"
   ]
  },
  {
   "cell_type": "code",
   "execution_count": null,
   "metadata": {
    "id": "ojAndGe_ZgMM"
   },
   "outputs": [],
   "source": [
    "pos_feature = positive_text_analysis.reviewText_Features_final\n",
    "pos_feature = [reviewText_Features_final for reviewText_Features_final in pos_feature]"
   ]
  },
  {
   "cell_type": "markdown",
   "metadata": {
    "id": "1BnAqv7EpdSH"
   },
   "source": [
    "Lets remove some of the other possible stop words"
   ]
  },
  {
   "cell_type": "code",
   "execution_count": null,
   "metadata": {
    "id": "QLiGbgyI6ycR"
   },
   "outputs": [],
   "source": [
    "from itertools import groupby\n",
    "char_list = ['phone', 'it.','am','got','buy','-','cell','bought',\"i'm\",'2','time','price.','card','using','little','.','it,','call','3','months',\"i've\",',','100%','product']\n",
    "\n",
    "# Remove words containing list characters\n",
    "# using list comprehension + all()\n",
    "pos_feature = [ele for ele in pos_feature if all(ch not in ele for ch in char_list)]"
   ]
  },
  {
   "cell_type": "code",
   "execution_count": null,
   "metadata": {
    "id": "_MnqsaptM48h"
   },
   "outputs": [],
   "source": [
    "pos_feature = ''.join(pos_feature)\n",
    "pos_words_list = pos_feature.split()"
   ]
  },
  {
   "cell_type": "code",
   "execution_count": null,
   "metadata": {
    "colab": {
     "base_uri": "https://localhost:8080/",
     "height": 337
    },
    "id": "dl0ykedE7CEf",
    "outputId": "8c549e7b-fe4f-499b-f2ee-1dce032787df"
   },
   "outputs": [
    {
     "name": "stderr",
     "output_type": "stream",
     "text": [
      "/usr/local/lib/python3.7/dist-packages/seaborn/_decorators.py:43: FutureWarning: Pass the following variables as keyword args: x, y. From version 0.12, the only valid positional argument will be `data`, and passing other arguments without an explicit keyword will result in an error or misinterpretation.\n",
      "  FutureWarning\n"
     ]
    },
    {
     "data": {
      "text/plain": [
       "<matplotlib.axes._subplots.AxesSubplot at 0x7f37bb7de9d0>"
      ]
     },
     "execution_count": 83,
     "metadata": {},
     "output_type": "execute_result"
    },
    {
     "data": {
      "image/png": "[encoded data removed]",
      "text/plain": [
       "<Figure size 432x288 with 1 Axes>"
      ]
     },
     "metadata": {
      "needs_background": "light"
     },
     "output_type": "display_data"
    }
   ],
   "source": [
    "plot_word_frequency(pos_words_list, 10)"
   ]
  },
  {
   "cell_type": "code",
   "execution_count": null,
   "metadata": {
    "colab": {
     "base_uri": "https://localhost:8080/",
     "height": 215
    },
    "id": "vaq0IBYIL-0O",
    "outputId": "443044e3-7012-4f19-c5b4-c4b229080a4a"
   },
   "outputs": [
    {
     "data": {
      "text/plain": [
       "(-0.5, 399.5, 199.5, -0.5)"
      ]
     },
     "execution_count": 84,
     "metadata": {},
     "output_type": "execute_result"
    },
    {
     "data": {
      "image/png": "[encoded data removed]",
      "text/plain": [
       "<Figure size 432x288 with 1 Axes>"
      ]
     },
     "metadata": {
      "needs_background": "light"
     },
     "output_type": "display_data"
    }
   ],
   "source": [
    "wordcloud = WordCloud().generate(pos_feature)\n",
    "plt.imshow(wordcloud, interpolation='bilinear')\n",
    "plt.axis(\"off\")"
   ]
  },
  {
   "cell_type": "markdown",
   "metadata": {
    "id": "9Ma1NCxWKtWB"
   },
   "source": [
    "**WORD CLOUD for Postive and Negative words**"
   ]
  },
  {
   "cell_type": "code",
   "execution_count": null,
   "metadata": {
    "colab": {
     "base_uri": "https://localhost:8080/",
     "height": 215
    },
    "id": "c-mEzTRmEVX3",
    "outputId": "ae2683c3-6e8c-44f7-d483-89603f697f89"
   },
   "outputs": [
    {
     "data": {
      "text/plain": [
       "(-0.5, 399.5, 199.5, -0.5)"
      ]
     },
     "execution_count": 85,
     "metadata": {},
     "output_type": "execute_result"
    },
    {
     "data": {
      "image/png": "[encoded data removed]",
      "text/plain": [
       "<Figure size 432x288 with 1 Axes>"
      ]
     },
     "metadata": {
      "needs_background": "light"
     },
     "output_type": "display_data"
    }
   ],
   "source": [
    "wordcloud = WordCloud().generate(pos_words)\n",
    "plt.imshow(wordcloud, interpolation='bilinear')\n",
    "plt.axis(\"off\")\n"
   ]
  },
  {
   "cell_type": "code",
   "execution_count": null,
   "metadata": {
    "colab": {
     "base_uri": "https://localhost:8080/",
     "height": 215
    },
    "id": "LdffpB6VLp-a",
    "outputId": "b08189a4-6740-4e71-fdf4-b3fa901e7aa4"
   },
   "outputs": [
    {
     "data": {
      "text/plain": [
       "(-0.5, 399.5, 199.5, -0.5)"
      ]
     },
     "execution_count": 86,
     "metadata": {},
     "output_type": "execute_result"
    },
    {
     "data": {
      "image/png": "[encoded data removed]",
      "text/plain": [
       "<Figure size 432x288 with 1 Axes>"
      ]
     },
     "metadata": {
      "needs_background": "light"
     },
     "output_type": "display_data"
    }
   ],
   "source": [
    "wordcloud = WordCloud().generate(neg_words)\n",
    "plt.imshow(wordcloud, interpolation='bilinear')\n",
    "plt.axis(\"off\")"
   ]
  },
  {
   "cell_type": "code",
   "execution_count": null,
   "metadata": {
    "colab": {
     "base_uri": "https://localhost:8080/",
     "height": 34
    },
    "id": "mu8QFgMIKINF",
    "outputId": "d5f5fd76-f690-4bfb-a0f7-e9e463c54c6f"
   },
   "outputs": [
    {
     "data": {
      "application/javascript": [
       "\n",
       "    async function download(id, filename, size) {\n",
       "      if (!google.colab.kernel.accessAllowed) {\n",
       "        return;\n",
       "      }\n",
       "      const div = document.createElement('div');\n",
       "      const label = document.createElement('label');\n",
       "      label.textContent = `Downloading \"${filename}\": `;\n",
       "      div.appendChild(label);\n",
       "      const progress = document.createElement('progress');\n",
       "      progress.max = size;\n",
       "      div.appendChild(progress);\n",
       "      document.body.appendChild(div);\n",
       "\n",
       "      const buffers = [];\n",
       "      let downloaded = 0;\n",
       "\n",
       "      const channel = await google.colab.kernel.comms.open(id);\n",
       "      // Send a message to notify the kernel that we're ready.\n",
       "      channel.send({})\n",
       "\n",
       "      for await (const message of channel.messages) {\n",
       "        // Send a message to notify the kernel that we're ready.\n",
       "        channel.send({})\n",
       "        if (message.buffers) {\n",
       "          for (const buffer of message.buffers) {\n",
       "            buffers.push(buffer);\n",
       "            downloaded += buffer.byteLength;\n",
       "            progress.value = downloaded;\n",
       "          }\n",
       "        }\n",
       "      }\n",
       "      const blob = new Blob(buffers, {type: 'application/binary'});\n",
       "      const a = document.createElement('a');\n",
       "      a.href = window.URL.createObjectURL(blob);\n",
       "      a.download = filename;\n",
       "      div.appendChild(a);\n",
       "      a.click();\n",
       "      div.remove();\n",
       "    }\n",
       "  "
      ],
      "text/plain": [
       "<IPython.core.display.Javascript object>"
      ]
     },
     "metadata": {},
     "output_type": "display_data"
    },
    {
     "data": {
      "application/javascript": [
       "download(\"download_03b22bb2-8e15-42f3-a564-5cd7e4c032e6\", \"C:\\\\Users\\\\darsh\\\\Downloads\\\\Web Analytics Capstone project\\\\export_mergeddata.csv\", 1836627630)"
      ],
      "text/plain": [
       "<IPython.core.display.Javascript object>"
      ]
     },
     "metadata": {},
     "output_type": "display_data"
    }
   ],
   "source": [
    "from google.colab import files\n",
    "df_merged_data.to_csv(r'C:\\Users\\darsh\\Downloads\\Web Analytics Capstone project\\export_mergeddata.csv', index = False, header=True)\n",
    "files.download(r'C:\\Users\\darsh\\Downloads\\Web Analytics Capstone project\\export_mergeddata.csv')"
   ]
  },
  {
   "cell_type": "markdown",
   "metadata": {
    "id": "gXF5Q_qdn_B8"
   },
   "source": [
    "# **3.Review Text Classifier : Multinomial Naive Bayes**"
   ]
  },
  {
   "cell_type": "markdown",
   "metadata": {
    "id": "oKOM3d4PoVDu"
   },
   "source": [
    "The notebook is divided into the following sections:\n",
    "\n",
    "1.   Importing and preprocessing data\n",
    "2.   Building the model: Multinomial Naive Bayes\n",
    "   \n",
    "  *   Model building\n",
    "  *   Model evaluation\n",
    "\n",
    "\n",
    "        "
   ]
  },
  {
   "cell_type": "markdown",
   "metadata": {
    "id": "LvV3eOmWoyAX"
   },
   "source": [
    "1. Importing and Preprocessing Data"
   ]
  },
  {
   "cell_type": "code",
   "execution_count": null,
   "metadata": {
    "colab": {
     "base_uri": "https://localhost:8080/",
     "height": 206
    },
    "id": "p0iEaEyRn35U",
    "outputId": "271e216b-1a01-41e1-fb59-d0799f125c9a"
   },
   "outputs": [
    {
     "data": {
      "text/html": [
       "\n",
       "  <div id=\"df-d39b20c8-253b-439d-8208-7dde899c9820\">\n",
       "    <div class=\"colab-df-container\">\n",
       "      <div>\n",
       "<style scoped>\n",
       "    .dataframe tbody tr th:only-of-type {\n",
       "        vertical-align: middle;\n",
       "    }\n",
       "\n",
       "    .dataframe tbody tr th {\n",
       "        vertical-align: top;\n",
       "    }\n",
       "\n",
       "    .dataframe thead th {\n",
       "        text-align: right;\n",
       "    }\n",
       "</style>\n",
       "<table border=\"1\" class=\"dataframe\">\n",
       "  <thead>\n",
       "    <tr style=\"text-align: right;\">\n",
       "      <th></th>\n",
       "      <th>reviewText</th>\n",
       "      <th>review_sentiment</th>\n",
       "    </tr>\n",
       "  </thead>\n",
       "  <tbody>\n",
       "    <tr>\n",
       "      <th>0</th>\n",
       "      <td>This phone is ugly and heavy and has a terribl...</td>\n",
       "      <td>NEGATIVE</td>\n",
       "    </tr>\n",
       "    <tr>\n",
       "      <th>1</th>\n",
       "      <td>I had the Samsung V205 and then I decided to t...</td>\n",
       "      <td>POSITIVE</td>\n",
       "    </tr>\n",
       "    <tr>\n",
       "      <th>2</th>\n",
       "      <td>This is the first Samsung phone I have had and...</td>\n",
       "      <td>NEGATIVE</td>\n",
       "    </tr>\n",
       "    <tr>\n",
       "      <th>3</th>\n",
       "      <td>..and I'm from Europe, where the phones and ne...</td>\n",
       "      <td>POSITIVE</td>\n",
       "    </tr>\n",
       "    <tr>\n",
       "      <th>4</th>\n",
       "      <td>This phone is amazingly small and light for a ...</td>\n",
       "      <td>POSITIVE</td>\n",
       "    </tr>\n",
       "  </tbody>\n",
       "</table>\n",
       "</div>\n",
       "      <button class=\"colab-df-convert\" onclick=\"convertToInteractive('df-d39b20c8-253b-439d-8208-7dde899c9820')\"\n",
       "              title=\"Convert this dataframe to an interactive table.\"\n",
       "              style=\"display:none;\">\n",
       "        \n",
       "  <svg xmlns=\"http://www.w3.org/2000/svg\" height=\"24px\"viewBox=\"0 0 24 24\"\n",
       "       width=\"24px\">\n",
       "    <path d=\"M0 0h24v24H0V0z\" fill=\"none\"/>\n",
       "    <path d=\"M18.56 5.44l.94 2.06.94-2.06 2.06-.94-2.06-.94-.94-2.06-.94 2.06-2.06.94zm-11 1L8.5 8.5l.94-2.06 2.06-.94-2.06-.94L8.5 2.5l-.94 2.06-2.06.94zm10 10l.94 2.06.94-2.06 2.06-.94-2.06-.94-.94-2.06-.94 2.06-2.06.94z\"/><path d=\"M17.41 7.96l-1.37-1.37c-.4-.4-.92-.59-1.43-.59-.52 0-1.04.2-1.43.59L10.3 9.45l-7.72 7.72c-.78.78-.78 2.05 0 2.83L4 21.41c.39.39.9.59 1.41.59.51 0 1.02-.2 1.41-.59l7.78-7.78 2.81-2.81c.8-.78.8-2.07 0-2.86zM5.41 20L4 18.59l7.72-7.72 1.47 1.35L5.41 20z\"/>\n",
       "  </svg>\n",
       "      </button>\n",
       "      \n",
       "  <style>\n",
       "    .colab-df-container {\n",
       "      display:flex;\n",
       "      flex-wrap:wrap;\n",
       "      gap: 12px;\n",
       "    }\n",
       "\n",
       "    .colab-df-convert {\n",
       "      background-color: #E8F0FE;\n",
       "      border: none;\n",
       "      border-radius: 50%;\n",
       "      cursor: pointer;\n",
       "      display: none;\n",
       "      fill: #1967D2;\n",
       "      height: 32px;\n",
       "      padding: 0 0 0 0;\n",
       "      width: 32px;\n",
       "    }\n",
       "\n",
       "    .colab-df-convert:hover {\n",
       "      background-color: #E2EBFA;\n",
       "      box-shadow: 0px 1px 2px rgba(60, 64, 67, 0.3), 0px 1px 3px 1px rgba(60, 64, 67, 0.15);\n",
       "      fill: #174EA6;\n",
       "    }\n",
       "\n",
       "    [theme=dark] .colab-df-convert {\n",
       "      background-color: #3B4455;\n",
       "      fill: #D2E3FC;\n",
       "    }\n",
       "\n",
       "    [theme=dark] .colab-df-convert:hover {\n",
       "      background-color: #434B5C;\n",
       "      box-shadow: 0px 1px 3px 1px rgba(0, 0, 0, 0.15);\n",
       "      filter: drop-shadow(0px 1px 2px rgba(0, 0, 0, 0.3));\n",
       "      fill: #FFFFFF;\n",
       "    }\n",
       "  </style>\n",
       "\n",
       "      <script>\n",
       "        const buttonEl =\n",
       "          document.querySelector('#df-d39b20c8-253b-439d-8208-7dde899c9820 button.colab-df-convert');\n",
       "        buttonEl.style.display =\n",
       "          google.colab.kernel.accessAllowed ? 'block' : 'none';\n",
       "\n",
       "        async function convertToInteractive(key) {\n",
       "          const element = document.querySelector('#df-d39b20c8-253b-439d-8208-7dde899c9820');\n",
       "          const dataTable =\n",
       "            await google.colab.kernel.invokeFunction('convertToInteractive',\n",
       "                                                     [key], {});\n",
       "          if (!dataTable) return;\n",
       "\n",
       "          const docLinkHtml = 'Like what you see? Visit the ' +\n",
       "            '<a target=\"_blank\" href=https://colab.research.google.com/notebooks/data_table.ipynb>data table notebook</a>'\n",
       "            + ' to learn more about interactive tables.';\n",
       "          element.innerHTML = '';\n",
       "          dataTable['output_type'] = 'display_data';\n",
       "          await google.colab.output.renderOutput(dataTable, element);\n",
       "          const docLink = document.createElement('div');\n",
       "          docLink.innerHTML = docLinkHtml;\n",
       "          element.appendChild(docLink);\n",
       "        }\n",
       "      </script>\n",
       "    </div>\n",
       "  </div>\n",
       "  "
      ],
      "text/plain": [
       "                                          reviewText review_sentiment\n",
       "0  This phone is ugly and heavy and has a terribl...         NEGATIVE\n",
       "1  I had the Samsung V205 and then I decided to t...         POSITIVE\n",
       "2  This is the first Samsung phone I have had and...         NEGATIVE\n",
       "3  ..and I'm from Europe, where the phones and ne...         POSITIVE\n",
       "4  This phone is amazingly small and light for a ...         POSITIVE"
      ]
     },
     "execution_count": 88,
     "metadata": {},
     "output_type": "execute_result"
    }
   ],
   "source": [
    "import pandas as pd\n",
    "\n",
    "nb_analysis.head(5)"
   ]
  },
  {
   "cell_type": "code",
   "execution_count": null,
   "metadata": {
    "colab": {
     "base_uri": "https://localhost:8080/"
    },
    "id": "UpFtZ4I0ty6N",
    "outputId": "3910c2a7-0af7-48d8-aac3-54950855c5de"
   },
   "outputs": [
    {
     "data": {
      "text/plain": [
       "62065"
      ]
     },
     "execution_count": 89,
     "metadata": {},
     "output_type": "execute_result"
    }
   ],
   "source": [
    "# number of review text\n",
    "len(nb_analysis)"
   ]
  },
  {
   "cell_type": "code",
   "execution_count": null,
   "metadata": {
    "colab": {
     "base_uri": "https://localhost:8080/"
    },
    "id": "4OKpdoNut7js",
    "outputId": "cbf57615-40af-4c49-a17a-e8c221595e25"
   },
   "outputs": [
    {
     "data": {
      "text/plain": [
       "review_sentiment\n",
       "NEGATIVE    15714\n",
       "POSITIVE    46351\n",
       "Name: reviewText, dtype: int64"
      ]
     },
     "execution_count": 90,
     "metadata": {},
     "output_type": "execute_result"
    }
   ],
   "source": [
    "# counting Positive and Negative reviews\n",
    "nb_analysis[['review_sentiment','reviewText']].groupby('review_sentiment')['reviewText'].count()"
   ]
  },
  {
   "cell_type": "markdown",
   "metadata": {
    "id": "rm6dxfqYvPSr"
   },
   "source": [
    "26% is negative. Its not too bad. This imbalance is OK to proceed."
   ]
  },
  {
   "cell_type": "code",
   "execution_count": null,
   "metadata": {
    "id": "9dZNSpy4vpTo"
   },
   "outputs": [],
   "source": [
    "# mapping labels to 0 and 1\n",
    "\n",
    "new_data = { \"POSITIVE\":\"1\",\n",
    "             \"NEGATIVE\":\"0\",\n",
    "             }\n",
    "  \n",
    "# combine this new data with existing DataFrame\n",
    "nb_analysis[\"review_sentiment_num\"] = nb_analysis[\"review_sentiment\"].map(new_data)\n"
   ]
  },
  {
   "cell_type": "code",
   "execution_count": null,
   "metadata": {
    "colab": {
     "base_uri": "https://localhost:8080/",
     "height": 206
    },
    "id": "VycLND-vw31-",
    "outputId": "dab5637f-4d44-4cb1-b88b-56bfc3125017"
   },
   "outputs": [
    {
     "data": {
      "text/html": [
       "\n",
       "  <div id=\"df-a39216cb-3d9e-4e5c-b1b1-a34e3a812a03\">\n",
       "    <div class=\"colab-df-container\">\n",
       "      <div>\n",
       "<style scoped>\n",
       "    .dataframe tbody tr th:only-of-type {\n",
       "        vertical-align: middle;\n",
       "    }\n",
       "\n",
       "    .dataframe tbody tr th {\n",
       "        vertical-align: top;\n",
       "    }\n",
       "\n",
       "    .dataframe thead th {\n",
       "        text-align: right;\n",
       "    }\n",
       "</style>\n",
       "<table border=\"1\" class=\"dataframe\">\n",
       "  <thead>\n",
       "    <tr style=\"text-align: right;\">\n",
       "      <th></th>\n",
       "      <th>reviewText</th>\n",
       "      <th>review_sentiment</th>\n",
       "      <th>review_sentiment_num</th>\n",
       "    </tr>\n",
       "  </thead>\n",
       "  <tbody>\n",
       "    <tr>\n",
       "      <th>0</th>\n",
       "      <td>This phone is ugly and heavy and has a terribl...</td>\n",
       "      <td>NEGATIVE</td>\n",
       "      <td>0</td>\n",
       "    </tr>\n",
       "    <tr>\n",
       "      <th>1</th>\n",
       "      <td>I had the Samsung V205 and then I decided to t...</td>\n",
       "      <td>POSITIVE</td>\n",
       "      <td>1</td>\n",
       "    </tr>\n",
       "    <tr>\n",
       "      <th>2</th>\n",
       "      <td>This is the first Samsung phone I have had and...</td>\n",
       "      <td>NEGATIVE</td>\n",
       "      <td>0</td>\n",
       "    </tr>\n",
       "    <tr>\n",
       "      <th>3</th>\n",
       "      <td>..and I'm from Europe, where the phones and ne...</td>\n",
       "      <td>POSITIVE</td>\n",
       "      <td>1</td>\n",
       "    </tr>\n",
       "    <tr>\n",
       "      <th>4</th>\n",
       "      <td>This phone is amazingly small and light for a ...</td>\n",
       "      <td>POSITIVE</td>\n",
       "      <td>1</td>\n",
       "    </tr>\n",
       "  </tbody>\n",
       "</table>\n",
       "</div>\n",
       "      <button class=\"colab-df-convert\" onclick=\"convertToInteractive('df-a39216cb-3d9e-4e5c-b1b1-a34e3a812a03')\"\n",
       "              title=\"Convert this dataframe to an interactive table.\"\n",
       "              style=\"display:none;\">\n",
       "        \n",
       "  <svg xmlns=\"http://www.w3.org/2000/svg\" height=\"24px\"viewBox=\"0 0 24 24\"\n",
       "       width=\"24px\">\n",
       "    <path d=\"M0 0h24v24H0V0z\" fill=\"none\"/>\n",
       "    <path d=\"M18.56 5.44l.94 2.06.94-2.06 2.06-.94-2.06-.94-.94-2.06-.94 2.06-2.06.94zm-11 1L8.5 8.5l.94-2.06 2.06-.94-2.06-.94L8.5 2.5l-.94 2.06-2.06.94zm10 10l.94 2.06.94-2.06 2.06-.94-2.06-.94-.94-2.06-.94 2.06-2.06.94z\"/><path d=\"M17.41 7.96l-1.37-1.37c-.4-.4-.92-.59-1.43-.59-.52 0-1.04.2-1.43.59L10.3 9.45l-7.72 7.72c-.78.78-.78 2.05 0 2.83L4 21.41c.39.39.9.59 1.41.59.51 0 1.02-.2 1.41-.59l7.78-7.78 2.81-2.81c.8-.78.8-2.07 0-2.86zM5.41 20L4 18.59l7.72-7.72 1.47 1.35L5.41 20z\"/>\n",
       "  </svg>\n",
       "      </button>\n",
       "      \n",
       "  <style>\n",
       "    .colab-df-container {\n",
       "      display:flex;\n",
       "      flex-wrap:wrap;\n",
       "      gap: 12px;\n",
       "    }\n",
       "\n",
       "    .colab-df-convert {\n",
       "      background-color: #E8F0FE;\n",
       "      border: none;\n",
       "      border-radius: 50%;\n",
       "      cursor: pointer;\n",
       "      display: none;\n",
       "      fill: #1967D2;\n",
       "      height: 32px;\n",
       "      padding: 0 0 0 0;\n",
       "      width: 32px;\n",
       "    }\n",
       "\n",
       "    .colab-df-convert:hover {\n",
       "      background-color: #E2EBFA;\n",
       "      box-shadow: 0px 1px 2px rgba(60, 64, 67, 0.3), 0px 1px 3px 1px rgba(60, 64, 67, 0.15);\n",
       "      fill: #174EA6;\n",
       "    }\n",
       "\n",
       "    [theme=dark] .colab-df-convert {\n",
       "      background-color: #3B4455;\n",
       "      fill: #D2E3FC;\n",
       "    }\n",
       "\n",
       "    [theme=dark] .colab-df-convert:hover {\n",
       "      background-color: #434B5C;\n",
       "      box-shadow: 0px 1px 3px 1px rgba(0, 0, 0, 0.15);\n",
       "      filter: drop-shadow(0px 1px 2px rgba(0, 0, 0, 0.3));\n",
       "      fill: #FFFFFF;\n",
       "    }\n",
       "  </style>\n",
       "\n",
       "      <script>\n",
       "        const buttonEl =\n",
       "          document.querySelector('#df-a39216cb-3d9e-4e5c-b1b1-a34e3a812a03 button.colab-df-convert');\n",
       "        buttonEl.style.display =\n",
       "          google.colab.kernel.accessAllowed ? 'block' : 'none';\n",
       "\n",
       "        async function convertToInteractive(key) {\n",
       "          const element = document.querySelector('#df-a39216cb-3d9e-4e5c-b1b1-a34e3a812a03');\n",
       "          const dataTable =\n",
       "            await google.colab.kernel.invokeFunction('convertToInteractive',\n",
       "                                                     [key], {});\n",
       "          if (!dataTable) return;\n",
       "\n",
       "          const docLinkHtml = 'Like what you see? Visit the ' +\n",
       "            '<a target=\"_blank\" href=https://colab.research.google.com/notebooks/data_table.ipynb>data table notebook</a>'\n",
       "            + ' to learn more about interactive tables.';\n",
       "          element.innerHTML = '';\n",
       "          dataTable['output_type'] = 'display_data';\n",
       "          await google.colab.output.renderOutput(dataTable, element);\n",
       "          const docLink = document.createElement('div');\n",
       "          docLink.innerHTML = docLinkHtml;\n",
       "          element.appendChild(docLink);\n",
       "        }\n",
       "      </script>\n",
       "    </div>\n",
       "  </div>\n",
       "  "
      ],
      "text/plain": [
       "                                          reviewText  ... review_sentiment_num\n",
       "0  This phone is ugly and heavy and has a terribl...  ...                    0\n",
       "1  I had the Samsung V205 and then I decided to t...  ...                    1\n",
       "2  This is the first Samsung phone I have had and...  ...                    0\n",
       "3  ..and I'm from Europe, where the phones and ne...  ...                    1\n",
       "4  This phone is amazingly small and light for a ...  ...                    1\n",
       "\n",
       "[5 rows x 3 columns]"
      ]
     },
     "execution_count": 92,
     "metadata": {},
     "output_type": "execute_result"
    }
   ],
   "source": [
    "nb_analysis.head(5)"
   ]
  },
  {
   "cell_type": "code",
   "execution_count": null,
   "metadata": {
    "colab": {
     "base_uri": "https://localhost:8080/",
     "height": 206
    },
    "id": "6vJJjp31fIIv",
    "outputId": "487f469f-28a4-45bb-a7b7-ecdaa696062f"
   },
   "outputs": [
    {
     "data": {
      "text/html": [
       "\n",
       "  <div id=\"df-3199f411-64f5-4b9f-8642-5d7c01582bd4\">\n",
       "    <div class=\"colab-df-container\">\n",
       "      <div>\n",
       "<style scoped>\n",
       "    .dataframe tbody tr th:only-of-type {\n",
       "        vertical-align: middle;\n",
       "    }\n",
       "\n",
       "    .dataframe tbody tr th {\n",
       "        vertical-align: top;\n",
       "    }\n",
       "\n",
       "    .dataframe thead th {\n",
       "        text-align: right;\n",
       "    }\n",
       "</style>\n",
       "<table border=\"1\" class=\"dataframe\">\n",
       "  <thead>\n",
       "    <tr style=\"text-align: right;\">\n",
       "      <th></th>\n",
       "      <th>reviewText</th>\n",
       "      <th>review_sentiment_num</th>\n",
       "    </tr>\n",
       "  </thead>\n",
       "  <tbody>\n",
       "    <tr>\n",
       "      <th>0</th>\n",
       "      <td>This phone is ugly and heavy and has a terribl...</td>\n",
       "      <td>0</td>\n",
       "    </tr>\n",
       "    <tr>\n",
       "      <th>1</th>\n",
       "      <td>I had the Samsung V205 and then I decided to t...</td>\n",
       "      <td>1</td>\n",
       "    </tr>\n",
       "    <tr>\n",
       "      <th>2</th>\n",
       "      <td>This is the first Samsung phone I have had and...</td>\n",
       "      <td>0</td>\n",
       "    </tr>\n",
       "    <tr>\n",
       "      <th>3</th>\n",
       "      <td>..and I'm from Europe, where the phones and ne...</td>\n",
       "      <td>1</td>\n",
       "    </tr>\n",
       "    <tr>\n",
       "      <th>4</th>\n",
       "      <td>This phone is amazingly small and light for a ...</td>\n",
       "      <td>1</td>\n",
       "    </tr>\n",
       "  </tbody>\n",
       "</table>\n",
       "</div>\n",
       "      <button class=\"colab-df-convert\" onclick=\"convertToInteractive('df-3199f411-64f5-4b9f-8642-5d7c01582bd4')\"\n",
       "              title=\"Convert this dataframe to an interactive table.\"\n",
       "              style=\"display:none;\">\n",
       "        \n",
       "  <svg xmlns=\"http://www.w3.org/2000/svg\" height=\"24px\"viewBox=\"0 0 24 24\"\n",
       "       width=\"24px\">\n",
       "    <path d=\"M0 0h24v24H0V0z\" fill=\"none\"/>\n",
       "    <path d=\"M18.56 5.44l.94 2.06.94-2.06 2.06-.94-2.06-.94-.94-2.06-.94 2.06-2.06.94zm-11 1L8.5 8.5l.94-2.06 2.06-.94-2.06-.94L8.5 2.5l-.94 2.06-2.06.94zm10 10l.94 2.06.94-2.06 2.06-.94-2.06-.94-.94-2.06-.94 2.06-2.06.94z\"/><path d=\"M17.41 7.96l-1.37-1.37c-.4-.4-.92-.59-1.43-.59-.52 0-1.04.2-1.43.59L10.3 9.45l-7.72 7.72c-.78.78-.78 2.05 0 2.83L4 21.41c.39.39.9.59 1.41.59.51 0 1.02-.2 1.41-.59l7.78-7.78 2.81-2.81c.8-.78.8-2.07 0-2.86zM5.41 20L4 18.59l7.72-7.72 1.47 1.35L5.41 20z\"/>\n",
       "  </svg>\n",
       "      </button>\n",
       "      \n",
       "  <style>\n",
       "    .colab-df-container {\n",
       "      display:flex;\n",
       "      flex-wrap:wrap;\n",
       "      gap: 12px;\n",
       "    }\n",
       "\n",
       "    .colab-df-convert {\n",
       "      background-color: #E8F0FE;\n",
       "      border: none;\n",
       "      border-radius: 50%;\n",
       "      cursor: pointer;\n",
       "      display: none;\n",
       "      fill: #1967D2;\n",
       "      height: 32px;\n",
       "      padding: 0 0 0 0;\n",
       "      width: 32px;\n",
       "    }\n",
       "\n",
       "    .colab-df-convert:hover {\n",
       "      background-color: #E2EBFA;\n",
       "      box-shadow: 0px 1px 2px rgba(60, 64, 67, 0.3), 0px 1px 3px 1px rgba(60, 64, 67, 0.15);\n",
       "      fill: #174EA6;\n",
       "    }\n",
       "\n",
       "    [theme=dark] .colab-df-convert {\n",
       "      background-color: #3B4455;\n",
       "      fill: #D2E3FC;\n",
       "    }\n",
       "\n",
       "    [theme=dark] .colab-df-convert:hover {\n",
       "      background-color: #434B5C;\n",
       "      box-shadow: 0px 1px 3px 1px rgba(0, 0, 0, 0.15);\n",
       "      filter: drop-shadow(0px 1px 2px rgba(0, 0, 0, 0.3));\n",
       "      fill: #FFFFFF;\n",
       "    }\n",
       "  </style>\n",
       "\n",
       "      <script>\n",
       "        const buttonEl =\n",
       "          document.querySelector('#df-3199f411-64f5-4b9f-8642-5d7c01582bd4 button.colab-df-convert');\n",
       "        buttonEl.style.display =\n",
       "          google.colab.kernel.accessAllowed ? 'block' : 'none';\n",
       "\n",
       "        async function convertToInteractive(key) {\n",
       "          const element = document.querySelector('#df-3199f411-64f5-4b9f-8642-5d7c01582bd4');\n",
       "          const dataTable =\n",
       "            await google.colab.kernel.invokeFunction('convertToInteractive',\n",
       "                                                     [key], {});\n",
       "          if (!dataTable) return;\n",
       "\n",
       "          const docLinkHtml = 'Like what you see? Visit the ' +\n",
       "            '<a target=\"_blank\" href=https://colab.research.google.com/notebooks/data_table.ipynb>data table notebook</a>'\n",
       "            + ' to learn more about interactive tables.';\n",
       "          element.innerHTML = '';\n",
       "          dataTable['output_type'] = 'display_data';\n",
       "          await google.colab.output.renderOutput(dataTable, element);\n",
       "          const docLink = document.createElement('div');\n",
       "          docLink.innerHTML = docLinkHtml;\n",
       "          element.appendChild(docLink);\n",
       "        }\n",
       "      </script>\n",
       "    </div>\n",
       "  </div>\n",
       "  "
      ],
      "text/plain": [
       "                                          reviewText review_sentiment_num\n",
       "0  This phone is ugly and heavy and has a terribl...                    0\n",
       "1  I had the Samsung V205 and then I decided to t...                    1\n",
       "2  This is the first Samsung phone I have had and...                    0\n",
       "3  ..and I'm from Europe, where the phones and ne...                    1\n",
       "4  This phone is amazingly small and light for a ...                    1"
      ]
     },
     "execution_count": 93,
     "metadata": {},
     "output_type": "execute_result"
    }
   ],
   "source": [
    "# we can now drop the column 'review_sentiment'\n",
    "nb_analysis = nb_analysis.drop('review_sentiment', axis=1)\n",
    "nb_analysis.head()"
   ]
  },
  {
   "cell_type": "code",
   "execution_count": null,
   "metadata": {
    "colab": {
     "base_uri": "https://localhost:8080/"
    },
    "id": "8WLg4qDhfTVc",
    "outputId": "4de50dc9-ea38-4c35-e6f2-f1f3d1d82d94"
   },
   "outputs": [
    {
     "name": "stdout",
     "output_type": "stream",
     "text": [
      "(62065,)\n",
      "(62065,)\n"
     ]
    }
   ],
   "source": [
    "# convert to X and y\n",
    "X = nb_analysis.reviewText\n",
    "y = nb_analysis.review_sentiment_num\n",
    "print(X.shape)\n",
    "print(y.shape)"
   ]
  },
  {
   "cell_type": "code",
   "execution_count": null,
   "metadata": {
    "id": "qLO17BREfgXR"
   },
   "outputs": [],
   "source": [
    "# splitting into test and train\n",
    "from sklearn.model_selection  import train_test_split\n",
    "X_train, X_test, y_train, y_test = train_test_split(X, y, random_state=1)"
   ]
  },
  {
   "cell_type": "code",
   "execution_count": null,
   "metadata": {
    "colab": {
     "base_uri": "https://localhost:8080/"
    },
    "id": "65Hv9maRfk5v",
    "outputId": "f5dc6a63-30cc-4c81-fe52-93925b2eedbd"
   },
   "outputs": [
    {
     "data": {
      "text/plain": [
       "33254    I ordered my samsung galaxy s5 through amazon ...\n",
       "58971    Excellent smartphone with great features and f...\n",
       "19407              Works as expected and used as intended.\n",
       "56245    <div id=\"video-block-R3R6JEUOIJPC5Z\" class=\"a-...\n",
       "16381    Great phone. it is exactly as it has been desc...\n",
       "Name: reviewText, dtype: object"
      ]
     },
     "execution_count": 96,
     "metadata": {},
     "output_type": "execute_result"
    }
   ],
   "source": [
    "X_train.head()"
   ]
  },
  {
   "cell_type": "code",
   "execution_count": null,
   "metadata": {
    "colab": {
     "base_uri": "https://localhost:8080/"
    },
    "id": "MKmdh4xxfkvy",
    "outputId": "fd785cf5-c367-48bd-d44a-75c4d064f6ff"
   },
   "outputs": [
    {
     "data": {
      "text/plain": [
       "33254    1\n",
       "58971    1\n",
       "19407    0\n",
       "56245    1\n",
       "16381    1\n",
       "Name: review_sentiment_num, dtype: object"
      ]
     },
     "execution_count": 97,
     "metadata": {},
     "output_type": "execute_result"
    }
   ],
   "source": [
    "y_train.head()"
   ]
  },
  {
   "cell_type": "code",
   "execution_count": null,
   "metadata": {
    "id": "1qCj84eUfkmM"
   },
   "outputs": [],
   "source": [
    "# vectorizing the sentences; removing stop words\n",
    "from sklearn.feature_extraction.text import CountVectorizer\n",
    "vect = CountVectorizer(stop_words='english')"
   ]
  },
  {
   "cell_type": "code",
   "execution_count": null,
   "metadata": {
    "colab": {
     "base_uri": "https://localhost:8080/"
    },
    "id": "i-SKokP3fkZ5",
    "outputId": "3048503e-eb06-42d5-d697-e58f4846286e"
   },
   "outputs": [
    {
     "data": {
      "text/plain": [
       "CountVectorizer(stop_words='english')"
      ]
     },
     "execution_count": 99,
     "metadata": {},
     "output_type": "execute_result"
    }
   ],
   "source": [
    "vect.fit(X_train)"
   ]
  },
  {
   "cell_type": "code",
   "execution_count": null,
   "metadata": {
    "colab": {
     "base_uri": "https://localhost:8080/"
    },
    "id": "7EFhakmnfzEw",
    "outputId": "b60d8784-9067-4eb3-b1c8-6aac0448297b"
   },
   "outputs": [
    {
     "data": {
      "text/plain": [
       "{'ordered': 22637,\n",
       " 'samsung': 27647,\n",
       " 'galaxy': 14444,\n",
       " 's5': 27509,\n",
       " 'amazon': 3534,\n",
       " 'wear': 34439,\n",
       " 'house': 16303,\n",
       " 'selected': 28125,\n",
       " 'used': 33521,\n",
       " 'like': 19108,\n",
       " 'new': 21675,\n",
       " 'received': 26002,\n",
       " 'phone': 23752,\n",
       " 'day': 9701,\n",
       " 'perfect': 23531,\n",
       " 'condition': 8442,\n",
       " 'came': 6902,\n",
       " 'nicely': 21735,\n",
       " 'packaged': 23050,\n",
       " 'sims': 28782,\n",
       " 'card': 7036,\n",
       " 'plugged': 24142,\n",
       " 'booted': 6177,\n",
       " 'phones': 23779,\n",
       " 'operating': 22546,\n",
       " 'ran': 25717,\n",
       " 'smooth': 29210,\n",
       " 'works': 35011,\n",
       " 'runs': 27452,\n",
       " 'grate': 15163,\n",
       " 'lag': 18604,\n",
       " 'camera': 6905,\n",
       " 'definitely': 9964,\n",
       " 'brag': 6300,\n",
       " 'overall': 22859,\n",
       " 'great': 15196,\n",
       " 'experience': 12810,\n",
       " 'excellent': 12602,\n",
       " 'smartphone': 29157,\n",
       " 'features': 13285,\n",
       " 'flawless': 13650,\n",
       " 'operation': 22547,\n",
       " 'far': 13154,\n",
       " 'user': 33532,\n",
       " 'friendly': 14143,\n",
       " 'customizable': 9462,\n",
       " 'lots': 19470,\n",
       " 'apps': 3993,\n",
       " 'included': 16979,\n",
       " 'calling': 6881,\n",
       " 'work': 34986,\n",
       " 'best': 5645,\n",
       " 'bang': 5229,\n",
       " 'buck': 6520,\n",
       " 'buy': 6715,\n",
       " 'recommend': 26097,\n",
       " 'expected': 12782,\n",
       " 'intended': 17454,\n",
       " 'div': 10926,\n",
       " 'id': 16610,\n",
       " 'video': 33904,\n",
       " 'block': 5936,\n",
       " 'r3r6jeuoijpc5z': 25615,\n",
       " 'class': 7720,\n",
       " 'section': 28067,\n",
       " 'spacing': 29555,\n",
       " 'small': 29128,\n",
       " 'mini': 20575,\n",
       " 'input': 17296,\n",
       " 'type': 32718,\n",
       " 'hidden': 15997,\n",
       " 'value': 33688,\n",
       " 'https': 16365,\n",
       " 'images': 16757,\n",
       " 'na': 21399,\n",
       " 'ssl': 29913,\n",
       " 'com': 8050,\n",
       " 'c11rbbgroqs': 6756,\n",
       " 'mp4': 21087,\n",
       " 'url': 33486,\n",
       " '71gc4r': 2015,\n",
       " 'p5ps': 23026,\n",
       " 'png': 24172,\n",
       " 'slate': 28978,\n",
       " 'img': 16779,\n",
       " 'nbsp': 21504,\n",
       " 'nice': 21733,\n",
       " 'looking': 19412,\n",
       " 'price': 24737,\n",
       " 'exactly': 12547,\n",
       " 'described': 10185,\n",
       " 'easy': 11591,\n",
       " 'use': 33516,\n",
       " 'affordable': 3148,\n",
       " 'really': 25907,\n",
       " 'happy': 15629,\n",
       " 'cover': 9040,\n",
       " 'easily': 11584,\n",
       " 'gets': 14667,\n",
       " 'scratched': 27908,\n",
       " 'worst': 35044,\n",
       " 'screen': 27929,\n",
       " 'inside': 17327,\n",
       " 'buttons': 6711,\n",
       " 'just': 18198,\n",
       " 'opening': 22524,\n",
       " 'closing': 7844,\n",
       " 'asides': 4193,\n",
       " 'little': 19233,\n",
       " 'laggy': 18617,\n",
       " 'bad': 5139,\n",
       " 'qwerty': 25555,\n",
       " 'keyboard': 18308,\n",
       " 'save': 27749,\n",
       " 'headache': 15782,\n",
       " 'forget': 13908,\n",
       " 'blackberry': 5819,\n",
       " 'optical': 22594,\n",
       " 'track': 32203,\n",
       " 'pad': 23063,\n",
       " 'make': 19780,\n",
       " 'sure': 30731,\n",
       " 'flash': 13615,\n",
       " 'bought': 6250,\n",
       " 'love': 19495,\n",
       " 'does': 10999,\n",
       " 'look': 19405,\n",
       " 'stylish': 30412,\n",
       " 'horribly': 16251,\n",
       " 'metro': 20390,\n",
       " 'pcs': 23380,\n",
       " 've': 33741,\n",
       " 'owned': 23001,\n",
       " 'smart': 29138,\n",
       " 'performs': 23570,\n",
       " 'll': 19258,\n",
       " 'lg': 18952,\n",
       " 'brands': 6326,\n",
       " 'time': 31862,\n",
       " 'spare': 29575,\n",
       " 'prefer': 24573,\n",
       " 'pay': 23355,\n",
       " 'plan': 24027,\n",
       " 'purchased': 25255,\n",
       " 'gift': 14705,\n",
       " 'dad': 9581,\n",
       " 'consumer': 8655,\n",
       " 'cellular': 7261,\n",
       " 'service': 28277,\n",
       " 'wanted': 34276,\n",
       " 'start': 30010,\n",
       " 'complicated': 8302,\n",
       " 'good': 14940,\n",
       " 'android': 3669,\n",
       " 'basics': 5312,\n",
       " 'reports': 26659,\n",
       " 'set': 28291,\n",
       " 'navigate': 21485,\n",
       " 'lightweight': 19097,\n",
       " 'searched': 28033,\n",
       " 'high': 16011,\n",
       " 'low': 19510,\n",
       " 'unlocked': 33175,\n",
       " 'away': 4587,\n",
       " 'market': 19945,\n",
       " 'surf': 30736,\n",
       " 'internet': 17528,\n",
       " 'deposit': 10146,\n",
       " 'checks': 7444,\n",
       " 'play': 24075,\n",
       " 'games': 14486,\n",
       " 'think': 31661,\n",
       " 'pretty': 24714,\n",
       " 'gotten': 15024,\n",
       " 'thought': 31716,\n",
       " 'wow': 35069,\n",
       " 'makes': 19784,\n",
       " 'dated': 9686,\n",
       " 'say': 27761,\n",
       " 'g2': 14377,\n",
       " 'amazing': 3528,\n",
       " 'funny': 14322,\n",
       " 'thing': 31654,\n",
       " 'htc': 16354,\n",
       " 'iphone': 17703,\n",
       " 'guy': 15422,\n",
       " 'buys': 6724,\n",
       " 'latest': 18708,\n",
       " 'greatest': 15202,\n",
       " 'difference': 10472,\n",
       " 'life': 19048,\n",
       " 'justify': 18209,\n",
       " 'purchases': 25259,\n",
       " 'excuse': 12668,\n",
       " 'apple': 3928,\n",
       " 'fanboy': 13129,\n",
       " 'news': 21689,\n",
       " 'remote': 26529,\n",
       " 'tv': 32644,\n",
       " 'sports': 29782,\n",
       " 'email': 11851,\n",
       " 'oh': 22327,\n",
       " 'yeah': 35346,\n",
       " 'calls': 6885,\n",
       " 'anyways': 3822,\n",
       " 'haven': 15735,\n",
       " 'went': 34537,\n",
       " 'original': 22678,\n",
       " 'hope': 16221,\n",
       " 'review': 27023,\n",
       " 'helpful': 15908,\n",
       " 'beneficial': 5617,\n",
       " 'purchase': 25254,\n",
       " 'regardless': 26321,\n",
       " 'let': 18926,\n",
       " 'way': 34401,\n",
       " 'case': 7124,\n",
       " 'glossy': 14842,\n",
       " 'plastic': 24050,\n",
       " 'finger': 13483,\n",
       " 'print': 24774,\n",
       " 'magnet': 19722,\n",
       " 'slightly': 29033,\n",
       " 'self': 28135,\n",
       " 'conscious': 8580,\n",
       " 'people': 23493,\n",
       " 'feel': 13312,\n",
       " 'dirty': 10616,\n",
       " 'hands': 15581,\n",
       " 'chemist': 7460,\n",
       " 'means': 20149,\n",
       " 'washing': 34334,\n",
       " 'regularly': 26360,\n",
       " 'dirt': 10614,\n",
       " 'oil': 22354,\n",
       " 'downside': 11152,\n",
       " 'expandable': 12757,\n",
       " 'memory': 20275,\n",
       " 'hard': 15635,\n",
       " 'using': 33546,\n",
       " '32gb': 1176,\n",
       " 'im': 16749,\n",
       " 'complaining': 8273,\n",
       " 'want': 34275,\n",
       " 'ready': 25875,\n",
       " 'long': 19388,\n",
       " 'list': 19191,\n",
       " 'important': 16855,\n",
       " 'bore': 6200,\n",
       " 'battery': 5355,\n",
       " 'longest': 19391,\n",
       " 'multitude': 21223,\n",
       " 'tasks': 31174,\n",
       " 'usually': 33564,\n",
       " 'recharge': 26026,\n",
       " 'doubt': 11106,\n",
       " 'charge': 7381,\n",
       " 'slept': 29008,\n",
       " 'days': 9707,\n",
       " 'charged': 7382,\n",
       " 'night': 21764,\n",
       " 'twice': 32673,\n",
       " 'finally': 13457,\n",
       " 'sense': 28187,\n",
       " 'software': 29379,\n",
       " 'gimmicky': 14735,\n",
       " 's4': 27499,\n",
       " 'favorite': 13239,\n",
       " 'feature': 13280,\n",
       " 'double': 11098,\n",
       " 'tap': 31139,\n",
       " 'sleep': 28996,\n",
       " 'mode': 20829,\n",
       " 'turns': 32630,\n",
       " 'turn': 32624,\n",
       " 'need': 21548,\n",
       " 'flat': 13634,\n",
       " 'power': 24440,\n",
       " 'button': 6707,\n",
       " 'times': 31873,\n",
       " 'isn': 17816,\n",
       " 'don': 11046,\n",
       " 'know': 18470,\n",
       " 'upside': 33458,\n",
       " 'huge': 16386,\n",
       " 'deal': 9744,\n",
       " 'tapping': 31149,\n",
       " 'useful': 33524,\n",
       " 'doesn': 11000,\n",
       " 'accidentally': 2734,\n",
       " 'pocket': 24181,\n",
       " 'detect': 10293,\n",
       " 'random': 25720,\n",
       " 'touches': 32127,\n",
       " 'press': 24683,\n",
       " 'volume': 34075,\n",
       " 'brings': 6424,\n",
       " 'loads': 19299,\n",
       " 'seconds': 28057,\n",
       " 'notepad': 21958,\n",
       " 'quick': 25490,\n",
       " 'notes': 21960,\n",
       " 'finding': 13469,\n",
       " 'example': 12560,\n",
       " 'today': 31985,\n",
       " 'meeting': 20218,\n",
       " 'reminder': 26513,\n",
       " 'popped': 24302,\n",
       " '15': 378,\n",
       " 'minutes': 20624,\n",
       " 'silent': 28725,\n",
       " 'option': 22617,\n",
       " 'clicked': 7786,\n",
       " 'scheduled': 27836,\n",
       " 'forgetting': 13912,\n",
       " 'meetings': 20219,\n",
       " 'app': 3891,\n",
       " 'receive': 26001,\n",
       " 'text': 31493,\n",
       " 'box': 6275,\n",
       " 'pops': 24305,\n",
       " 'reply': 26648,\n",
       " 'actually': 2899,\n",
       " 'texts': 31504,\n",
       " 'exiting': 12744,\n",
       " 'currently': 9418,\n",
       " 'disappears': 10640,\n",
       " 'notification': 21980,\n",
       " 'happened': 15617,\n",
       " 'large': 18675,\n",
       " 'pop': 24297,\n",
       " 'non': 21869,\n",
       " 'obtrusive': 22192,\n",
       " 'significant': 28711,\n",
       " 'popping': 24304,\n",
       " 'simple': 28764,\n",
       " 'running': 27450,\n",
       " 'pleasant': 24103,\n",
       " 'comparison': 8210,\n",
       " 'ios6': 17674,\n",
       " 'unimaginative': 33100,\n",
       " 'compared': 8203,\n",
       " 'refined': 26254,\n",
       " 'holy': 16158,\n",
       " 'cow': 9056,\n",
       " 'laid': 18624,\n",
       " 'eyes': 12966,\n",
       " 'bezel': 5691,\n",
       " 'tiny': 31907,\n",
       " 'whites': 34657,\n",
       " 'white': 34645,\n",
       " 'blacks': 5839,\n",
       " 'black': 5815,\n",
       " 'colors': 8038,\n",
       " 'aren': 4064,\n",
       " 'overly': 22922,\n",
       " 'saturated': 27739,\n",
       " 'resolution': 26808,\n",
       " 'par': 23187,\n",
       " 'simply': 28777,\n",
       " 'stubborn': 30348,\n",
       " 'friends': 14144,\n",
       " 'clear': 7758,\n",
       " 'big': 5723,\n",
       " 'holding': 16139,\n",
       " 'hd': 15765,\n",
       " 'hand': 15550,\n",
       " 'sound': 29514,\n",
       " 'audiophiles': 4413,\n",
       " 'allow': 3408,\n",
       " '24': 811,\n",
       " 'bit': 5785,\n",
       " 'music': 21253,\n",
       " 'fantastic': 13146,\n",
       " 'headphones': 15796,\n",
       " 'blows': 5977,\n",
       " 'competition': 8250,\n",
       " 'water': 34369,\n",
       " 'record': 26134,\n",
       " 'audiophile': 4412,\n",
       " 'speaker': 29605,\n",
       " 'loud': 19478,\n",
       " 'louder': 19479,\n",
       " 'wins': 34810,\n",
       " 'speakers': 29610,\n",
       " 'slouch': 29090,\n",
       " 'listening': 19199,\n",
       " 'frequently': 14117,\n",
       " 'bunch': 6638,\n",
       " 'read': 25858,\n",
       " 'nokia': 21856,\n",
       " 'having': 15739,\n",
       " '41': 1403,\n",
       " 'megapixel': 20233,\n",
       " 'sensor': 28204,\n",
       " 'rocks': 27259,\n",
       " 'dog': 11004,\n",
       " 'cat': 7152,\n",
       " 'took': 32051,\n",
       " 'pictures': 23877,\n",
       " 'shadows': 28373,\n",
       " 'disappointing': 10643,\n",
       " 'cute': 9478,\n",
       " 'animals': 3705,\n",
       " 'misrepresented': 20703,\n",
       " 'right': 27129,\n",
       " 'zoom': 35596,\n",
       " 'lacked': 18588,\n",
       " 'displays': 10809,\n",
       " 'pixelated': 23980,\n",
       " 'replace': 26622,\n",
       " 'point': 24214,\n",
       " 'shoot': 28521,\n",
       " 'cameras': 6912,\n",
       " 'visible': 33991,\n",
       " 'fast': 13188,\n",
       " 'light': 19079,\n",
       " 'takes': 31089,\n",
       " 'performance': 23558,\n",
       " 'quad': 25396,\n",
       " 'core': 8895,\n",
       " 'snapdragon': 29247,\n",
       " '800': 2126,\n",
       " 'ghz': 14695,\n",
       " 'processor': 24865,\n",
       " 'fastest': 13195,\n",
       " 'available': 4523,\n",
       " 'smartphones': 29160,\n",
       " 'normal': 21910,\n",
       " 'language': 18652,\n",
       " 'blazing': 5876,\n",
       " 'buttery': 6701,\n",
       " 'hate': 15710,\n",
       " 'real': 25878,\n",
       " 'world': 35019,\n",
       " 'adequate': 2981,\n",
       " 'iphone5': 17706,\n",
       " 'man': 19826,\n",
       " 'slow': 29092,\n",
       " 'manager': 19836,\n",
       " '10': 87,\n",
       " 'programs': 24949,\n",
       " 'open': 22517,\n",
       " 'affects': 3135,\n",
       " 'build': 6583,\n",
       " 'cheap': 7414,\n",
       " 'feeling': 13314,\n",
       " 'removable': 26534,\n",
       " 'flimsy': 13692,\n",
       " 'rounded': 27347,\n",
       " 'similar': 28750,\n",
       " 'better': 5665,\n",
       " 'straight': 30231,\n",
       " 'edges': 11666,\n",
       " 'vs': 34116,\n",
       " 'comfortable': 8081,\n",
       " 'hold': 16135,\n",
       " 'loved': 19497,\n",
       " 'aluminum': 3499,\n",
       " 'scratch': 27904,\n",
       " 'dent': 10107,\n",
       " 'usage': 33500,\n",
       " 'got': 15016,\n",
       " 'annoying': 3737,\n",
       " 'quickly': 25496,\n",
       " 'truly': 32529,\n",
       " 'appreciate': 3966,\n",
       " 'quality': 25424,\n",
       " 'attention': 4368,\n",
       " 'premium': 24613,\n",
       " 'package': 23049,\n",
       " 'verdict': 33805,\n",
       " 'honestly': 16189,\n",
       " 'reached': 25843,\n",
       " 'hardware': 15655,\n",
       " 'won': 34938,\n",
       " 'innovation': 17279,\n",
       " 'anymore': 3811,\n",
       " 'wave': 34393,\n",
       " 'boy': 6281,\n",
       " 'wrong': 35138,\n",
       " 'pleasantly': 24104,\n",
       " 'moving': 21071,\n",
       " 'getting': 14672,\n",
       " 'larger': 18678,\n",
       " 'doesnt': 11002,\n",
       " 'reach': 25840,\n",
       " 'fingers': 13494,\n",
       " 'naturally': 21470,\n",
       " 'turning': 32628,\n",
       " 'bumping': 6633,\n",
       " 'minimal': 20578,\n",
       " 'borders': 6199,\n",
       " 'gorgeous': 15003,\n",
       " 'note': 21944,\n",
       " 'ii': 16703,\n",
       " 'phablets': 23698,\n",
       " 'fit': 13558,\n",
       " 'phenomenal': 23712,\n",
       " 'yes': 35373,\n",
       " 'adore': 3038,\n",
       " 'taking': 31092,\n",
       " 'send': 28169,\n",
       " 'family': 13119,\n",
       " 'person': 23630,\n",
       " 'showed': 28594,\n",
       " 'wasn': 34342,\n",
       " 'amazed': 3522,\n",
       " 'droid': 11272,\n",
       " 'freaking': 14059,\n",
       " 'rare': 25756,\n",
       " 'year': 35349,\n",
       " 'urge': 33479,\n",
       " 'upgrade': 33418,\n",
       " 'saying': 27766,\n",
       " 'lot': 19468,\n",
       " 'waited': 34213,\n",
       " 'line': 19144,\n",
       " '12': 224,\n",
       " 'hours': 16301,\n",
       " '3g': 1315,\n",
       " '3gs': 1323,\n",
       " 'users': 33538,\n",
       " 'enjoy': 12079,\n",
       " 'update': 33402,\n",
       " '22': 759,\n",
       " '2013': 675,\n",
       " 'charges': 7386,\n",
       " 'actual': 2891,\n",
       " 'numbers': 22072,\n",
       " 'speed': 29671,\n",
       " '100': 88,\n",
       " 'post': 24396,\n",
       " '26': 888,\n",
       " 'yesterday': 35379,\n",
       " 'woke': 34926,\n",
       " 'native': 21467,\n",
       " 'crashing': 9134,\n",
       " 'continuously': 8714,\n",
       " 'restart': 26870,\n",
       " 'deleted': 10015,\n",
       " 'accounts': 2769,\n",
       " 'happening': 15618,\n",
       " 'did': 10443,\n",
       " 'factory': 13047,\n",
       " 'reset': 26760,\n",
       " 'eliminated': 11826,\n",
       " 'problem': 24832,\n",
       " 'emailed': 11852,\n",
       " 'customer': 9455,\n",
       " 'understanding': 32988,\n",
       " 'quite': 25534,\n",
       " 'frankly': 14043,\n",
       " 'terrible': 31453,\n",
       " 'commands': 8101,\n",
       " 'stars': 30009,\n",
       " 'star': 29996,\n",
       " 'asked': 4199,\n",
       " 'proof': 25017,\n",
       " 'validate': 33680,\n",
       " 'hasn': 15693,\n",
       " 'weeks': 34491,\n",
       " 'didn': 10448,\n",
       " 'answer': 3761,\n",
       " 'question': 25476,\n",
       " 'sending': 28173,\n",
       " 'responsibility': 26858,\n",
       " 'prepaid': 24630,\n",
       " 'competitors': 8256,\n",
       " 'device': 10352,\n",
       " 'account': 2763,\n",
       " 'shipping': 28495,\n",
       " 'compare': 8202,\n",
       " 'stores': 30212,\n",
       " 'walk': 34234,\n",
       " 'appointment': 3960,\n",
       " 'swapped': 30837,\n",
       " 'reps': 26688,\n",
       " 'help': 15901,\n",
       " 'solve': 29422,\n",
       " 'problems': 24839,\n",
       " 'frequent': 14116,\n",
       " 'month': 20926,\n",
       " 'warranty': 34317,\n",
       " 'live': 19238,\n",
       " 'close': 7834,\n",
       " 'store': 30208,\n",
       " 'mail': 19747,\n",
       " 'priority': 24788,\n",
       " 'replaced': 26625,\n",
       " 'couple': 9015,\n",
       " 'sony': 29463,\n",
       " 'replacements': 26628,\n",
       " 'ship': 28486,\n",
       " 'boxes': 6277,\n",
       " 'accustomed': 2788,\n",
       " 'company': 8188,\n",
       " 'factor': 13043,\n",
       " 'decision': 9835,\n",
       " 'making': 19789,\n",
       " 'switch': 30894,\n",
       " 'tell': 31367,\n",
       " 'absolute': 2642,\n",
       " 'certainty': 7305,\n",
       " 'awful': 4601,\n",
       " '27': 917,\n",
       " 'luckily': 19566,\n",
       " '14': 331,\n",
       " 'exchange': 12635,\n",
       " 'policy': 24249,\n",
       " 'focus': 13797,\n",
       " 'continually': 8706,\n",
       " 'shook': 28520,\n",
       " 'replacement': 26627,\n",
       " 'apparently': 3897,\n",
       " 'second': 28053,\n",
       " 'issue': 17836,\n",
       " 'lookout': 19414,\n",
       " 'pick': 23853,\n",
       " 'charging': 7387,\n",
       " '50': 1577,\n",
       " 'hour': 16298,\n",
       " 'nexus': 21712,\n",
       " 'charger': 7384,\n",
       " 'money': 20895,\n",
       " 'past': 23298,\n",
       " 'years': 35356,\n",
       " 'dumping': 11401,\n",
       " 'verizon': 33824,\n",
       " 'recently': 26008,\n",
       " 'flicker': 13677,\n",
       " 'randomly': 25722,\n",
       " 'attempts': 4361,\n",
       " 'bring': 6422,\n",
       " 'missing': 20713,\n",
       " 'wouldn': 35059,\n",
       " 'troubleshooting': 32507,\n",
       " 'worked': 34995,\n",
       " 'pissed': 23958,\n",
       " 'spend': 29691,\n",
       " 'lead': 18787,\n",
       " 'surprisingly': 30768,\n",
       " 'stylo': 30416,\n",
       " 'horrible': 16249,\n",
       " 'pathetic': 23323,\n",
       " 'internal': 17518,\n",
       " 'storage': 30206,\n",
       " 'comes': 8078,\n",
       " 'sd': 27993,\n",
       " 'manageable': 19830,\n",
       " 'notice': 21971,\n",
       " 'slower': 29096,\n",
       " 'ram': 25702,\n",
       " 'faster': 13192,\n",
       " 'surprise': 30764,\n",
       " 'pros': 25056,\n",
       " 'everday': 12473,\n",
       " 'feels': 13316,\n",
       " 'despite': 10260,\n",
       " 'specs': 29651,\n",
       " 'listed': 19193,\n",
       " 'mp': 21082,\n",
       " 'average': 4544,\n",
       " 'preloaded': 24604,\n",
       " 'garbage': 14506,\n",
       " 'cons': 8575,\n",
       " 'higher': 16013,\n",
       " 'iphones': 17718,\n",
       " 'newer': 21682,\n",
       " 'estate': 12388,\n",
       " 'needs': 21557,\n",
       " 'stylus': 30419,\n",
       " 'frustrated': 14215,\n",
       " 'virgin': 33971,\n",
       " 'offer': 22282,\n",
       " 'spec': 29616,\n",
       " 'version': 33844,\n",
       " 'paid': 23086,\n",
       " 'cord': 8891,\n",
       " 'short': 28545,\n",
       " 'wish': 34846,\n",
       " 'auto': 4461,\n",
       " 'control': 8755,\n",
       " 'brightness': 6409,\n",
       " 'fly': 13783,\n",
       " 'face': 13013,\n",
       " 'recognition': 26064,\n",
       " 'display': 10804,\n",
       " 'intentionally': 17467,\n",
       " 'neutered': 21661,\n",
       " 'cost': 8964,\n",
       " 'importantly': 16856,\n",
       " '99': 2420,\n",
       " 'couldn': 8987,\n",
       " 'happier': 15622,\n",
       " 'shipped': 28491,\n",
       " 'anytime': 3819,\n",
       " 'telephone': 31352,\n",
       " 'tactile': 31059,\n",
       " 'manejaren': 19859,\n",
       " 'connection': 8553,\n",
       " 'intermittent': 17514,\n",
       " 'operativo': 22552,\n",
       " 'ok': 22363,\n",
       " 'daughter': 9692,\n",
       " '5s': 1760,\n",
       " 'resieved': 26777,\n",
       " 'writing': 35131,\n",
       " 'report': 26655,\n",
       " 'fine': 13474,\n",
       " 'buying': 6720,\n",
       " 'radioshack': 25660,\n",
       " 'week': 34485,\n",
       " 'okay': 22364,\n",
       " 'going': 14917,\n",
       " '2nd': 1045,\n",
       " 'things': 31659,\n",
       " 'started': 30012,\n",
       " 'downhill': 11133,\n",
       " 'owning': 23006,\n",
       " 'later': 18707,\n",
       " 'lose': 19458,\n",
       " 'half': 15519,\n",
       " 'doing': 11013,\n",
       " 'expect': 12774,\n",
       " 'worries': 35031,\n",
       " 'county': 9013,\n",
       " 'sheriffs': 28457,\n",
       " 'office': 22290,\n",
       " 'dialed': 10404,\n",
       " '911': 2314,\n",
       " 'knowledge': 18473,\n",
       " 'effort': 11724,\n",
       " 'candy': 6956,\n",
       " 'bar': 5249,\n",
       " 'style': 30404,\n",
       " 'august': 4427,\n",
       " '11th': 221,\n",
       " 'sunday': 30599,\n",
       " 'pressing': 24688,\n",
       " 'leg': 18854,\n",
       " 'final': 13452,\n",
       " 'finalizing': 13456,\n",
       " 'causing': 7194,\n",
       " 'fault': 13223,\n",
       " 'alcatel': 3335,\n",
       " 'methods': 20382,\n",
       " 'locked': 19330,\n",
       " 'dial': 10403,\n",
       " 'green': 15219,\n",
       " 'confused': 8522,\n",
       " 'pressed': 24685,\n",
       " 'specifically': 29635,\n",
       " 'edit': 11671,\n",
       " 'able': 2607,\n",
       " 'firmware': 13533,\n",
       " 'data': 9674,\n",
       " 'mentioned': 20300,\n",
       " 'air': 3268,\n",
       " 'file': 13422,\n",
       " '26kbs': 913,\n",
       " 'cents': 7288,\n",
       " 'taken': 31085,\n",
       " 'care': 7045,\n",
       " 'carrier': 7096,\n",
       " 'manufacturer': 19902,\n",
       " 'instead': 17383,\n",
       " 'given': 14765,\n",
       " 'brought': 6465,\n",
       " 'noticed': 21974,\n",
       " 'saturday': 27743,\n",
       " 'total': 32109,\n",
       " 'ahead': 3238,\n",
       " 'add': 2942,\n",
       " 'come': 8067,\n",
       " 'alright': 3458,\n",
       " 'complain': 8269,\n",
       " '30': 1066,\n",
       " 'tag': 31065,\n",
       " 'red': 26169,\n",
       " 'eye': 12954,\n",
       " 'reduct': 26210,\n",
       " 'image': 16754,\n",
       " 'dark': 9645,\n",
       " 'grainy': 15106,\n",
       " 'picture': 23874,\n",
       " 'resolutions': 26809,\n",
       " '1600x1200': 438,\n",
       " '2mp': 1041,\n",
       " '1280x960': 265,\n",
       " '640x480': 1869,\n",
       " '3mp': 1345,\n",
       " '220x176': 766,\n",
       " '640x368': 1868,\n",
       " '20': 643,\n",
       " 'fps': 14010,\n",
       " '320x240': 1149,\n",
       " '30fps': 1101,\n",
       " '15fps': 416,\n",
       " '176x144': 493,\n",
       " '3gp': 1321,\n",
       " 'audio': 4407,\n",
       " 'changed': 7360,\n",
       " 'aware': 4585,\n",
       " 'decent': 9812,\n",
       " 'fm': 13788,\n",
       " 'radio': 25653,\n",
       " 'equipped': 12243,\n",
       " 'order': 22636,\n",
       " 'pair': 23105,\n",
       " 'auxiliary': 4512,\n",
       " 'cable': 6799,\n",
       " 'worry': 35033,\n",
       " 'kind': 18389,\n",
       " 'chip': 7519,\n",
       " 'called': 6869,\n",
       " 'allows': 3412,\n",
       " 'song': 29453,\n",
       " 'playing': 24088,\n",
       " 'provided': 25107,\n",
       " 'station': 30042,\n",
       " 'sends': 28174,\n",
       " 'airwaves': 3293,\n",
       " 'playback': 24078,\n",
       " 'settings': 28301,\n",
       " 'change': 7358,\n",
       " 'recording': 26138,\n",
       " 'choice': 7537,\n",
       " 'amr': 3611,\n",
       " 'wav': 34392,\n",
       " 'trying': 32554,\n",
       " 'listen': 19194,\n",
       " 'records': 26140,\n",
       " '60kbps': 1806,\n",
       " 'bluetooth': 6008,\n",
       " 'crippled': 9227,\n",
       " 'providers': 25110,\n",
       " 'mean': 20141,\n",
       " 'transfer': 32285,\n",
       " 'files': 13427,\n",
       " 'phonebook': 23759,\n",
       " 'contacts': 8669,\n",
       " 'lets': 18929,\n",
       " 'stream': 30267,\n",
       " 'headset': 15802,\n",
       " 'transferred': 32291,\n",
       " 'videos': 33911,\n",
       " 'tablet': 31041,\n",
       " '50mb': 1603,\n",
       " 'capacity': 6999,\n",
       " 'uses': 33541,\n",
       " 'microsd': 20458,\n",
       " 'thankfully': 31544,\n",
       " 'laying': 18758,\n",
       " 'believe': 5572,\n",
       " 'accept': 2704,\n",
       " 'mistaken': 20728,\n",
       " 'highest': 16014,\n",
       " 'wall': 34243,\n",
       " 'usb': 33507,\n",
       " 'adapter': 2929,\n",
       " 'detachable': 10283,\n",
       " 'computer': 8373,\n",
       " 'micro': 20436,\n",
       " '550': 1670,\n",
       " 'ma': 19668,\n",
       " 'event': 12467,\n",
       " 'connect': 8546,\n",
       " 'nearby': 21518,\n",
       " 'port': 24333,\n",
       " '500': 1578,\n",
       " 'vary': 33723,\n",
       " 'hurry': 16440,\n",
       " 'tools': 32058,\n",
       " 'number': 22070,\n",
       " 'includes': 16980,\n",
       " 'calendar': 6847,\n",
       " 'alarm': 3320,\n",
       " 'clock': 7817,\n",
       " 'currency': 9414,\n",
       " 'unit': 33137,\n",
       " 'converter': 8803,\n",
       " 'voice': 34046,\n",
       " 'recorder': 26137,\n",
       " 'default': 9899,\n",
       " 'sounds': 29526,\n",
       " 'common': 8142,\n",
       " 'sale': 27593,\n",
       " 'excelente': 12587,\n",
       " 'excelent': 12586,\n",
       " 'cel': 7231,\n",
       " 'photographie': 23814,\n",
       " '3100': 1123,\n",
       " 'diehard': 10457,\n",
       " 'reading': 25866,\n",
       " 'chance': 7351,\n",
       " 'wife': 34720,\n",
       " 'excitement': 12644,\n",
       " 'exciteable': 12641,\n",
       " 'plus': 24160,\n",
       " 'told': 32013,\n",
       " 'basic': 5306,\n",
       " 'reliable': 26448,\n",
       " 'knew': 18451,\n",
       " 'player': 24082,\n",
       " 'icing': 16594,\n",
       " 'cake': 6830,\n",
       " 'willing': 34753,\n",
       " 'satisfied': 27728,\n",
       " 'november': 22017,\n",
       " 'seller': 28147,\n",
       " 'named': 21426,\n",
       " 'breed': 6365,\n",
       " 'lasted': 18688,\n",
       " 'handle': 15572,\n",
       " 'hardly': 15651,\n",
       " 'maybe': 20087,\n",
       " 'longer': 19390,\n",
       " 'shutting': 28648,\n",
       " 'various': 33721,\n",
       " 'try': 32550,\n",
       " 'end': 12013,\n",
       " 'losing': 19462,\n",
       " 'battle': 5362,\n",
       " 'carry': 7103,\n",
       " 'batteries': 5352,\n",
       " 'moved': 21057,\n",
       " 'contacted': 8666,\n",
       " 'gone': 14932,\n",
       " 'looked': 19407,\n",
       " 'refurbished': 26299,\n",
       " 'activated': 2868,\n",
       " 'june': 18181,\n",
       " '2012': 674,\n",
       " 'certainly': 7303,\n",
       " 'known': 18476,\n",
       " 'course': 9026,\n",
       " 'business': 6683,\n",
       " 'product': 24889,\n",
       " 'electronics': 11796,\n",
       " 'likely': 19113,\n",
       " 'pass': 23275,\n",
       " 'purchaser': 25257,\n",
       " 'likelihood': 19112,\n",
       " 'especially': 12328,\n",
       " 'poor': 24293,\n",
       " 'worse': 35036,\n",
       " 'model': 20831,\n",
       " 'suggest': 30558,\n",
       " 'purchasing': 25260,\n",
       " 'write': 35124,\n",
       " 'negative': 21575,\n",
       " 'places': 24015,\n",
       " 'ask': 4198,\n",
       " 'old': 22378,\n",
       " 'unless': 33159,\n",
       " 'ride': 27109,\n",
       " 'distributor': 10910,\n",
       " 'facts': 13048,\n",
       " 'ago': 3214,\n",
       " 'lie': 19040,\n",
       " 'handy': 15596,\n",
       " 'switched': 30897,\n",
       " 'microsoft': 20466,\n",
       " 'applications': 3947,\n",
       " 'different': 10474,\n",
       " 'accomplish': 2755,\n",
       " 'agenda': 3185,\n",
       " 'tons': 32049,\n",
       " 'saved': 27750,\n",
       " 'healthy': 15811,\n",
       " 'inter': 17472,\n",
       " 'connected': 8550,\n",
       " 'run': 27442,\n",
       " 'microsfot': 20463,\n",
       " 'exceeded': 12574,\n",
       " 'expectations': 12778,\n",
       " 'amazes': 3526,\n",
       " 'workers': 34997,\n",
       " 'outlook': 22802,\n",
       " 'solution': 29419,\n",
       " 'reason': 25938,\n",
       " 'excited': 12642,\n",
       " 'level': 18935,\n",
       " 'commitment': 8131,\n",
       " 'giving': 14767,\n",
       " 'goal': 14882,\n",
       " 'beat': 5442,\n",
       " 'amaze': 3520,\n",
       " 'customers': 9456,\n",
       " 'catch': 7165,\n",
       " 'vision': 33994,\n",
       " 'replica': 26643,\n",
       " 'false': 13099,\n",
       " 'fake': 13085,\n",
       " 'mom': 20878,\n",
       " 'antic': 3780,\n",
       " 'lol': 19371,\n",
       " 'disappointed': 10642,\n",
       " 'hear': 15814,\n",
       " ...}"
      ]
     },
     "execution_count": 100,
     "metadata": {},
     "output_type": "execute_result"
    }
   ],
   "source": [
    "# printing the vocabulary\n",
    "vect.vocabulary_"
   ]
  },
  {
   "cell_type": "code",
   "execution_count": null,
   "metadata": {
    "colab": {
     "base_uri": "https://localhost:8080/"
    },
    "id": "xtL7FRPefy-Y",
    "outputId": "4e9a83f3-7ce4-47f0-99c7-0f9e1291cdc7"
   },
   "outputs": [
    {
     "data": {
      "text/plain": [
       "35621"
      ]
     },
     "execution_count": 101,
     "metadata": {},
     "output_type": "execute_result"
    }
   ],
   "source": [
    "# vocab size\n",
    "len(vect.vocabulary_.keys())"
   ]
  },
  {
   "cell_type": "code",
   "execution_count": null,
   "metadata": {
    "id": "CepaCW7Nfy4W"
   },
   "outputs": [],
   "source": [
    "# transforming the train and test datasets\n",
    "X_train_transformed = vect.transform(X_train)\n",
    "X_test_transformed = vect.transform(X_test)"
   ]
  },
  {
   "cell_type": "markdown",
   "metadata": {
    "id": "AelMJnKWgCuT"
   },
   "source": [
    "**2. Building and Evaluating the Model**"
   ]
  },
  {
   "cell_type": "code",
   "execution_count": null,
   "metadata": {
    "id": "5c4dD5Jrfyw9"
   },
   "outputs": [],
   "source": [
    "# training the NB model and making predictions\n",
    "from sklearn.naive_bayes import MultinomialNB\n",
    "mnb = MultinomialNB()\n",
    "\n",
    "# fit\n",
    "mnb.fit(X_train_transformed,y_train)\n",
    "\n",
    "# predict class\n",
    "y_pred_class = mnb.predict(X_test_transformed)\n",
    "\n",
    "# predict probabilities\n",
    "y_pred_proba = mnb.predict_proba(X_test_transformed)"
   ]
  },
  {
   "cell_type": "code",
   "execution_count": null,
   "metadata": {
    "colab": {
     "base_uri": "https://localhost:8080/"
    },
    "id": "jFGG2y7kfypH",
    "outputId": "7c0d2fe6-dc73-4ce0-8c3e-16899bbc8e37"
   },
   "outputs": [
    {
     "data": {
      "text/plain": [
       "MultinomialNB()"
      ]
     },
     "execution_count": 104,
     "metadata": {},
     "output_type": "execute_result"
    }
   ],
   "source": [
    "# note that alpha=1 is used by default for smoothing\n",
    "mnb"
   ]
  },
  {
   "cell_type": "markdown",
   "metadata": {
    "id": "UXPVEP8agQt4"
   },
   "source": [
    "**Model Evaluation**"
   ]
  },
  {
   "cell_type": "code",
   "execution_count": null,
   "metadata": {
    "colab": {
     "base_uri": "https://localhost:8080/"
    },
    "id": "Mb7rq6P0fygV",
    "outputId": "5d49801d-01f7-404f-ec0c-0083ba8e88d1"
   },
   "outputs": [
    {
     "data": {
      "text/plain": [
       "0.8604111619514081"
      ]
     },
     "execution_count": 105,
     "metadata": {},
     "output_type": "execute_result"
    }
   ],
   "source": [
    "# printing the overall accuracy\n",
    "from sklearn import metrics\n",
    "metrics.accuracy_score(y_test, y_pred_class)"
   ]
  },
  {
   "cell_type": "code",
   "execution_count": null,
   "metadata": {
    "colab": {
     "base_uri": "https://localhost:8080/"
    },
    "id": "hU_0bsyBgSgS",
    "outputId": "b167c197-11f5-4b16-9543-ce7597f9787f"
   },
   "outputs": [
    {
     "data": {
      "text/plain": [
       "array([[ 2365,  1628],\n",
       "       [  538, 10986]])"
      ]
     },
     "execution_count": 106,
     "metadata": {},
     "output_type": "execute_result"
    }
   ],
   "source": [
    "# confusion matrix\n",
    "metrics.confusion_matrix(y_test, y_pred_class)\n",
    "# help(metrics.confusion_matrix)"
   ]
  },
  {
   "cell_type": "code",
   "execution_count": null,
   "metadata": {
    "colab": {
     "base_uri": "https://localhost:8080/"
    },
    "id": "RpBDTIy7fyVr",
    "outputId": "fa474c58-65bc-498e-a822-702bc9421a0a"
   },
   "outputs": [
    {
     "name": "stdout",
     "output_type": "stream",
     "text": [
      "[[ 2365  1628]\n",
      " [  538 10986]]\n"
     ]
    }
   ],
   "source": [
    "confusion = metrics.confusion_matrix(y_test, y_pred_class)\n",
    "print(confusion)\n",
    "TN = confusion[0, 0]\n",
    "FP = confusion[0, 1]\n",
    "FN = confusion[1, 0]\n",
    "TP = confusion[1, 1]"
   ]
  },
  {
   "cell_type": "code",
   "execution_count": null,
   "metadata": {
    "colab": {
     "base_uri": "https://localhost:8080/"
    },
    "id": "9kRWuy8Hgc5Z",
    "outputId": "8203a601-b5bd-4c7c-d7dd-825051ee0b9f"
   },
   "outputs": [
    {
     "name": "stdout",
     "output_type": "stream",
     "text": [
      "sensitivity 0.9533148212426241\n"
     ]
    }
   ],
   "source": [
    "sensitivity = TP / float(FN + TP)\n",
    "print(\"sensitivity\",sensitivity)"
   ]
  },
  {
   "cell_type": "code",
   "execution_count": null,
   "metadata": {
    "colab": {
     "base_uri": "https://localhost:8080/"
    },
    "id": "2RrSpZzSgc0h",
    "outputId": "d8ce43f5-5626-4be1-ada7-ddd48913f691"
   },
   "outputs": [
    {
     "name": "stdout",
     "output_type": "stream",
     "text": [
      "specificity 0.5922865013774105\n"
     ]
    }
   ],
   "source": [
    "specificity = TN / float(TN + FP)\n",
    "print(\"specificity\",specificity)"
   ]
  },
  {
   "cell_type": "code",
   "execution_count": null,
   "metadata": {
    "colab": {
     "base_uri": "https://localhost:8080/"
    },
    "id": "JLshMPVVgcuu",
    "outputId": "5bea1eb9-fc98-4412-9909-9965f3489b81"
   },
   "outputs": [
    {
     "name": "stdout",
     "output_type": "stream",
     "text": [
      "precision 0.8709370540669098\n",
      "0.8709370540669098\n"
     ]
    }
   ],
   "source": [
    "precision = TP / float(TP + FP)\n",
    "print(\"precision\",precision)\n",
    "print(metrics.precision_score(y_test, y_pred_class,pos_label='1'))\n"
   ]
  },
  {
   "cell_type": "code",
   "execution_count": null,
   "metadata": {
    "colab": {
     "base_uri": "https://localhost:8080/"
    },
    "id": "R0ixgYfUgcqj",
    "outputId": "f6f987fb-3ee6-4feb-9d4c-272ea9100247"
   },
   "outputs": [
    {
     "name": "stdout",
     "output_type": "stream",
     "text": [
      "precision 0.8709370540669098\n",
      "PRECISION SCORE : 0.8709370540669098\n",
      "RECALL SCORE : 0.9533148212426241\n",
      "F1 SCORE : 0.9102659706686552\n"
     ]
    }
   ],
   "source": [
    "print(\"precision\",precision)\n",
    "print(\"PRECISION SCORE :\",metrics.precision_score(y_test, y_pred_class,pos_label='1'))\n",
    "print(\"RECALL SCORE :\", metrics.recall_score(y_test, y_pred_class,pos_label='1'))\n",
    "print(\"F1 SCORE :\",metrics.f1_score(y_test, y_pred_class,pos_label='1'))"
   ]
  },
  {
   "cell_type": "code",
   "execution_count": null,
   "metadata": {
    "colab": {
     "base_uri": "https://localhost:8080/"
    },
    "id": "F-40jslcgcf5",
    "outputId": "6b5febb2-ffea-452d-c29d-b96f1889e4f0"
   },
   "outputs": [
    {
     "data": {
      "text/plain": [
       "array(['0', '1', '1', ..., '1', '0', '1'], dtype='<U1')"
      ]
     },
     "execution_count": 112,
     "metadata": {},
     "output_type": "execute_result"
    }
   ],
   "source": [
    "y_pred_class"
   ]
  },
  {
   "cell_type": "code",
   "execution_count": null,
   "metadata": {
    "colab": {
     "base_uri": "https://localhost:8080/"
    },
    "id": "xGK4ltTjixqq",
    "outputId": "265909c4-d536-4937-a1f9-e1a830a10618"
   },
   "outputs": [
    {
     "data": {
      "text/plain": [
       "array([[9.96058185e-01, 3.94181522e-03],\n",
       "       [1.22365561e-01, 8.77634439e-01],\n",
       "       [1.12331678e-02, 9.88766832e-01],\n",
       "       ...,\n",
       "       [2.39179499e-07, 9.99999761e-01],\n",
       "       [9.98017617e-01, 1.98238343e-03],\n",
       "       [3.65969847e-01, 6.34030153e-01]])"
      ]
     },
     "execution_count": 113,
     "metadata": {},
     "output_type": "execute_result"
    }
   ],
   "source": [
    "y_pred_proba"
   ]
  },
  {
   "cell_type": "code",
   "execution_count": null,
   "metadata": {
    "id": "QrpIWLPzi0UU"
   },
   "outputs": [],
   "source": [
    "# creating an ROC curve\n",
    "from sklearn.metrics import confusion_matrix as sk_confusion_matrix\n",
    "from sklearn.metrics import roc_curve, auc\n",
    "import matplotlib.pyplot as plt\n",
    "\n",
    "false_positive_rate, true_positive_rate, thresholds = roc_curve(y_test, y_pred_proba[:,1],pos_label='1')\n",
    "roc_auc = auc(false_positive_rate, true_positive_rate)"
   ]
  },
  {
   "cell_type": "code",
   "execution_count": null,
   "metadata": {
    "colab": {
     "base_uri": "https://localhost:8080/"
    },
    "id": "k2qnlVKCixeD",
    "outputId": "3b80cb3d-ab40-4c94-e620-c6ef4c3e8d00"
   },
   "outputs": [
    {
     "name": "stdout",
     "output_type": "stream",
     "text": [
      "0.8925300810608081\n"
     ]
    }
   ],
   "source": [
    "# area under the curve\n",
    "print (roc_auc)"
   ]
  },
  {
   "cell_type": "code",
   "execution_count": null,
   "metadata": {
    "colab": {
     "base_uri": "https://localhost:8080/",
     "height": 423
    },
    "id": "BBIebVL8ixRL",
    "outputId": "4343d8fc-e1a7-4d58-d960-810e37bed298"
   },
   "outputs": [
    {
     "data": {
      "text/html": [
       "\n",
       "  <div id=\"df-47f01c70-31aa-46ba-b35a-050409b44521\">\n",
       "    <div class=\"colab-df-container\">\n",
       "      <div>\n",
       "<style scoped>\n",
       "    .dataframe tbody tr th:only-of-type {\n",
       "        vertical-align: middle;\n",
       "    }\n",
       "\n",
       "    .dataframe tbody tr th {\n",
       "        vertical-align: top;\n",
       "    }\n",
       "\n",
       "    .dataframe thead th {\n",
       "        text-align: right;\n",
       "    }\n",
       "</style>\n",
       "<table border=\"1\" class=\"dataframe\">\n",
       "  <thead>\n",
       "    <tr style=\"text-align: right;\">\n",
       "      <th></th>\n",
       "      <th>Threshold</th>\n",
       "      <th>TPR</th>\n",
       "      <th>FPR</th>\n",
       "    </tr>\n",
       "  </thead>\n",
       "  <tbody>\n",
       "    <tr>\n",
       "      <th>0</th>\n",
       "      <td>2.000000e+00</td>\n",
       "      <td>0.000000</td>\n",
       "      <td>0.000000</td>\n",
       "    </tr>\n",
       "    <tr>\n",
       "      <th>1</th>\n",
       "      <td>1.000000e+00</td>\n",
       "      <td>0.109424</td>\n",
       "      <td>0.007263</td>\n",
       "    </tr>\n",
       "    <tr>\n",
       "      <th>2</th>\n",
       "      <td>1.000000e+00</td>\n",
       "      <td>0.109511</td>\n",
       "      <td>0.007263</td>\n",
       "    </tr>\n",
       "    <tr>\n",
       "      <th>3</th>\n",
       "      <td>1.000000e+00</td>\n",
       "      <td>0.110552</td>\n",
       "      <td>0.007263</td>\n",
       "    </tr>\n",
       "    <tr>\n",
       "      <th>4</th>\n",
       "      <td>1.000000e+00</td>\n",
       "      <td>0.112548</td>\n",
       "      <td>0.007764</td>\n",
       "    </tr>\n",
       "    <tr>\n",
       "      <th>...</th>\n",
       "      <td>...</td>\n",
       "      <td>...</td>\n",
       "      <td>...</td>\n",
       "    </tr>\n",
       "    <tr>\n",
       "      <th>3245</th>\n",
       "      <td>4.455482e-37</td>\n",
       "      <td>0.999826</td>\n",
       "      <td>0.998497</td>\n",
       "    </tr>\n",
       "    <tr>\n",
       "      <th>3246</th>\n",
       "      <td>1.257650e-37</td>\n",
       "      <td>0.999913</td>\n",
       "      <td>0.998497</td>\n",
       "    </tr>\n",
       "    <tr>\n",
       "      <th>3247</th>\n",
       "      <td>1.397226e-42</td>\n",
       "      <td>0.999913</td>\n",
       "      <td>0.998748</td>\n",
       "    </tr>\n",
       "    <tr>\n",
       "      <th>3248</th>\n",
       "      <td>9.907691e-54</td>\n",
       "      <td>1.000000</td>\n",
       "      <td>0.998748</td>\n",
       "    </tr>\n",
       "    <tr>\n",
       "      <th>3249</th>\n",
       "      <td>9.375785e-105</td>\n",
       "      <td>1.000000</td>\n",
       "      <td>1.000000</td>\n",
       "    </tr>\n",
       "  </tbody>\n",
       "</table>\n",
       "<p>3250 rows × 3 columns</p>\n",
       "</div>\n",
       "      <button class=\"colab-df-convert\" onclick=\"convertToInteractive('df-47f01c70-31aa-46ba-b35a-050409b44521')\"\n",
       "              title=\"Convert this dataframe to an interactive table.\"\n",
       "              style=\"display:none;\">\n",
       "        \n",
       "  <svg xmlns=\"http://www.w3.org/2000/svg\" height=\"24px\"viewBox=\"0 0 24 24\"\n",
       "       width=\"24px\">\n",
       "    <path d=\"M0 0h24v24H0V0z\" fill=\"none\"/>\n",
       "    <path d=\"M18.56 5.44l.94 2.06.94-2.06 2.06-.94-2.06-.94-.94-2.06-.94 2.06-2.06.94zm-11 1L8.5 8.5l.94-2.06 2.06-.94-2.06-.94L8.5 2.5l-.94 2.06-2.06.94zm10 10l.94 2.06.94-2.06 2.06-.94-2.06-.94-.94-2.06-.94 2.06-2.06.94z\"/><path d=\"M17.41 7.96l-1.37-1.37c-.4-.4-.92-.59-1.43-.59-.52 0-1.04.2-1.43.59L10.3 9.45l-7.72 7.72c-.78.78-.78 2.05 0 2.83L4 21.41c.39.39.9.59 1.41.59.51 0 1.02-.2 1.41-.59l7.78-7.78 2.81-2.81c.8-.78.8-2.07 0-2.86zM5.41 20L4 18.59l7.72-7.72 1.47 1.35L5.41 20z\"/>\n",
       "  </svg>\n",
       "      </button>\n",
       "      \n",
       "  <style>\n",
       "    .colab-df-container {\n",
       "      display:flex;\n",
       "      flex-wrap:wrap;\n",
       "      gap: 12px;\n",
       "    }\n",
       "\n",
       "    .colab-df-convert {\n",
       "      background-color: #E8F0FE;\n",
       "      border: none;\n",
       "      border-radius: 50%;\n",
       "      cursor: pointer;\n",
       "      display: none;\n",
       "      fill: #1967D2;\n",
       "      height: 32px;\n",
       "      padding: 0 0 0 0;\n",
       "      width: 32px;\n",
       "    }\n",
       "\n",
       "    .colab-df-convert:hover {\n",
       "      background-color: #E2EBFA;\n",
       "      box-shadow: 0px 1px 2px rgba(60, 64, 67, 0.3), 0px 1px 3px 1px rgba(60, 64, 67, 0.15);\n",
       "      fill: #174EA6;\n",
       "    }\n",
       "\n",
       "    [theme=dark] .colab-df-convert {\n",
       "      background-color: #3B4455;\n",
       "      fill: #D2E3FC;\n",
       "    }\n",
       "\n",
       "    [theme=dark] .colab-df-convert:hover {\n",
       "      background-color: #434B5C;\n",
       "      box-shadow: 0px 1px 3px 1px rgba(0, 0, 0, 0.15);\n",
       "      filter: drop-shadow(0px 1px 2px rgba(0, 0, 0, 0.3));\n",
       "      fill: #FFFFFF;\n",
       "    }\n",
       "  </style>\n",
       "\n",
       "      <script>\n",
       "        const buttonEl =\n",
       "          document.querySelector('#df-47f01c70-31aa-46ba-b35a-050409b44521 button.colab-df-convert');\n",
       "        buttonEl.style.display =\n",
       "          google.colab.kernel.accessAllowed ? 'block' : 'none';\n",
       "\n",
       "        async function convertToInteractive(key) {\n",
       "          const element = document.querySelector('#df-47f01c70-31aa-46ba-b35a-050409b44521');\n",
       "          const dataTable =\n",
       "            await google.colab.kernel.invokeFunction('convertToInteractive',\n",
       "                                                     [key], {});\n",
       "          if (!dataTable) return;\n",
       "\n",
       "          const docLinkHtml = 'Like what you see? Visit the ' +\n",
       "            '<a target=\"_blank\" href=https://colab.research.google.com/notebooks/data_table.ipynb>data table notebook</a>'\n",
       "            + ' to learn more about interactive tables.';\n",
       "          element.innerHTML = '';\n",
       "          dataTable['output_type'] = 'display_data';\n",
       "          await google.colab.output.renderOutput(dataTable, element);\n",
       "          const docLink = document.createElement('div');\n",
       "          docLink.innerHTML = docLinkHtml;\n",
       "          element.appendChild(docLink);\n",
       "        }\n",
       "      </script>\n",
       "    </div>\n",
       "  </div>\n",
       "  "
      ],
      "text/plain": [
       "          Threshold       TPR       FPR\n",
       "0      2.000000e+00  0.000000  0.000000\n",
       "1      1.000000e+00  0.109424  0.007263\n",
       "2      1.000000e+00  0.109511  0.007263\n",
       "3      1.000000e+00  0.110552  0.007263\n",
       "4      1.000000e+00  0.112548  0.007764\n",
       "...             ...       ...       ...\n",
       "3245   4.455482e-37  0.999826  0.998497\n",
       "3246   1.257650e-37  0.999913  0.998497\n",
       "3247   1.397226e-42  0.999913  0.998748\n",
       "3248   9.907691e-54  1.000000  0.998748\n",
       "3249  9.375785e-105  1.000000  1.000000\n",
       "\n",
       "[3250 rows x 3 columns]"
      ]
     },
     "execution_count": 116,
     "metadata": {},
     "output_type": "execute_result"
    }
   ],
   "source": [
    "# matrix of thresholds, tpr, fpr\n",
    "pd.DataFrame({'Threshold': thresholds, \n",
    "              'TPR': true_positive_rate, \n",
    "              'FPR':false_positive_rate\n",
    "             })"
   ]
  },
  {
   "cell_type": "code",
   "execution_count": null,
   "metadata": {
    "colab": {
     "base_uri": "https://localhost:8080/",
     "height": 312
    },
    "id": "IXkLA5qCjgjC",
    "outputId": "2ed16077-b5d8-4034-a25f-77ee65ab594f"
   },
   "outputs": [
    {
     "data": {
      "text/plain": [
       "[<matplotlib.lines.Line2D at 0x7f37b935b190>]"
      ]
     },
     "execution_count": 117,
     "metadata": {},
     "output_type": "execute_result"
    },
    {
     "data": {
      "image/png": "[encoded data removed]",
      "text/plain": [
       "<Figure size 432x288 with 1 Axes>"
      ]
     },
     "metadata": {
      "needs_background": "light"
     },
     "output_type": "display_data"
    }
   ],
   "source": [
    "# plotting the ROC curve\n",
    "%matplotlib inline  \n",
    "plt.ylabel('True Positive Rate')\n",
    "plt.xlabel('False Positive Rate')\n",
    "plt.title('ROC')\n",
    "plt.plot(false_positive_rate, true_positive_rate)"
   ]
  },
  {
   "cell_type": "markdown",
   "metadata": {
    "id": "2Qbx73odkcoR"
   },
   "source": [
    "Observation : Area under the curve is 89% is good. But certainly it could be have been improved more with stematize and lemmetatize methods."
   ]
  }
 ],
 "metadata": {
  "colab": {
   "collapsed_sections": [],
   "name": "Darshan Web_and_Social_Media_Analysis_Text Analysis.ipynb",
   "provenance": []
  },
  "kernelspec": {
   "display_name": "Python 3",
   "language": "python",
   "name": "python3"
  },
  "language_info": {
   "codemirror_mode": {
    "name": "ipython",
    "version": 3
   },
   "file_extension": ".py",
   "mimetype": "text/x-python",
   "name": "python",
   "nbconvert_exporter": "python",
   "pygments_lexer": "ipython3",
   "version": "3.8.8"
  }
 },
 "nbformat": 4,
 "nbformat_minor": 1
}
